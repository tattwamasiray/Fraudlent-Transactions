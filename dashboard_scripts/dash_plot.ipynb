{
 "cells": [
  {
   "cell_type": "code",
   "execution_count": 4,
   "metadata": {},
   "outputs": [],
   "source": [
    "# Importing dependencie\n",
    "# ----------------------------------------------------------------\n",
    "\n",
    "# * Analysis & Manipulation libraries\n",
    "import pandas as pd \n",
    "import numpy as np\n",
    "\n",
    "# * Dashboard creation libraries\n",
    "import plotly.express as px \n",
    "from dash import Dash, html, dcc\n",
    "from dash.dependencies import Output, Input\n",
    "from dash.exceptions import PreventUpdate\n",
    "from dash_bootstrap_templates import load_figure_template\n",
    "import dash_bootstrap_components as dbc"
   ]
  },
  {
   "cell_type": "code",
   "execution_count": 5,
   "metadata": {},
   "outputs": [
    {
     "data": {
      "text/html": [
       "<div>\n",
       "<style scoped>\n",
       "    .dataframe tbody tr th:only-of-type {\n",
       "        vertical-align: middle;\n",
       "    }\n",
       "\n",
       "    .dataframe tbody tr th {\n",
       "        vertical-align: top;\n",
       "    }\n",
       "\n",
       "    .dataframe thead th {\n",
       "        text-align: right;\n",
       "    }\n",
       "</style>\n",
       "<table border=\"1\" class=\"dataframe\">\n",
       "  <thead>\n",
       "    <tr style=\"text-align: right;\">\n",
       "      <th></th>\n",
       "      <th>Unnamed: 0</th>\n",
       "      <th>trans_date_trans_time</th>\n",
       "      <th>cc_num</th>\n",
       "      <th>merchant</th>\n",
       "      <th>category</th>\n",
       "      <th>amt</th>\n",
       "      <th>first</th>\n",
       "      <th>last</th>\n",
       "      <th>gender</th>\n",
       "      <th>street</th>\n",
       "      <th>...</th>\n",
       "      <th>lat</th>\n",
       "      <th>long</th>\n",
       "      <th>city_pop</th>\n",
       "      <th>job</th>\n",
       "      <th>dob</th>\n",
       "      <th>trans_num</th>\n",
       "      <th>unix_time</th>\n",
       "      <th>merch_lat</th>\n",
       "      <th>merch_long</th>\n",
       "      <th>is_fraud</th>\n",
       "    </tr>\n",
       "  </thead>\n",
       "  <tbody>\n",
       "    <tr>\n",
       "      <th>0</th>\n",
       "      <td>0</td>\n",
       "      <td>2020-06-21 12:14:25</td>\n",
       "      <td>2291163933867244</td>\n",
       "      <td>fraud_Kirlin and Sons</td>\n",
       "      <td>personal_care</td>\n",
       "      <td>2.86</td>\n",
       "      <td>Jeff</td>\n",
       "      <td>Elliott</td>\n",
       "      <td>M</td>\n",
       "      <td>351 Darlene Green</td>\n",
       "      <td>...</td>\n",
       "      <td>33.9659</td>\n",
       "      <td>-80.9355</td>\n",
       "      <td>333497</td>\n",
       "      <td>Mechanical engineer</td>\n",
       "      <td>1968-03-19</td>\n",
       "      <td>2da90c7d74bd46a0caf3777415b3ebd3</td>\n",
       "      <td>1371816865</td>\n",
       "      <td>33.986391</td>\n",
       "      <td>-81.200714</td>\n",
       "      <td>0</td>\n",
       "    </tr>\n",
       "    <tr>\n",
       "      <th>1</th>\n",
       "      <td>1</td>\n",
       "      <td>2020-06-21 12:14:33</td>\n",
       "      <td>3573030041201292</td>\n",
       "      <td>fraud_Sporer-Keebler</td>\n",
       "      <td>personal_care</td>\n",
       "      <td>29.84</td>\n",
       "      <td>Joanne</td>\n",
       "      <td>Williams</td>\n",
       "      <td>F</td>\n",
       "      <td>3638 Marsh Union</td>\n",
       "      <td>...</td>\n",
       "      <td>40.3207</td>\n",
       "      <td>-110.4360</td>\n",
       "      <td>302</td>\n",
       "      <td>Sales professional, IT</td>\n",
       "      <td>1990-01-17</td>\n",
       "      <td>324cc204407e99f51b0d6ca0055005e7</td>\n",
       "      <td>1371816873</td>\n",
       "      <td>39.450498</td>\n",
       "      <td>-109.960431</td>\n",
       "      <td>0</td>\n",
       "    </tr>\n",
       "    <tr>\n",
       "      <th>2</th>\n",
       "      <td>2</td>\n",
       "      <td>2020-06-21 12:14:53</td>\n",
       "      <td>3598215285024754</td>\n",
       "      <td>fraud_Swaniawski, Nitzsche and Welch</td>\n",
       "      <td>health_fitness</td>\n",
       "      <td>41.28</td>\n",
       "      <td>Ashley</td>\n",
       "      <td>Lopez</td>\n",
       "      <td>F</td>\n",
       "      <td>9333 Valentine Point</td>\n",
       "      <td>...</td>\n",
       "      <td>40.6729</td>\n",
       "      <td>-73.5365</td>\n",
       "      <td>34496</td>\n",
       "      <td>Librarian, public</td>\n",
       "      <td>1970-10-21</td>\n",
       "      <td>c81755dbbbea9d5c77f094348a7579be</td>\n",
       "      <td>1371816893</td>\n",
       "      <td>40.495810</td>\n",
       "      <td>-74.196111</td>\n",
       "      <td>0</td>\n",
       "    </tr>\n",
       "    <tr>\n",
       "      <th>3</th>\n",
       "      <td>3</td>\n",
       "      <td>2020-06-21 12:15:15</td>\n",
       "      <td>3591919803438423</td>\n",
       "      <td>fraud_Haley Group</td>\n",
       "      <td>misc_pos</td>\n",
       "      <td>60.05</td>\n",
       "      <td>Brian</td>\n",
       "      <td>Williams</td>\n",
       "      <td>M</td>\n",
       "      <td>32941 Krystal Mill Apt. 552</td>\n",
       "      <td>...</td>\n",
       "      <td>28.5697</td>\n",
       "      <td>-80.8191</td>\n",
       "      <td>54767</td>\n",
       "      <td>Set designer</td>\n",
       "      <td>1987-07-25</td>\n",
       "      <td>2159175b9efe66dc301f149d3d5abf8c</td>\n",
       "      <td>1371816915</td>\n",
       "      <td>28.812398</td>\n",
       "      <td>-80.883061</td>\n",
       "      <td>0</td>\n",
       "    </tr>\n",
       "    <tr>\n",
       "      <th>4</th>\n",
       "      <td>4</td>\n",
       "      <td>2020-06-21 12:15:17</td>\n",
       "      <td>3526826139003047</td>\n",
       "      <td>fraud_Johnston-Casper</td>\n",
       "      <td>travel</td>\n",
       "      <td>3.19</td>\n",
       "      <td>Nathan</td>\n",
       "      <td>Massey</td>\n",
       "      <td>M</td>\n",
       "      <td>5783 Evan Roads Apt. 465</td>\n",
       "      <td>...</td>\n",
       "      <td>44.2529</td>\n",
       "      <td>-85.0170</td>\n",
       "      <td>1126</td>\n",
       "      <td>Furniture designer</td>\n",
       "      <td>1955-07-06</td>\n",
       "      <td>57ff021bd3f328f8738bb535c302a31b</td>\n",
       "      <td>1371816917</td>\n",
       "      <td>44.959148</td>\n",
       "      <td>-85.884734</td>\n",
       "      <td>0</td>\n",
       "    </tr>\n",
       "  </tbody>\n",
       "</table>\n",
       "<p>5 rows × 23 columns</p>\n",
       "</div>"
      ],
      "text/plain": [
       "   Unnamed: 0 trans_date_trans_time            cc_num  \\\n",
       "0           0   2020-06-21 12:14:25  2291163933867244   \n",
       "1           1   2020-06-21 12:14:33  3573030041201292   \n",
       "2           2   2020-06-21 12:14:53  3598215285024754   \n",
       "3           3   2020-06-21 12:15:15  3591919803438423   \n",
       "4           4   2020-06-21 12:15:17  3526826139003047   \n",
       "\n",
       "                               merchant        category    amt   first  \\\n",
       "0                 fraud_Kirlin and Sons   personal_care   2.86    Jeff   \n",
       "1                  fraud_Sporer-Keebler   personal_care  29.84  Joanne   \n",
       "2  fraud_Swaniawski, Nitzsche and Welch  health_fitness  41.28  Ashley   \n",
       "3                     fraud_Haley Group        misc_pos  60.05   Brian   \n",
       "4                 fraud_Johnston-Casper          travel   3.19  Nathan   \n",
       "\n",
       "       last gender                       street  ...      lat      long  \\\n",
       "0   Elliott      M            351 Darlene Green  ...  33.9659  -80.9355   \n",
       "1  Williams      F             3638 Marsh Union  ...  40.3207 -110.4360   \n",
       "2     Lopez      F         9333 Valentine Point  ...  40.6729  -73.5365   \n",
       "3  Williams      M  32941 Krystal Mill Apt. 552  ...  28.5697  -80.8191   \n",
       "4    Massey      M     5783 Evan Roads Apt. 465  ...  44.2529  -85.0170   \n",
       "\n",
       "   city_pop                     job        dob  \\\n",
       "0    333497     Mechanical engineer 1968-03-19   \n",
       "1       302  Sales professional, IT 1990-01-17   \n",
       "2     34496       Librarian, public 1970-10-21   \n",
       "3     54767            Set designer 1987-07-25   \n",
       "4      1126      Furniture designer 1955-07-06   \n",
       "\n",
       "                          trans_num   unix_time  merch_lat  merch_long  \\\n",
       "0  2da90c7d74bd46a0caf3777415b3ebd3  1371816865  33.986391  -81.200714   \n",
       "1  324cc204407e99f51b0d6ca0055005e7  1371816873  39.450498 -109.960431   \n",
       "2  c81755dbbbea9d5c77f094348a7579be  1371816893  40.495810  -74.196111   \n",
       "3  2159175b9efe66dc301f149d3d5abf8c  1371816915  28.812398  -80.883061   \n",
       "4  57ff021bd3f328f8738bb535c302a31b  1371816917  44.959148  -85.884734   \n",
       "\n",
       "   is_fraud  \n",
       "0         0  \n",
       "1         0  \n",
       "2         0  \n",
       "3         0  \n",
       "4         0  \n",
       "\n",
       "[5 rows x 23 columns]"
      ]
     },
     "execution_count": 5,
     "metadata": {},
     "output_type": "execute_result"
    }
   ],
   "source": [
    "# Loading the dataset\n",
    "path = \"/Users/galbeeir/Desktop/git/Project 4 - Fradulent Transactions/fraudulent_transactions/ML_and_dashboard/datagen/CSVs/fraudTest.csv\"\n",
    "\n",
    "fraud_df = pd.read_csv(path, parse_dates=[\"trans_date_trans_time\", \"dob\"],infer_datetime_format=True)\n",
    "\n",
    "# Showing the first 5 results\n",
    "fraud_df.head()"
   ]
  },
  {
   "cell_type": "code",
   "execution_count": 6,
   "metadata": {},
   "outputs": [
    {
     "data": {
      "text/html": [
       "<div>\n",
       "<style scoped>\n",
       "    .dataframe tbody tr th:only-of-type {\n",
       "        vertical-align: middle;\n",
       "    }\n",
       "\n",
       "    .dataframe tbody tr th {\n",
       "        vertical-align: top;\n",
       "    }\n",
       "\n",
       "    .dataframe thead th {\n",
       "        text-align: right;\n",
       "    }\n",
       "</style>\n",
       "<table border=\"1\" class=\"dataframe\">\n",
       "  <thead>\n",
       "    <tr style=\"text-align: right;\">\n",
       "      <th></th>\n",
       "      <th>trans_date_trans_time</th>\n",
       "      <th>merchant</th>\n",
       "      <th>category</th>\n",
       "      <th>amt</th>\n",
       "      <th>first</th>\n",
       "      <th>last</th>\n",
       "      <th>gender</th>\n",
       "      <th>street</th>\n",
       "      <th>city</th>\n",
       "      <th>state</th>\n",
       "      <th>lat</th>\n",
       "      <th>long</th>\n",
       "      <th>city_pop</th>\n",
       "      <th>job</th>\n",
       "      <th>dob</th>\n",
       "      <th>trans_num</th>\n",
       "      <th>merch_lat</th>\n",
       "      <th>merch_long</th>\n",
       "      <th>is_fraud</th>\n",
       "    </tr>\n",
       "  </thead>\n",
       "  <tbody>\n",
       "    <tr>\n",
       "      <th>0</th>\n",
       "      <td>2020-06-21 12:14:25</td>\n",
       "      <td>fraud_Kirlin and Sons</td>\n",
       "      <td>personal_care</td>\n",
       "      <td>2.86</td>\n",
       "      <td>Jeff</td>\n",
       "      <td>Elliott</td>\n",
       "      <td>M</td>\n",
       "      <td>351 Darlene Green</td>\n",
       "      <td>Columbia</td>\n",
       "      <td>SC</td>\n",
       "      <td>33.9659</td>\n",
       "      <td>-80.9355</td>\n",
       "      <td>333497</td>\n",
       "      <td>Mechanical engineer</td>\n",
       "      <td>1968-03-19</td>\n",
       "      <td>2da90c7d74bd46a0caf3777415b3ebd3</td>\n",
       "      <td>33.986391</td>\n",
       "      <td>-81.200714</td>\n",
       "      <td>0</td>\n",
       "    </tr>\n",
       "    <tr>\n",
       "      <th>1</th>\n",
       "      <td>2020-06-21 12:14:33</td>\n",
       "      <td>fraud_Sporer-Keebler</td>\n",
       "      <td>personal_care</td>\n",
       "      <td>29.84</td>\n",
       "      <td>Joanne</td>\n",
       "      <td>Williams</td>\n",
       "      <td>F</td>\n",
       "      <td>3638 Marsh Union</td>\n",
       "      <td>Altonah</td>\n",
       "      <td>UT</td>\n",
       "      <td>40.3207</td>\n",
       "      <td>-110.4360</td>\n",
       "      <td>302</td>\n",
       "      <td>Sales professional, IT</td>\n",
       "      <td>1990-01-17</td>\n",
       "      <td>324cc204407e99f51b0d6ca0055005e7</td>\n",
       "      <td>39.450498</td>\n",
       "      <td>-109.960431</td>\n",
       "      <td>0</td>\n",
       "    </tr>\n",
       "    <tr>\n",
       "      <th>2</th>\n",
       "      <td>2020-06-21 12:14:53</td>\n",
       "      <td>fraud_Swaniawski, Nitzsche and Welch</td>\n",
       "      <td>health_fitness</td>\n",
       "      <td>41.28</td>\n",
       "      <td>Ashley</td>\n",
       "      <td>Lopez</td>\n",
       "      <td>F</td>\n",
       "      <td>9333 Valentine Point</td>\n",
       "      <td>Bellmore</td>\n",
       "      <td>NY</td>\n",
       "      <td>40.6729</td>\n",
       "      <td>-73.5365</td>\n",
       "      <td>34496</td>\n",
       "      <td>Librarian, public</td>\n",
       "      <td>1970-10-21</td>\n",
       "      <td>c81755dbbbea9d5c77f094348a7579be</td>\n",
       "      <td>40.495810</td>\n",
       "      <td>-74.196111</td>\n",
       "      <td>0</td>\n",
       "    </tr>\n",
       "    <tr>\n",
       "      <th>3</th>\n",
       "      <td>2020-06-21 12:15:15</td>\n",
       "      <td>fraud_Haley Group</td>\n",
       "      <td>misc_pos</td>\n",
       "      <td>60.05</td>\n",
       "      <td>Brian</td>\n",
       "      <td>Williams</td>\n",
       "      <td>M</td>\n",
       "      <td>32941 Krystal Mill Apt. 552</td>\n",
       "      <td>Titusville</td>\n",
       "      <td>FL</td>\n",
       "      <td>28.5697</td>\n",
       "      <td>-80.8191</td>\n",
       "      <td>54767</td>\n",
       "      <td>Set designer</td>\n",
       "      <td>1987-07-25</td>\n",
       "      <td>2159175b9efe66dc301f149d3d5abf8c</td>\n",
       "      <td>28.812398</td>\n",
       "      <td>-80.883061</td>\n",
       "      <td>0</td>\n",
       "    </tr>\n",
       "    <tr>\n",
       "      <th>4</th>\n",
       "      <td>2020-06-21 12:15:17</td>\n",
       "      <td>fraud_Johnston-Casper</td>\n",
       "      <td>travel</td>\n",
       "      <td>3.19</td>\n",
       "      <td>Nathan</td>\n",
       "      <td>Massey</td>\n",
       "      <td>M</td>\n",
       "      <td>5783 Evan Roads Apt. 465</td>\n",
       "      <td>Falmouth</td>\n",
       "      <td>MI</td>\n",
       "      <td>44.2529</td>\n",
       "      <td>-85.0170</td>\n",
       "      <td>1126</td>\n",
       "      <td>Furniture designer</td>\n",
       "      <td>1955-07-06</td>\n",
       "      <td>57ff021bd3f328f8738bb535c302a31b</td>\n",
       "      <td>44.959148</td>\n",
       "      <td>-85.884734</td>\n",
       "      <td>0</td>\n",
       "    </tr>\n",
       "  </tbody>\n",
       "</table>\n",
       "</div>"
      ],
      "text/plain": [
       "  trans_date_trans_time                              merchant        category  \\\n",
       "0   2020-06-21 12:14:25                 fraud_Kirlin and Sons   personal_care   \n",
       "1   2020-06-21 12:14:33                  fraud_Sporer-Keebler   personal_care   \n",
       "2   2020-06-21 12:14:53  fraud_Swaniawski, Nitzsche and Welch  health_fitness   \n",
       "3   2020-06-21 12:15:15                     fraud_Haley Group        misc_pos   \n",
       "4   2020-06-21 12:15:17                 fraud_Johnston-Casper          travel   \n",
       "\n",
       "     amt   first      last gender                       street        city  \\\n",
       "0   2.86    Jeff   Elliott      M            351 Darlene Green    Columbia   \n",
       "1  29.84  Joanne  Williams      F             3638 Marsh Union     Altonah   \n",
       "2  41.28  Ashley     Lopez      F         9333 Valentine Point    Bellmore   \n",
       "3  60.05   Brian  Williams      M  32941 Krystal Mill Apt. 552  Titusville   \n",
       "4   3.19  Nathan    Massey      M     5783 Evan Roads Apt. 465    Falmouth   \n",
       "\n",
       "  state      lat      long  city_pop                     job        dob  \\\n",
       "0    SC  33.9659  -80.9355    333497     Mechanical engineer 1968-03-19   \n",
       "1    UT  40.3207 -110.4360       302  Sales professional, IT 1990-01-17   \n",
       "2    NY  40.6729  -73.5365     34496       Librarian, public 1970-10-21   \n",
       "3    FL  28.5697  -80.8191     54767            Set designer 1987-07-25   \n",
       "4    MI  44.2529  -85.0170      1126      Furniture designer 1955-07-06   \n",
       "\n",
       "                          trans_num  merch_lat  merch_long  is_fraud  \n",
       "0  2da90c7d74bd46a0caf3777415b3ebd3  33.986391  -81.200714         0  \n",
       "1  324cc204407e99f51b0d6ca0055005e7  39.450498 -109.960431         0  \n",
       "2  c81755dbbbea9d5c77f094348a7579be  40.495810  -74.196111         0  \n",
       "3  2159175b9efe66dc301f149d3d5abf8c  28.812398  -80.883061         0  \n",
       "4  57ff021bd3f328f8738bb535c302a31b  44.959148  -85.884734         0  "
      ]
     },
     "execution_count": 6,
     "metadata": {},
     "output_type": "execute_result"
    }
   ],
   "source": [
    "# Dropping irrelevant columns\n",
    "columns_to_drop = [\"Unnamed: 0\", \"cc_num\", \"unix_time\", \"zip\"]\n",
    "fraud_df = fraud_df.drop(columns_to_drop, axis=1)\n",
    "fraud_df.head()"
   ]
  },
  {
   "cell_type": "code",
   "execution_count": 7,
   "metadata": {},
   "outputs": [
    {
     "data": {
      "text/plain": [
       "0                        Kirlin and Sons\n",
       "1                         Sporer-Keebler\n",
       "2         Swaniawski, Nitzsche and Welch\n",
       "3                            Haley Group\n",
       "4                        Johnston-Casper\n",
       "                       ...              \n",
       "555714                   Reilly and Sons\n",
       "555715                    Hoppe-Parisian\n",
       "555716                         Rau-Robel\n",
       "555717                   Breitenberg LLC\n",
       "555718                       Dare-Marvin\n",
       "Name: merchant, Length: 555719, dtype: object"
      ]
     },
     "execution_count": 7,
     "metadata": {},
     "output_type": "execute_result"
    }
   ],
   "source": [
    "# Formatting category & merchant\n",
    "fraud_df['merchant'] = fraud_df['merchant'].str.replace(\"fraud_\", \"\")\n",
    "fraud_df['merchant']\n"
   ]
  },
  {
   "cell_type": "code",
   "execution_count": 8,
   "metadata": {},
   "outputs": [
    {
     "data": {
      "text/plain": [
       "0          personal care\n",
       "1          personal care\n",
       "2         health fitness\n",
       "3               misc pos\n",
       "4                 travel\n",
       "               ...      \n",
       "555714    health fitness\n",
       "555715         kids pets\n",
       "555716         kids pets\n",
       "555717            travel\n",
       "555718     entertainment\n",
       "Name: category, Length: 555719, dtype: object"
      ]
     },
     "execution_count": 8,
     "metadata": {},
     "output_type": "execute_result"
    }
   ],
   "source": [
    "fraud_df['category'] = fraud_df['category'].str.replace(\"_\", \" \")\n",
    "fraud_df['category']"
   ]
  },
  {
   "cell_type": "code",
   "execution_count": 9,
   "metadata": {},
   "outputs": [],
   "source": [
    "fraud_df['category'] = fraud_df['category'].str.title()"
   ]
  },
  {
   "cell_type": "code",
   "execution_count": 10,
   "metadata": {},
   "outputs": [
    {
     "data": {
      "text/html": [
       "<div>\n",
       "<style scoped>\n",
       "    .dataframe tbody tr th:only-of-type {\n",
       "        vertical-align: middle;\n",
       "    }\n",
       "\n",
       "    .dataframe tbody tr th {\n",
       "        vertical-align: top;\n",
       "    }\n",
       "\n",
       "    .dataframe thead th {\n",
       "        text-align: right;\n",
       "    }\n",
       "</style>\n",
       "<table border=\"1\" class=\"dataframe\">\n",
       "  <thead>\n",
       "    <tr style=\"text-align: right;\">\n",
       "      <th></th>\n",
       "      <th>trans_date_trans_time</th>\n",
       "      <th>merchant</th>\n",
       "      <th>category</th>\n",
       "      <th>amt</th>\n",
       "      <th>first</th>\n",
       "      <th>last</th>\n",
       "      <th>gender</th>\n",
       "      <th>street</th>\n",
       "      <th>city</th>\n",
       "      <th>state</th>\n",
       "      <th>lat</th>\n",
       "      <th>long</th>\n",
       "      <th>city_pop</th>\n",
       "      <th>job</th>\n",
       "      <th>dob</th>\n",
       "      <th>trans_num</th>\n",
       "      <th>merch_lat</th>\n",
       "      <th>merch_long</th>\n",
       "      <th>is_fraud</th>\n",
       "    </tr>\n",
       "  </thead>\n",
       "  <tbody>\n",
       "    <tr>\n",
       "      <th>0</th>\n",
       "      <td>2020-06-21 12:14:25</td>\n",
       "      <td>Kirlin and Sons</td>\n",
       "      <td>Personal Care</td>\n",
       "      <td>2.86</td>\n",
       "      <td>Jeff</td>\n",
       "      <td>Elliott</td>\n",
       "      <td>M</td>\n",
       "      <td>351 Darlene Green</td>\n",
       "      <td>Columbia</td>\n",
       "      <td>SC</td>\n",
       "      <td>33.9659</td>\n",
       "      <td>-80.9355</td>\n",
       "      <td>333497</td>\n",
       "      <td>Mechanical engineer</td>\n",
       "      <td>1968-03-19</td>\n",
       "      <td>2da90c7d74bd46a0caf3777415b3ebd3</td>\n",
       "      <td>33.986391</td>\n",
       "      <td>-81.200714</td>\n",
       "      <td>0</td>\n",
       "    </tr>\n",
       "    <tr>\n",
       "      <th>1</th>\n",
       "      <td>2020-06-21 12:14:33</td>\n",
       "      <td>Sporer-Keebler</td>\n",
       "      <td>Personal Care</td>\n",
       "      <td>29.84</td>\n",
       "      <td>Joanne</td>\n",
       "      <td>Williams</td>\n",
       "      <td>F</td>\n",
       "      <td>3638 Marsh Union</td>\n",
       "      <td>Altonah</td>\n",
       "      <td>UT</td>\n",
       "      <td>40.3207</td>\n",
       "      <td>-110.4360</td>\n",
       "      <td>302</td>\n",
       "      <td>Sales professional, IT</td>\n",
       "      <td>1990-01-17</td>\n",
       "      <td>324cc204407e99f51b0d6ca0055005e7</td>\n",
       "      <td>39.450498</td>\n",
       "      <td>-109.960431</td>\n",
       "      <td>0</td>\n",
       "    </tr>\n",
       "    <tr>\n",
       "      <th>2</th>\n",
       "      <td>2020-06-21 12:14:53</td>\n",
       "      <td>Swaniawski, Nitzsche and Welch</td>\n",
       "      <td>Health Fitness</td>\n",
       "      <td>41.28</td>\n",
       "      <td>Ashley</td>\n",
       "      <td>Lopez</td>\n",
       "      <td>F</td>\n",
       "      <td>9333 Valentine Point</td>\n",
       "      <td>Bellmore</td>\n",
       "      <td>NY</td>\n",
       "      <td>40.6729</td>\n",
       "      <td>-73.5365</td>\n",
       "      <td>34496</td>\n",
       "      <td>Librarian, public</td>\n",
       "      <td>1970-10-21</td>\n",
       "      <td>c81755dbbbea9d5c77f094348a7579be</td>\n",
       "      <td>40.495810</td>\n",
       "      <td>-74.196111</td>\n",
       "      <td>0</td>\n",
       "    </tr>\n",
       "    <tr>\n",
       "      <th>3</th>\n",
       "      <td>2020-06-21 12:15:15</td>\n",
       "      <td>Haley Group</td>\n",
       "      <td>Misc Pos</td>\n",
       "      <td>60.05</td>\n",
       "      <td>Brian</td>\n",
       "      <td>Williams</td>\n",
       "      <td>M</td>\n",
       "      <td>32941 Krystal Mill Apt. 552</td>\n",
       "      <td>Titusville</td>\n",
       "      <td>FL</td>\n",
       "      <td>28.5697</td>\n",
       "      <td>-80.8191</td>\n",
       "      <td>54767</td>\n",
       "      <td>Set designer</td>\n",
       "      <td>1987-07-25</td>\n",
       "      <td>2159175b9efe66dc301f149d3d5abf8c</td>\n",
       "      <td>28.812398</td>\n",
       "      <td>-80.883061</td>\n",
       "      <td>0</td>\n",
       "    </tr>\n",
       "    <tr>\n",
       "      <th>4</th>\n",
       "      <td>2020-06-21 12:15:17</td>\n",
       "      <td>Johnston-Casper</td>\n",
       "      <td>Travel</td>\n",
       "      <td>3.19</td>\n",
       "      <td>Nathan</td>\n",
       "      <td>Massey</td>\n",
       "      <td>M</td>\n",
       "      <td>5783 Evan Roads Apt. 465</td>\n",
       "      <td>Falmouth</td>\n",
       "      <td>MI</td>\n",
       "      <td>44.2529</td>\n",
       "      <td>-85.0170</td>\n",
       "      <td>1126</td>\n",
       "      <td>Furniture designer</td>\n",
       "      <td>1955-07-06</td>\n",
       "      <td>57ff021bd3f328f8738bb535c302a31b</td>\n",
       "      <td>44.959148</td>\n",
       "      <td>-85.884734</td>\n",
       "      <td>0</td>\n",
       "    </tr>\n",
       "  </tbody>\n",
       "</table>\n",
       "</div>"
      ],
      "text/plain": [
       "  trans_date_trans_time                        merchant        category  \\\n",
       "0   2020-06-21 12:14:25                 Kirlin and Sons   Personal Care   \n",
       "1   2020-06-21 12:14:33                  Sporer-Keebler   Personal Care   \n",
       "2   2020-06-21 12:14:53  Swaniawski, Nitzsche and Welch  Health Fitness   \n",
       "3   2020-06-21 12:15:15                     Haley Group        Misc Pos   \n",
       "4   2020-06-21 12:15:17                 Johnston-Casper          Travel   \n",
       "\n",
       "     amt   first      last gender                       street        city  \\\n",
       "0   2.86    Jeff   Elliott      M            351 Darlene Green    Columbia   \n",
       "1  29.84  Joanne  Williams      F             3638 Marsh Union     Altonah   \n",
       "2  41.28  Ashley     Lopez      F         9333 Valentine Point    Bellmore   \n",
       "3  60.05   Brian  Williams      M  32941 Krystal Mill Apt. 552  Titusville   \n",
       "4   3.19  Nathan    Massey      M     5783 Evan Roads Apt. 465    Falmouth   \n",
       "\n",
       "  state      lat      long  city_pop                     job        dob  \\\n",
       "0    SC  33.9659  -80.9355    333497     Mechanical engineer 1968-03-19   \n",
       "1    UT  40.3207 -110.4360       302  Sales professional, IT 1990-01-17   \n",
       "2    NY  40.6729  -73.5365     34496       Librarian, public 1970-10-21   \n",
       "3    FL  28.5697  -80.8191     54767            Set designer 1987-07-25   \n",
       "4    MI  44.2529  -85.0170      1126      Furniture designer 1955-07-06   \n",
       "\n",
       "                          trans_num  merch_lat  merch_long  is_fraud  \n",
       "0  2da90c7d74bd46a0caf3777415b3ebd3  33.986391  -81.200714         0  \n",
       "1  324cc204407e99f51b0d6ca0055005e7  39.450498 -109.960431         0  \n",
       "2  c81755dbbbea9d5c77f094348a7579be  40.495810  -74.196111         0  \n",
       "3  2159175b9efe66dc301f149d3d5abf8c  28.812398  -80.883061         0  \n",
       "4  57ff021bd3f328f8738bb535c302a31b  44.959148  -85.884734         0  "
      ]
     },
     "execution_count": 10,
     "metadata": {},
     "output_type": "execute_result"
    }
   ],
   "source": [
    "fraud_df.head()"
   ]
  },
  {
   "cell_type": "code",
   "execution_count": 11,
   "metadata": {},
   "outputs": [
    {
     "data": {
      "text/html": [
       "<div>\n",
       "<style scoped>\n",
       "    .dataframe tbody tr th:only-of-type {\n",
       "        vertical-align: middle;\n",
       "    }\n",
       "\n",
       "    .dataframe tbody tr th {\n",
       "        vertical-align: top;\n",
       "    }\n",
       "\n",
       "    .dataframe thead th {\n",
       "        text-align: right;\n",
       "    }\n",
       "</style>\n",
       "<table border=\"1\" class=\"dataframe\">\n",
       "  <thead>\n",
       "    <tr style=\"text-align: right;\">\n",
       "      <th></th>\n",
       "      <th>trans_date_trans_time</th>\n",
       "      <th>merchant</th>\n",
       "      <th>category</th>\n",
       "      <th>amt</th>\n",
       "      <th>first</th>\n",
       "      <th>last</th>\n",
       "      <th>gender</th>\n",
       "      <th>street</th>\n",
       "      <th>city</th>\n",
       "      <th>state</th>\n",
       "      <th>lat</th>\n",
       "      <th>long</th>\n",
       "      <th>city_pop</th>\n",
       "      <th>job</th>\n",
       "      <th>dob</th>\n",
       "      <th>trans_num</th>\n",
       "      <th>merch_lat</th>\n",
       "      <th>merch_long</th>\n",
       "      <th>is_fraud</th>\n",
       "      <th>age</th>\n",
       "    </tr>\n",
       "  </thead>\n",
       "  <tbody>\n",
       "    <tr>\n",
       "      <th>0</th>\n",
       "      <td>2020-06-21 12:14:25</td>\n",
       "      <td>Kirlin and Sons</td>\n",
       "      <td>Personal Care</td>\n",
       "      <td>2.86</td>\n",
       "      <td>Jeff</td>\n",
       "      <td>Elliott</td>\n",
       "      <td>M</td>\n",
       "      <td>351 Darlene Green</td>\n",
       "      <td>Columbia</td>\n",
       "      <td>SC</td>\n",
       "      <td>33.9659</td>\n",
       "      <td>-80.9355</td>\n",
       "      <td>333497</td>\n",
       "      <td>Mechanical engineer</td>\n",
       "      <td>1968-03-19</td>\n",
       "      <td>2da90c7d74bd46a0caf3777415b3ebd3</td>\n",
       "      <td>33.986391</td>\n",
       "      <td>-81.200714</td>\n",
       "      <td>0</td>\n",
       "      <td>52</td>\n",
       "    </tr>\n",
       "    <tr>\n",
       "      <th>1</th>\n",
       "      <td>2020-06-21 12:14:33</td>\n",
       "      <td>Sporer-Keebler</td>\n",
       "      <td>Personal Care</td>\n",
       "      <td>29.84</td>\n",
       "      <td>Joanne</td>\n",
       "      <td>Williams</td>\n",
       "      <td>F</td>\n",
       "      <td>3638 Marsh Union</td>\n",
       "      <td>Altonah</td>\n",
       "      <td>UT</td>\n",
       "      <td>40.3207</td>\n",
       "      <td>-110.4360</td>\n",
       "      <td>302</td>\n",
       "      <td>Sales professional, IT</td>\n",
       "      <td>1990-01-17</td>\n",
       "      <td>324cc204407e99f51b0d6ca0055005e7</td>\n",
       "      <td>39.450498</td>\n",
       "      <td>-109.960431</td>\n",
       "      <td>0</td>\n",
       "      <td>30</td>\n",
       "    </tr>\n",
       "    <tr>\n",
       "      <th>2</th>\n",
       "      <td>2020-06-21 12:14:53</td>\n",
       "      <td>Swaniawski, Nitzsche and Welch</td>\n",
       "      <td>Health Fitness</td>\n",
       "      <td>41.28</td>\n",
       "      <td>Ashley</td>\n",
       "      <td>Lopez</td>\n",
       "      <td>F</td>\n",
       "      <td>9333 Valentine Point</td>\n",
       "      <td>Bellmore</td>\n",
       "      <td>NY</td>\n",
       "      <td>40.6729</td>\n",
       "      <td>-73.5365</td>\n",
       "      <td>34496</td>\n",
       "      <td>Librarian, public</td>\n",
       "      <td>1970-10-21</td>\n",
       "      <td>c81755dbbbea9d5c77f094348a7579be</td>\n",
       "      <td>40.495810</td>\n",
       "      <td>-74.196111</td>\n",
       "      <td>0</td>\n",
       "      <td>49</td>\n",
       "    </tr>\n",
       "    <tr>\n",
       "      <th>3</th>\n",
       "      <td>2020-06-21 12:15:15</td>\n",
       "      <td>Haley Group</td>\n",
       "      <td>Misc Pos</td>\n",
       "      <td>60.05</td>\n",
       "      <td>Brian</td>\n",
       "      <td>Williams</td>\n",
       "      <td>M</td>\n",
       "      <td>32941 Krystal Mill Apt. 552</td>\n",
       "      <td>Titusville</td>\n",
       "      <td>FL</td>\n",
       "      <td>28.5697</td>\n",
       "      <td>-80.8191</td>\n",
       "      <td>54767</td>\n",
       "      <td>Set designer</td>\n",
       "      <td>1987-07-25</td>\n",
       "      <td>2159175b9efe66dc301f149d3d5abf8c</td>\n",
       "      <td>28.812398</td>\n",
       "      <td>-80.883061</td>\n",
       "      <td>0</td>\n",
       "      <td>32</td>\n",
       "    </tr>\n",
       "    <tr>\n",
       "      <th>4</th>\n",
       "      <td>2020-06-21 12:15:17</td>\n",
       "      <td>Johnston-Casper</td>\n",
       "      <td>Travel</td>\n",
       "      <td>3.19</td>\n",
       "      <td>Nathan</td>\n",
       "      <td>Massey</td>\n",
       "      <td>M</td>\n",
       "      <td>5783 Evan Roads Apt. 465</td>\n",
       "      <td>Falmouth</td>\n",
       "      <td>MI</td>\n",
       "      <td>44.2529</td>\n",
       "      <td>-85.0170</td>\n",
       "      <td>1126</td>\n",
       "      <td>Furniture designer</td>\n",
       "      <td>1955-07-06</td>\n",
       "      <td>57ff021bd3f328f8738bb535c302a31b</td>\n",
       "      <td>44.959148</td>\n",
       "      <td>-85.884734</td>\n",
       "      <td>0</td>\n",
       "      <td>65</td>\n",
       "    </tr>\n",
       "  </tbody>\n",
       "</table>\n",
       "</div>"
      ],
      "text/plain": [
       "  trans_date_trans_time                        merchant        category  \\\n",
       "0   2020-06-21 12:14:25                 Kirlin and Sons   Personal Care   \n",
       "1   2020-06-21 12:14:33                  Sporer-Keebler   Personal Care   \n",
       "2   2020-06-21 12:14:53  Swaniawski, Nitzsche and Welch  Health Fitness   \n",
       "3   2020-06-21 12:15:15                     Haley Group        Misc Pos   \n",
       "4   2020-06-21 12:15:17                 Johnston-Casper          Travel   \n",
       "\n",
       "     amt   first      last gender                       street        city  \\\n",
       "0   2.86    Jeff   Elliott      M            351 Darlene Green    Columbia   \n",
       "1  29.84  Joanne  Williams      F             3638 Marsh Union     Altonah   \n",
       "2  41.28  Ashley     Lopez      F         9333 Valentine Point    Bellmore   \n",
       "3  60.05   Brian  Williams      M  32941 Krystal Mill Apt. 552  Titusville   \n",
       "4   3.19  Nathan    Massey      M     5783 Evan Roads Apt. 465    Falmouth   \n",
       "\n",
       "  state      lat      long  city_pop                     job        dob  \\\n",
       "0    SC  33.9659  -80.9355    333497     Mechanical engineer 1968-03-19   \n",
       "1    UT  40.3207 -110.4360       302  Sales professional, IT 1990-01-17   \n",
       "2    NY  40.6729  -73.5365     34496       Librarian, public 1970-10-21   \n",
       "3    FL  28.5697  -80.8191     54767            Set designer 1987-07-25   \n",
       "4    MI  44.2529  -85.0170      1126      Furniture designer 1955-07-06   \n",
       "\n",
       "                          trans_num  merch_lat  merch_long  is_fraud  age  \n",
       "0  2da90c7d74bd46a0caf3777415b3ebd3  33.986391  -81.200714         0   52  \n",
       "1  324cc204407e99f51b0d6ca0055005e7  39.450498 -109.960431         0   30  \n",
       "2  c81755dbbbea9d5c77f094348a7579be  40.495810  -74.196111         0   49  \n",
       "3  2159175b9efe66dc301f149d3d5abf8c  28.812398  -80.883061         0   32  \n",
       "4  57ff021bd3f328f8738bb535c302a31b  44.959148  -85.884734         0   65  "
      ]
     },
     "execution_count": 11,
     "metadata": {},
     "output_type": "execute_result"
    }
   ],
   "source": [
    "# Calculating the age of the person at the time of the transaction\n",
    "fraud_df['age'] = (fraud_df['trans_date_trans_time'] - fraud_df['dob']).apply(lambda x: x.days // 365)\n",
    "\n",
    "fraud_df.head()"
   ]
  },
  {
   "cell_type": "code",
   "execution_count": 12,
   "metadata": {},
   "outputs": [
    {
     "data": {
      "text/html": [
       "<div>\n",
       "<style scoped>\n",
       "    .dataframe tbody tr th:only-of-type {\n",
       "        vertical-align: middle;\n",
       "    }\n",
       "\n",
       "    .dataframe tbody tr th {\n",
       "        vertical-align: top;\n",
       "    }\n",
       "\n",
       "    .dataframe thead th {\n",
       "        text-align: right;\n",
       "    }\n",
       "</style>\n",
       "<table border=\"1\" class=\"dataframe\">\n",
       "  <thead>\n",
       "    <tr style=\"text-align: right;\">\n",
       "      <th></th>\n",
       "      <th>trans_date_trans_time</th>\n",
       "      <th>merchant</th>\n",
       "      <th>category</th>\n",
       "      <th>amt</th>\n",
       "      <th>first</th>\n",
       "      <th>last</th>\n",
       "      <th>gender</th>\n",
       "      <th>street</th>\n",
       "      <th>city</th>\n",
       "      <th>state</th>\n",
       "      <th>lat</th>\n",
       "      <th>long</th>\n",
       "      <th>city_pop</th>\n",
       "      <th>job</th>\n",
       "      <th>trans_num</th>\n",
       "      <th>merch_lat</th>\n",
       "      <th>merch_long</th>\n",
       "      <th>is_fraud</th>\n",
       "      <th>age</th>\n",
       "    </tr>\n",
       "  </thead>\n",
       "  <tbody>\n",
       "    <tr>\n",
       "      <th>0</th>\n",
       "      <td>2020-06-21 12:14:25</td>\n",
       "      <td>Kirlin and Sons</td>\n",
       "      <td>Personal Care</td>\n",
       "      <td>2.86</td>\n",
       "      <td>Jeff</td>\n",
       "      <td>Elliott</td>\n",
       "      <td>M</td>\n",
       "      <td>351 Darlene Green</td>\n",
       "      <td>Columbia</td>\n",
       "      <td>SC</td>\n",
       "      <td>33.9659</td>\n",
       "      <td>-80.9355</td>\n",
       "      <td>333497</td>\n",
       "      <td>Mechanical engineer</td>\n",
       "      <td>2da90c7d74bd46a0caf3777415b3ebd3</td>\n",
       "      <td>33.986391</td>\n",
       "      <td>-81.200714</td>\n",
       "      <td>0</td>\n",
       "      <td>52</td>\n",
       "    </tr>\n",
       "    <tr>\n",
       "      <th>1</th>\n",
       "      <td>2020-06-21 12:14:33</td>\n",
       "      <td>Sporer-Keebler</td>\n",
       "      <td>Personal Care</td>\n",
       "      <td>29.84</td>\n",
       "      <td>Joanne</td>\n",
       "      <td>Williams</td>\n",
       "      <td>F</td>\n",
       "      <td>3638 Marsh Union</td>\n",
       "      <td>Altonah</td>\n",
       "      <td>UT</td>\n",
       "      <td>40.3207</td>\n",
       "      <td>-110.4360</td>\n",
       "      <td>302</td>\n",
       "      <td>Sales professional, IT</td>\n",
       "      <td>324cc204407e99f51b0d6ca0055005e7</td>\n",
       "      <td>39.450498</td>\n",
       "      <td>-109.960431</td>\n",
       "      <td>0</td>\n",
       "      <td>30</td>\n",
       "    </tr>\n",
       "    <tr>\n",
       "      <th>2</th>\n",
       "      <td>2020-06-21 12:14:53</td>\n",
       "      <td>Swaniawski, Nitzsche and Welch</td>\n",
       "      <td>Health Fitness</td>\n",
       "      <td>41.28</td>\n",
       "      <td>Ashley</td>\n",
       "      <td>Lopez</td>\n",
       "      <td>F</td>\n",
       "      <td>9333 Valentine Point</td>\n",
       "      <td>Bellmore</td>\n",
       "      <td>NY</td>\n",
       "      <td>40.6729</td>\n",
       "      <td>-73.5365</td>\n",
       "      <td>34496</td>\n",
       "      <td>Librarian, public</td>\n",
       "      <td>c81755dbbbea9d5c77f094348a7579be</td>\n",
       "      <td>40.495810</td>\n",
       "      <td>-74.196111</td>\n",
       "      <td>0</td>\n",
       "      <td>49</td>\n",
       "    </tr>\n",
       "    <tr>\n",
       "      <th>3</th>\n",
       "      <td>2020-06-21 12:15:15</td>\n",
       "      <td>Haley Group</td>\n",
       "      <td>Misc Pos</td>\n",
       "      <td>60.05</td>\n",
       "      <td>Brian</td>\n",
       "      <td>Williams</td>\n",
       "      <td>M</td>\n",
       "      <td>32941 Krystal Mill Apt. 552</td>\n",
       "      <td>Titusville</td>\n",
       "      <td>FL</td>\n",
       "      <td>28.5697</td>\n",
       "      <td>-80.8191</td>\n",
       "      <td>54767</td>\n",
       "      <td>Set designer</td>\n",
       "      <td>2159175b9efe66dc301f149d3d5abf8c</td>\n",
       "      <td>28.812398</td>\n",
       "      <td>-80.883061</td>\n",
       "      <td>0</td>\n",
       "      <td>32</td>\n",
       "    </tr>\n",
       "    <tr>\n",
       "      <th>4</th>\n",
       "      <td>2020-06-21 12:15:17</td>\n",
       "      <td>Johnston-Casper</td>\n",
       "      <td>Travel</td>\n",
       "      <td>3.19</td>\n",
       "      <td>Nathan</td>\n",
       "      <td>Massey</td>\n",
       "      <td>M</td>\n",
       "      <td>5783 Evan Roads Apt. 465</td>\n",
       "      <td>Falmouth</td>\n",
       "      <td>MI</td>\n",
       "      <td>44.2529</td>\n",
       "      <td>-85.0170</td>\n",
       "      <td>1126</td>\n",
       "      <td>Furniture designer</td>\n",
       "      <td>57ff021bd3f328f8738bb535c302a31b</td>\n",
       "      <td>44.959148</td>\n",
       "      <td>-85.884734</td>\n",
       "      <td>0</td>\n",
       "      <td>65</td>\n",
       "    </tr>\n",
       "  </tbody>\n",
       "</table>\n",
       "</div>"
      ],
      "text/plain": [
       "  trans_date_trans_time                        merchant        category  \\\n",
       "0   2020-06-21 12:14:25                 Kirlin and Sons   Personal Care   \n",
       "1   2020-06-21 12:14:33                  Sporer-Keebler   Personal Care   \n",
       "2   2020-06-21 12:14:53  Swaniawski, Nitzsche and Welch  Health Fitness   \n",
       "3   2020-06-21 12:15:15                     Haley Group        Misc Pos   \n",
       "4   2020-06-21 12:15:17                 Johnston-Casper          Travel   \n",
       "\n",
       "     amt   first      last gender                       street        city  \\\n",
       "0   2.86    Jeff   Elliott      M            351 Darlene Green    Columbia   \n",
       "1  29.84  Joanne  Williams      F             3638 Marsh Union     Altonah   \n",
       "2  41.28  Ashley     Lopez      F         9333 Valentine Point    Bellmore   \n",
       "3  60.05   Brian  Williams      M  32941 Krystal Mill Apt. 552  Titusville   \n",
       "4   3.19  Nathan    Massey      M     5783 Evan Roads Apt. 465    Falmouth   \n",
       "\n",
       "  state      lat      long  city_pop                     job  \\\n",
       "0    SC  33.9659  -80.9355    333497     Mechanical engineer   \n",
       "1    UT  40.3207 -110.4360       302  Sales professional, IT   \n",
       "2    NY  40.6729  -73.5365     34496       Librarian, public   \n",
       "3    FL  28.5697  -80.8191     54767            Set designer   \n",
       "4    MI  44.2529  -85.0170      1126      Furniture designer   \n",
       "\n",
       "                          trans_num  merch_lat  merch_long  is_fraud  age  \n",
       "0  2da90c7d74bd46a0caf3777415b3ebd3  33.986391  -81.200714         0   52  \n",
       "1  324cc204407e99f51b0d6ca0055005e7  39.450498 -109.960431         0   30  \n",
       "2  c81755dbbbea9d5c77f094348a7579be  40.495810  -74.196111         0   49  \n",
       "3  2159175b9efe66dc301f149d3d5abf8c  28.812398  -80.883061         0   32  \n",
       "4  57ff021bd3f328f8738bb535c302a31b  44.959148  -85.884734         0   65  "
      ]
     },
     "execution_count": 12,
     "metadata": {},
     "output_type": "execute_result"
    }
   ],
   "source": [
    "# Dropping the dob column\n",
    "fraud_df = fraud_df.drop('dob', axis=1)\n",
    "\n",
    "fraud_df.head()"
   ]
  },
  {
   "cell_type": "code",
   "execution_count": 13,
   "metadata": {},
   "outputs": [
    {
     "data": {
      "text/html": [
       "<div>\n",
       "<style scoped>\n",
       "    .dataframe tbody tr th:only-of-type {\n",
       "        vertical-align: middle;\n",
       "    }\n",
       "\n",
       "    .dataframe tbody tr th {\n",
       "        vertical-align: top;\n",
       "    }\n",
       "\n",
       "    .dataframe thead th {\n",
       "        text-align: right;\n",
       "    }\n",
       "</style>\n",
       "<table border=\"1\" class=\"dataframe\">\n",
       "  <thead>\n",
       "    <tr style=\"text-align: right;\">\n",
       "      <th></th>\n",
       "      <th>trans_date_trans_time</th>\n",
       "      <th>merchant</th>\n",
       "      <th>category</th>\n",
       "      <th>amt</th>\n",
       "      <th>first</th>\n",
       "      <th>last</th>\n",
       "      <th>gender</th>\n",
       "      <th>street</th>\n",
       "      <th>city</th>\n",
       "      <th>state</th>\n",
       "      <th>lat</th>\n",
       "      <th>long</th>\n",
       "      <th>city_pop</th>\n",
       "      <th>job</th>\n",
       "      <th>trans_num</th>\n",
       "      <th>merch_lat</th>\n",
       "      <th>merch_long</th>\n",
       "      <th>is_fraud</th>\n",
       "      <th>age</th>\n",
       "    </tr>\n",
       "  </thead>\n",
       "  <tbody>\n",
       "    <tr>\n",
       "      <th>0</th>\n",
       "      <td>2020-06-21 12:14:25</td>\n",
       "      <td>Kirlin and Sons</td>\n",
       "      <td>Personal Care</td>\n",
       "      <td>2.86</td>\n",
       "      <td>Jeff</td>\n",
       "      <td>Elliott</td>\n",
       "      <td>Male</td>\n",
       "      <td>351 Darlene Green</td>\n",
       "      <td>Columbia</td>\n",
       "      <td>SC</td>\n",
       "      <td>33.9659</td>\n",
       "      <td>-80.9355</td>\n",
       "      <td>333497</td>\n",
       "      <td>Mechanical engineer</td>\n",
       "      <td>2da90c7d74bd46a0caf3777415b3ebd3</td>\n",
       "      <td>33.986391</td>\n",
       "      <td>-81.200714</td>\n",
       "      <td>0</td>\n",
       "      <td>52</td>\n",
       "    </tr>\n",
       "    <tr>\n",
       "      <th>1</th>\n",
       "      <td>2020-06-21 12:14:33</td>\n",
       "      <td>Sporer-Keebler</td>\n",
       "      <td>Personal Care</td>\n",
       "      <td>29.84</td>\n",
       "      <td>Joanne</td>\n",
       "      <td>Williams</td>\n",
       "      <td>Female</td>\n",
       "      <td>3638 Marsh Union</td>\n",
       "      <td>Altonah</td>\n",
       "      <td>UT</td>\n",
       "      <td>40.3207</td>\n",
       "      <td>-110.4360</td>\n",
       "      <td>302</td>\n",
       "      <td>Sales professional, IT</td>\n",
       "      <td>324cc204407e99f51b0d6ca0055005e7</td>\n",
       "      <td>39.450498</td>\n",
       "      <td>-109.960431</td>\n",
       "      <td>0</td>\n",
       "      <td>30</td>\n",
       "    </tr>\n",
       "    <tr>\n",
       "      <th>2</th>\n",
       "      <td>2020-06-21 12:14:53</td>\n",
       "      <td>Swaniawski, Nitzsche and Welch</td>\n",
       "      <td>Health Fitness</td>\n",
       "      <td>41.28</td>\n",
       "      <td>Ashley</td>\n",
       "      <td>Lopez</td>\n",
       "      <td>Female</td>\n",
       "      <td>9333 Valentine Point</td>\n",
       "      <td>Bellmore</td>\n",
       "      <td>NY</td>\n",
       "      <td>40.6729</td>\n",
       "      <td>-73.5365</td>\n",
       "      <td>34496</td>\n",
       "      <td>Librarian, public</td>\n",
       "      <td>c81755dbbbea9d5c77f094348a7579be</td>\n",
       "      <td>40.495810</td>\n",
       "      <td>-74.196111</td>\n",
       "      <td>0</td>\n",
       "      <td>49</td>\n",
       "    </tr>\n",
       "    <tr>\n",
       "      <th>3</th>\n",
       "      <td>2020-06-21 12:15:15</td>\n",
       "      <td>Haley Group</td>\n",
       "      <td>Misc Pos</td>\n",
       "      <td>60.05</td>\n",
       "      <td>Brian</td>\n",
       "      <td>Williams</td>\n",
       "      <td>Male</td>\n",
       "      <td>32941 Krystal Mill Apt. 552</td>\n",
       "      <td>Titusville</td>\n",
       "      <td>FL</td>\n",
       "      <td>28.5697</td>\n",
       "      <td>-80.8191</td>\n",
       "      <td>54767</td>\n",
       "      <td>Set designer</td>\n",
       "      <td>2159175b9efe66dc301f149d3d5abf8c</td>\n",
       "      <td>28.812398</td>\n",
       "      <td>-80.883061</td>\n",
       "      <td>0</td>\n",
       "      <td>32</td>\n",
       "    </tr>\n",
       "    <tr>\n",
       "      <th>4</th>\n",
       "      <td>2020-06-21 12:15:17</td>\n",
       "      <td>Johnston-Casper</td>\n",
       "      <td>Travel</td>\n",
       "      <td>3.19</td>\n",
       "      <td>Nathan</td>\n",
       "      <td>Massey</td>\n",
       "      <td>Male</td>\n",
       "      <td>5783 Evan Roads Apt. 465</td>\n",
       "      <td>Falmouth</td>\n",
       "      <td>MI</td>\n",
       "      <td>44.2529</td>\n",
       "      <td>-85.0170</td>\n",
       "      <td>1126</td>\n",
       "      <td>Furniture designer</td>\n",
       "      <td>57ff021bd3f328f8738bb535c302a31b</td>\n",
       "      <td>44.959148</td>\n",
       "      <td>-85.884734</td>\n",
       "      <td>0</td>\n",
       "      <td>65</td>\n",
       "    </tr>\n",
       "  </tbody>\n",
       "</table>\n",
       "</div>"
      ],
      "text/plain": [
       "  trans_date_trans_time                        merchant        category  \\\n",
       "0   2020-06-21 12:14:25                 Kirlin and Sons   Personal Care   \n",
       "1   2020-06-21 12:14:33                  Sporer-Keebler   Personal Care   \n",
       "2   2020-06-21 12:14:53  Swaniawski, Nitzsche and Welch  Health Fitness   \n",
       "3   2020-06-21 12:15:15                     Haley Group        Misc Pos   \n",
       "4   2020-06-21 12:15:17                 Johnston-Casper          Travel   \n",
       "\n",
       "     amt   first      last  gender                       street        city  \\\n",
       "0   2.86    Jeff   Elliott    Male            351 Darlene Green    Columbia   \n",
       "1  29.84  Joanne  Williams  Female             3638 Marsh Union     Altonah   \n",
       "2  41.28  Ashley     Lopez  Female         9333 Valentine Point    Bellmore   \n",
       "3  60.05   Brian  Williams    Male  32941 Krystal Mill Apt. 552  Titusville   \n",
       "4   3.19  Nathan    Massey    Male     5783 Evan Roads Apt. 465    Falmouth   \n",
       "\n",
       "  state      lat      long  city_pop                     job  \\\n",
       "0    SC  33.9659  -80.9355    333497     Mechanical engineer   \n",
       "1    UT  40.3207 -110.4360       302  Sales professional, IT   \n",
       "2    NY  40.6729  -73.5365     34496       Librarian, public   \n",
       "3    FL  28.5697  -80.8191     54767            Set designer   \n",
       "4    MI  44.2529  -85.0170      1126      Furniture designer   \n",
       "\n",
       "                          trans_num  merch_lat  merch_long  is_fraud  age  \n",
       "0  2da90c7d74bd46a0caf3777415b3ebd3  33.986391  -81.200714         0   52  \n",
       "1  324cc204407e99f51b0d6ca0055005e7  39.450498 -109.960431         0   30  \n",
       "2  c81755dbbbea9d5c77f094348a7579be  40.495810  -74.196111         0   49  \n",
       "3  2159175b9efe66dc301f149d3d5abf8c  28.812398  -80.883061         0   32  \n",
       "4  57ff021bd3f328f8738bb535c302a31b  44.959148  -85.884734         0   65  "
      ]
     },
     "execution_count": 13,
     "metadata": {},
     "output_type": "execute_result"
    }
   ],
   "source": [
    "# Modifying the gender column\n",
    "fraud_df['gender'] = fraud_df['gender'].str.replace(\"M\", \"Male\")\n",
    "fraud_df['gender'] = fraud_df['gender'].str.replace(\"F\", \"Female\")\n",
    "fraud_df.head()"
   ]
  },
  {
   "attachments": {},
   "cell_type": "markdown",
   "metadata": {},
   "source": [
    "### Card Visuals: Calculations\n",
    "We have two cards in our dasboard: \n",
    "1. Amount of transactions in the dataset\n",
    "2. The percentage of faudulent transactions in the dataset"
   ]
  },
  {
   "cell_type": "code",
   "execution_count": 14,
   "metadata": {},
   "outputs": [
    {
     "data": {
      "text/plain": [
       "'555,719'"
      ]
     },
     "execution_count": 14,
     "metadata": {},
     "output_type": "execute_result"
    }
   ],
   "source": [
    "# Amount of transactions in the dataset\n",
    "total_transactios = fraud_df['trans_num'].count()\n",
    "total_transactios_formatted = str(total_transactios)[:3] +\",\" +str(total_transactios)[3:]\n",
    "total_transactios_formatted"
   ]
  },
  {
   "cell_type": "code",
   "execution_count": 15,
   "metadata": {},
   "outputs": [
    {
     "data": {
      "text/plain": [
       "'%0.004'"
      ]
     },
     "execution_count": 15,
     "metadata": {},
     "output_type": "execute_result"
    }
   ],
   "source": [
    "# The percentage of fraudulent transactions relative to non-fraudulent transactions\n",
    "percentage_fraudulent = round((fraud_df.query(\"is_fraud == 1\")['is_fraud'].count()) / (fraud_df.query(\"is_fraud == 0\")['is_fraud'].count()), 3)\n",
    "percentage_fraudulent_formatted = f\"%{percentage_fraudulent}\"\n",
    "percentage_fraudulent_formatted"
   ]
  },
  {
   "attachments": {},
   "cell_type": "markdown",
   "metadata": {},
   "source": [
    "### Bar Visuals: Preparation & Formatting"
   ]
  },
  {
   "cell_type": "code",
   "execution_count": 16,
   "metadata": {},
   "outputs": [
    {
     "data": {
      "application/vnd.plotly.v1+json": {
       "config": {
        "plotlyServerURL": "https://plot.ly"
       },
       "data": [
        {
         "alignmentgroup": "True",
         "hovertemplate": "trans_num=%{marker.color}<br>category=%{y}<extra></extra>",
         "legendgroup": "",
         "marker": {
          "color": [
           17449,
           19426,
           27367,
           34574,
           36674,
           39268,
           39327,
           40104,
           41779,
           48692,
           49791,
           52345,
           52553,
           56370
          ],
          "coloraxis": "coloraxis",
          "pattern": {
           "shape": ""
          }
         },
         "name": "",
         "offsetgroup": "",
         "orientation": "h",
         "showlegend": false,
         "textposition": "auto",
         "texttemplate": "%{x:.2s}",
         "type": "bar",
         "x": [
          17449,
          19426,
          27367,
          34574,
          36674,
          39268,
          39327,
          40104,
          41779,
          48692,
          49791,
          52345,
          52553,
          56370
         ],
         "xaxis": "x",
         "y": [
          "Travel",
          "Grocery Net",
          "Misc Net",
          "Misc Pos",
          "Health Fitness",
          "Food Dining",
          "Personal Care",
          "Entertainment",
          "Shopping Net",
          "Kids Pets",
          "Shopping Pos",
          "Home",
          "Grocery Pos",
          "Gas Transport"
         ],
         "yaxis": "y"
        }
       ],
       "layout": {
        "barmode": "relative",
        "coloraxis": {
         "colorbar": {
          "title": {
           "text": "trans_num"
          }
         },
         "colorscale": [
          [
           0,
           "rgb(176, 242, 188)"
          ],
          [
           0.16666666666666666,
           "rgb(137, 232, 172)"
          ],
          [
           0.3333333333333333,
           "rgb(103, 219, 165)"
          ],
          [
           0.5,
           "rgb(76, 200, 163)"
          ],
          [
           0.6666666666666666,
           "rgb(56, 178, 163)"
          ],
          [
           0.8333333333333334,
           "rgb(44, 152, 160)"
          ],
          [
           1,
           "rgb(37, 125, 152)"
          ]
         ]
        },
        "legend": {
         "tracegroupgap": 0
        },
        "template": {
         "data": {
          "bar": [
           {
            "error_x": {
             "color": "#2a3f5f"
            },
            "error_y": {
             "color": "#2a3f5f"
            },
            "marker": {
             "line": {
              "color": "#E5ECF6",
              "width": 0.5
             },
             "pattern": {
              "fillmode": "overlay",
              "size": 10,
              "solidity": 0.2
             }
            },
            "type": "bar"
           }
          ],
          "barpolar": [
           {
            "marker": {
             "line": {
              "color": "#E5ECF6",
              "width": 0.5
             },
             "pattern": {
              "fillmode": "overlay",
              "size": 10,
              "solidity": 0.2
             }
            },
            "type": "barpolar"
           }
          ],
          "carpet": [
           {
            "aaxis": {
             "endlinecolor": "#2a3f5f",
             "gridcolor": "white",
             "linecolor": "white",
             "minorgridcolor": "white",
             "startlinecolor": "#2a3f5f"
            },
            "baxis": {
             "endlinecolor": "#2a3f5f",
             "gridcolor": "white",
             "linecolor": "white",
             "minorgridcolor": "white",
             "startlinecolor": "#2a3f5f"
            },
            "type": "carpet"
           }
          ],
          "choropleth": [
           {
            "colorbar": {
             "outlinewidth": 0,
             "ticks": ""
            },
            "type": "choropleth"
           }
          ],
          "contour": [
           {
            "colorbar": {
             "outlinewidth": 0,
             "ticks": ""
            },
            "colorscale": [
             [
              0,
              "#0d0887"
             ],
             [
              0.1111111111111111,
              "#46039f"
             ],
             [
              0.2222222222222222,
              "#7201a8"
             ],
             [
              0.3333333333333333,
              "#9c179e"
             ],
             [
              0.4444444444444444,
              "#bd3786"
             ],
             [
              0.5555555555555556,
              "#d8576b"
             ],
             [
              0.6666666666666666,
              "#ed7953"
             ],
             [
              0.7777777777777778,
              "#fb9f3a"
             ],
             [
              0.8888888888888888,
              "#fdca26"
             ],
             [
              1,
              "#f0f921"
             ]
            ],
            "type": "contour"
           }
          ],
          "contourcarpet": [
           {
            "colorbar": {
             "outlinewidth": 0,
             "ticks": ""
            },
            "type": "contourcarpet"
           }
          ],
          "heatmap": [
           {
            "colorbar": {
             "outlinewidth": 0,
             "ticks": ""
            },
            "colorscale": [
             [
              0,
              "#0d0887"
             ],
             [
              0.1111111111111111,
              "#46039f"
             ],
             [
              0.2222222222222222,
              "#7201a8"
             ],
             [
              0.3333333333333333,
              "#9c179e"
             ],
             [
              0.4444444444444444,
              "#bd3786"
             ],
             [
              0.5555555555555556,
              "#d8576b"
             ],
             [
              0.6666666666666666,
              "#ed7953"
             ],
             [
              0.7777777777777778,
              "#fb9f3a"
             ],
             [
              0.8888888888888888,
              "#fdca26"
             ],
             [
              1,
              "#f0f921"
             ]
            ],
            "type": "heatmap"
           }
          ],
          "heatmapgl": [
           {
            "colorbar": {
             "outlinewidth": 0,
             "ticks": ""
            },
            "colorscale": [
             [
              0,
              "#0d0887"
             ],
             [
              0.1111111111111111,
              "#46039f"
             ],
             [
              0.2222222222222222,
              "#7201a8"
             ],
             [
              0.3333333333333333,
              "#9c179e"
             ],
             [
              0.4444444444444444,
              "#bd3786"
             ],
             [
              0.5555555555555556,
              "#d8576b"
             ],
             [
              0.6666666666666666,
              "#ed7953"
             ],
             [
              0.7777777777777778,
              "#fb9f3a"
             ],
             [
              0.8888888888888888,
              "#fdca26"
             ],
             [
              1,
              "#f0f921"
             ]
            ],
            "type": "heatmapgl"
           }
          ],
          "histogram": [
           {
            "marker": {
             "pattern": {
              "fillmode": "overlay",
              "size": 10,
              "solidity": 0.2
             }
            },
            "type": "histogram"
           }
          ],
          "histogram2d": [
           {
            "colorbar": {
             "outlinewidth": 0,
             "ticks": ""
            },
            "colorscale": [
             [
              0,
              "#0d0887"
             ],
             [
              0.1111111111111111,
              "#46039f"
             ],
             [
              0.2222222222222222,
              "#7201a8"
             ],
             [
              0.3333333333333333,
              "#9c179e"
             ],
             [
              0.4444444444444444,
              "#bd3786"
             ],
             [
              0.5555555555555556,
              "#d8576b"
             ],
             [
              0.6666666666666666,
              "#ed7953"
             ],
             [
              0.7777777777777778,
              "#fb9f3a"
             ],
             [
              0.8888888888888888,
              "#fdca26"
             ],
             [
              1,
              "#f0f921"
             ]
            ],
            "type": "histogram2d"
           }
          ],
          "histogram2dcontour": [
           {
            "colorbar": {
             "outlinewidth": 0,
             "ticks": ""
            },
            "colorscale": [
             [
              0,
              "#0d0887"
             ],
             [
              0.1111111111111111,
              "#46039f"
             ],
             [
              0.2222222222222222,
              "#7201a8"
             ],
             [
              0.3333333333333333,
              "#9c179e"
             ],
             [
              0.4444444444444444,
              "#bd3786"
             ],
             [
              0.5555555555555556,
              "#d8576b"
             ],
             [
              0.6666666666666666,
              "#ed7953"
             ],
             [
              0.7777777777777778,
              "#fb9f3a"
             ],
             [
              0.8888888888888888,
              "#fdca26"
             ],
             [
              1,
              "#f0f921"
             ]
            ],
            "type": "histogram2dcontour"
           }
          ],
          "mesh3d": [
           {
            "colorbar": {
             "outlinewidth": 0,
             "ticks": ""
            },
            "type": "mesh3d"
           }
          ],
          "parcoords": [
           {
            "line": {
             "colorbar": {
              "outlinewidth": 0,
              "ticks": ""
             }
            },
            "type": "parcoords"
           }
          ],
          "pie": [
           {
            "automargin": true,
            "type": "pie"
           }
          ],
          "scatter": [
           {
            "fillpattern": {
             "fillmode": "overlay",
             "size": 10,
             "solidity": 0.2
            },
            "type": "scatter"
           }
          ],
          "scatter3d": [
           {
            "line": {
             "colorbar": {
              "outlinewidth": 0,
              "ticks": ""
             }
            },
            "marker": {
             "colorbar": {
              "outlinewidth": 0,
              "ticks": ""
             }
            },
            "type": "scatter3d"
           }
          ],
          "scattercarpet": [
           {
            "marker": {
             "colorbar": {
              "outlinewidth": 0,
              "ticks": ""
             }
            },
            "type": "scattercarpet"
           }
          ],
          "scattergeo": [
           {
            "marker": {
             "colorbar": {
              "outlinewidth": 0,
              "ticks": ""
             }
            },
            "type": "scattergeo"
           }
          ],
          "scattergl": [
           {
            "marker": {
             "colorbar": {
              "outlinewidth": 0,
              "ticks": ""
             }
            },
            "type": "scattergl"
           }
          ],
          "scattermapbox": [
           {
            "marker": {
             "colorbar": {
              "outlinewidth": 0,
              "ticks": ""
             }
            },
            "type": "scattermapbox"
           }
          ],
          "scatterpolar": [
           {
            "marker": {
             "colorbar": {
              "outlinewidth": 0,
              "ticks": ""
             }
            },
            "type": "scatterpolar"
           }
          ],
          "scatterpolargl": [
           {
            "marker": {
             "colorbar": {
              "outlinewidth": 0,
              "ticks": ""
             }
            },
            "type": "scatterpolargl"
           }
          ],
          "scatterternary": [
           {
            "marker": {
             "colorbar": {
              "outlinewidth": 0,
              "ticks": ""
             }
            },
            "type": "scatterternary"
           }
          ],
          "surface": [
           {
            "colorbar": {
             "outlinewidth": 0,
             "ticks": ""
            },
            "colorscale": [
             [
              0,
              "#0d0887"
             ],
             [
              0.1111111111111111,
              "#46039f"
             ],
             [
              0.2222222222222222,
              "#7201a8"
             ],
             [
              0.3333333333333333,
              "#9c179e"
             ],
             [
              0.4444444444444444,
              "#bd3786"
             ],
             [
              0.5555555555555556,
              "#d8576b"
             ],
             [
              0.6666666666666666,
              "#ed7953"
             ],
             [
              0.7777777777777778,
              "#fb9f3a"
             ],
             [
              0.8888888888888888,
              "#fdca26"
             ],
             [
              1,
              "#f0f921"
             ]
            ],
            "type": "surface"
           }
          ],
          "table": [
           {
            "cells": {
             "fill": {
              "color": "#EBF0F8"
             },
             "line": {
              "color": "white"
             }
            },
            "header": {
             "fill": {
              "color": "#C8D4E3"
             },
             "line": {
              "color": "white"
             }
            },
            "type": "table"
           }
          ]
         },
         "layout": {
          "annotationdefaults": {
           "arrowcolor": "#2a3f5f",
           "arrowhead": 0,
           "arrowwidth": 1
          },
          "autotypenumbers": "strict",
          "coloraxis": {
           "colorbar": {
            "outlinewidth": 0,
            "ticks": ""
           }
          },
          "colorscale": {
           "diverging": [
            [
             0,
             "#8e0152"
            ],
            [
             0.1,
             "#c51b7d"
            ],
            [
             0.2,
             "#de77ae"
            ],
            [
             0.3,
             "#f1b6da"
            ],
            [
             0.4,
             "#fde0ef"
            ],
            [
             0.5,
             "#f7f7f7"
            ],
            [
             0.6,
             "#e6f5d0"
            ],
            [
             0.7,
             "#b8e186"
            ],
            [
             0.8,
             "#7fbc41"
            ],
            [
             0.9,
             "#4d9221"
            ],
            [
             1,
             "#276419"
            ]
           ],
           "sequential": [
            [
             0,
             "#0d0887"
            ],
            [
             0.1111111111111111,
             "#46039f"
            ],
            [
             0.2222222222222222,
             "#7201a8"
            ],
            [
             0.3333333333333333,
             "#9c179e"
            ],
            [
             0.4444444444444444,
             "#bd3786"
            ],
            [
             0.5555555555555556,
             "#d8576b"
            ],
            [
             0.6666666666666666,
             "#ed7953"
            ],
            [
             0.7777777777777778,
             "#fb9f3a"
            ],
            [
             0.8888888888888888,
             "#fdca26"
            ],
            [
             1,
             "#f0f921"
            ]
           ],
           "sequentialminus": [
            [
             0,
             "#0d0887"
            ],
            [
             0.1111111111111111,
             "#46039f"
            ],
            [
             0.2222222222222222,
             "#7201a8"
            ],
            [
             0.3333333333333333,
             "#9c179e"
            ],
            [
             0.4444444444444444,
             "#bd3786"
            ],
            [
             0.5555555555555556,
             "#d8576b"
            ],
            [
             0.6666666666666666,
             "#ed7953"
            ],
            [
             0.7777777777777778,
             "#fb9f3a"
            ],
            [
             0.8888888888888888,
             "#fdca26"
            ],
            [
             1,
             "#f0f921"
            ]
           ]
          },
          "colorway": [
           "#636efa",
           "#EF553B",
           "#00cc96",
           "#ab63fa",
           "#FFA15A",
           "#19d3f3",
           "#FF6692",
           "#B6E880",
           "#FF97FF",
           "#FECB52"
          ],
          "font": {
           "color": "#2a3f5f"
          },
          "geo": {
           "bgcolor": "white",
           "lakecolor": "white",
           "landcolor": "#E5ECF6",
           "showlakes": true,
           "showland": true,
           "subunitcolor": "white"
          },
          "hoverlabel": {
           "align": "left"
          },
          "hovermode": "closest",
          "mapbox": {
           "style": "light"
          },
          "paper_bgcolor": "white",
          "plot_bgcolor": "#E5ECF6",
          "polar": {
           "angularaxis": {
            "gridcolor": "white",
            "linecolor": "white",
            "ticks": ""
           },
           "bgcolor": "#E5ECF6",
           "radialaxis": {
            "gridcolor": "white",
            "linecolor": "white",
            "ticks": ""
           }
          },
          "scene": {
           "xaxis": {
            "backgroundcolor": "#E5ECF6",
            "gridcolor": "white",
            "gridwidth": 2,
            "linecolor": "white",
            "showbackground": true,
            "ticks": "",
            "zerolinecolor": "white"
           },
           "yaxis": {
            "backgroundcolor": "#E5ECF6",
            "gridcolor": "white",
            "gridwidth": 2,
            "linecolor": "white",
            "showbackground": true,
            "ticks": "",
            "zerolinecolor": "white"
           },
           "zaxis": {
            "backgroundcolor": "#E5ECF6",
            "gridcolor": "white",
            "gridwidth": 2,
            "linecolor": "white",
            "showbackground": true,
            "ticks": "",
            "zerolinecolor": "white"
           }
          },
          "shapedefaults": {
           "line": {
            "color": "#2a3f5f"
           }
          },
          "ternary": {
           "aaxis": {
            "gridcolor": "white",
            "linecolor": "white",
            "ticks": ""
           },
           "baxis": {
            "gridcolor": "white",
            "linecolor": "white",
            "ticks": ""
           },
           "bgcolor": "#E5ECF6",
           "caxis": {
            "gridcolor": "white",
            "linecolor": "white",
            "ticks": ""
           }
          },
          "title": {
           "x": 0.05
          },
          "xaxis": {
           "automargin": true,
           "gridcolor": "white",
           "linecolor": "white",
           "ticks": "",
           "title": {
            "standoff": 15
           },
           "zerolinecolor": "white",
           "zerolinewidth": 2
          },
          "yaxis": {
           "automargin": true,
           "gridcolor": "white",
           "linecolor": "white",
           "ticks": "",
           "title": {
            "standoff": 15
           },
           "zerolinecolor": "white",
           "zerolinewidth": 2
          }
         }
        },
        "title": {
         "text": "Total Transactions by Category",
         "x": 0.12,
         "y": 0.85
        },
        "xaxis": {
         "anchor": "y",
         "domain": [
          0,
          1
         ],
         "showline": false,
         "tickfont": {
          "color": "rgba(0, 0, 0, 0)"
         },
         "title": {
          "text": "Total Transactions"
         }
        },
        "yaxis": {
         "anchor": "x",
         "domain": [
          0,
          1
         ],
         "title": {
          "text": "category"
         }
        }
       }
      }
     },
     "metadata": {},
     "output_type": "display_data"
    }
   ],
   "source": [
    "# To create the H-Barchart we just need to group by a certain \"categorical\" column and count the transactions to show the summary\n",
    "    # * To include descending/ascending order we just have to apply the simple logic based on RadioItems\n",
    "    #NOTE: Descending order in H-Barchart:  ascending = True\n",
    "    #NOTE: We will have to make the y axis dynamic by the category\n",
    "px.bar(\n",
    "    fraud_df.groupby(\"category\", as_index=False)[\"trans_num\"].count().sort_values(by=\"trans_num\", ascending=True),\n",
    "    x=\"trans_num\",\n",
    "    y=\"category\",\n",
    "    color=\"trans_num\",\n",
    "    color_continuous_scale=\"Tealgrn\",\n",
    "    text_auto='.2s',\n",
    "    title=\"Total Transactions by Category\"\n",
    ").update_xaxes(\n",
    "    showline=False, tickfont_color='rgba(0, 0, 0, 0)',\n",
    "    title =\"Total Transactions\"\n",
    ").update_layout(\n",
    "    title = {\n",
    "        'x': 0.12,\n",
    "        'y': .85\n",
    "        }\n",
    ")"
   ]
  },
  {
   "cell_type": "code",
   "execution_count": 17,
   "metadata": {},
   "outputs": [
    {
     "data": {
      "application/vnd.plotly.v1+json": {
       "config": {
        "plotlyServerURL": "https://plot.ly"
       },
       "data": [
        {
         "alignmentgroup": "True",
         "bingroup": "x",
         "histfunc": "sum",
         "hovertemplate": "age=%{x}<br>sum of trans_num=%{y}<extra></extra>",
         "legendgroup": "",
         "marker": {
          "color": "rgba(49, 252, 3, 0.6)",
          "line": {
           "color": "#2ad104",
           "width": 1.5
          },
          "pattern": {
           "shape": ""
          }
         },
         "name": "",
         "offsetgroup": "",
         "opacity": 0.6,
         "orientation": "v",
         "showlegend": false,
         "type": "histogram",
         "x": [
          15,
          16,
          17,
          18,
          19,
          20,
          21,
          22,
          23,
          24,
          25,
          26,
          27,
          28,
          29,
          30,
          31,
          32,
          33,
          34,
          35,
          36,
          37,
          38,
          39,
          40,
          41,
          42,
          43,
          44,
          45,
          46,
          47,
          48,
          49,
          50,
          51,
          52,
          53,
          54,
          55,
          56,
          57,
          58,
          59,
          60,
          61,
          62,
          63,
          64,
          65,
          66,
          67,
          68,
          69,
          70,
          71,
          72,
          73,
          74,
          75,
          76,
          77,
          78,
          79,
          80,
          81,
          82,
          83,
          84,
          85,
          86,
          87,
          88,
          89,
          90,
          91,
          92,
          93,
          94,
          95,
          96
         ],
         "xaxis": "x",
         "y": [
          2036,
          2711,
          1545,
          545,
          2219,
          6607,
          7038,
          8482,
          10141,
          4811,
          7761,
          10047,
          11223,
          6489,
          12060,
          12622,
          10819,
          13576,
          15243,
          13668,
          16615,
          15318,
          9387,
          10413,
          9815,
          8948,
          10350,
          11159,
          12820,
          14673,
          13997,
          12385,
          13979,
          19146,
          11747,
          10335,
          6814,
          8323,
          9850,
          10025,
          7163,
          6847,
          6396,
          10058,
          6296,
          7160,
          6902,
          5590,
          5155,
          7033,
          7956,
          7002,
          4757,
          4272,
          4854,
          4479,
          4043,
          3460,
          1616,
          5639,
          3392,
          2270,
          1053,
          3616,
          3414,
          2701,
          2342,
          1045,
          1703,
          2658,
          2809,
          1414,
          1681,
          751,
          2009,
          1408,
          2611,
          2126,
          1609,
          2488,
          102,
          97
         ],
         "yaxis": "y"
        }
       ],
       "layout": {
        "barmode": "relative",
        "legend": {
         "tracegroupgap": 0
        },
        "template": {
         "data": {
          "bar": [
           {
            "error_x": {
             "color": "#2a3f5f"
            },
            "error_y": {
             "color": "#2a3f5f"
            },
            "marker": {
             "line": {
              "color": "#E5ECF6",
              "width": 0.5
             },
             "pattern": {
              "fillmode": "overlay",
              "size": 10,
              "solidity": 0.2
             }
            },
            "type": "bar"
           }
          ],
          "barpolar": [
           {
            "marker": {
             "line": {
              "color": "#E5ECF6",
              "width": 0.5
             },
             "pattern": {
              "fillmode": "overlay",
              "size": 10,
              "solidity": 0.2
             }
            },
            "type": "barpolar"
           }
          ],
          "carpet": [
           {
            "aaxis": {
             "endlinecolor": "#2a3f5f",
             "gridcolor": "white",
             "linecolor": "white",
             "minorgridcolor": "white",
             "startlinecolor": "#2a3f5f"
            },
            "baxis": {
             "endlinecolor": "#2a3f5f",
             "gridcolor": "white",
             "linecolor": "white",
             "minorgridcolor": "white",
             "startlinecolor": "#2a3f5f"
            },
            "type": "carpet"
           }
          ],
          "choropleth": [
           {
            "colorbar": {
             "outlinewidth": 0,
             "ticks": ""
            },
            "type": "choropleth"
           }
          ],
          "contour": [
           {
            "colorbar": {
             "outlinewidth": 0,
             "ticks": ""
            },
            "colorscale": [
             [
              0,
              "#0d0887"
             ],
             [
              0.1111111111111111,
              "#46039f"
             ],
             [
              0.2222222222222222,
              "#7201a8"
             ],
             [
              0.3333333333333333,
              "#9c179e"
             ],
             [
              0.4444444444444444,
              "#bd3786"
             ],
             [
              0.5555555555555556,
              "#d8576b"
             ],
             [
              0.6666666666666666,
              "#ed7953"
             ],
             [
              0.7777777777777778,
              "#fb9f3a"
             ],
             [
              0.8888888888888888,
              "#fdca26"
             ],
             [
              1,
              "#f0f921"
             ]
            ],
            "type": "contour"
           }
          ],
          "contourcarpet": [
           {
            "colorbar": {
             "outlinewidth": 0,
             "ticks": ""
            },
            "type": "contourcarpet"
           }
          ],
          "heatmap": [
           {
            "colorbar": {
             "outlinewidth": 0,
             "ticks": ""
            },
            "colorscale": [
             [
              0,
              "#0d0887"
             ],
             [
              0.1111111111111111,
              "#46039f"
             ],
             [
              0.2222222222222222,
              "#7201a8"
             ],
             [
              0.3333333333333333,
              "#9c179e"
             ],
             [
              0.4444444444444444,
              "#bd3786"
             ],
             [
              0.5555555555555556,
              "#d8576b"
             ],
             [
              0.6666666666666666,
              "#ed7953"
             ],
             [
              0.7777777777777778,
              "#fb9f3a"
             ],
             [
              0.8888888888888888,
              "#fdca26"
             ],
             [
              1,
              "#f0f921"
             ]
            ],
            "type": "heatmap"
           }
          ],
          "heatmapgl": [
           {
            "colorbar": {
             "outlinewidth": 0,
             "ticks": ""
            },
            "colorscale": [
             [
              0,
              "#0d0887"
             ],
             [
              0.1111111111111111,
              "#46039f"
             ],
             [
              0.2222222222222222,
              "#7201a8"
             ],
             [
              0.3333333333333333,
              "#9c179e"
             ],
             [
              0.4444444444444444,
              "#bd3786"
             ],
             [
              0.5555555555555556,
              "#d8576b"
             ],
             [
              0.6666666666666666,
              "#ed7953"
             ],
             [
              0.7777777777777778,
              "#fb9f3a"
             ],
             [
              0.8888888888888888,
              "#fdca26"
             ],
             [
              1,
              "#f0f921"
             ]
            ],
            "type": "heatmapgl"
           }
          ],
          "histogram": [
           {
            "marker": {
             "pattern": {
              "fillmode": "overlay",
              "size": 10,
              "solidity": 0.2
             }
            },
            "type": "histogram"
           }
          ],
          "histogram2d": [
           {
            "colorbar": {
             "outlinewidth": 0,
             "ticks": ""
            },
            "colorscale": [
             [
              0,
              "#0d0887"
             ],
             [
              0.1111111111111111,
              "#46039f"
             ],
             [
              0.2222222222222222,
              "#7201a8"
             ],
             [
              0.3333333333333333,
              "#9c179e"
             ],
             [
              0.4444444444444444,
              "#bd3786"
             ],
             [
              0.5555555555555556,
              "#d8576b"
             ],
             [
              0.6666666666666666,
              "#ed7953"
             ],
             [
              0.7777777777777778,
              "#fb9f3a"
             ],
             [
              0.8888888888888888,
              "#fdca26"
             ],
             [
              1,
              "#f0f921"
             ]
            ],
            "type": "histogram2d"
           }
          ],
          "histogram2dcontour": [
           {
            "colorbar": {
             "outlinewidth": 0,
             "ticks": ""
            },
            "colorscale": [
             [
              0,
              "#0d0887"
             ],
             [
              0.1111111111111111,
              "#46039f"
             ],
             [
              0.2222222222222222,
              "#7201a8"
             ],
             [
              0.3333333333333333,
              "#9c179e"
             ],
             [
              0.4444444444444444,
              "#bd3786"
             ],
             [
              0.5555555555555556,
              "#d8576b"
             ],
             [
              0.6666666666666666,
              "#ed7953"
             ],
             [
              0.7777777777777778,
              "#fb9f3a"
             ],
             [
              0.8888888888888888,
              "#fdca26"
             ],
             [
              1,
              "#f0f921"
             ]
            ],
            "type": "histogram2dcontour"
           }
          ],
          "mesh3d": [
           {
            "colorbar": {
             "outlinewidth": 0,
             "ticks": ""
            },
            "type": "mesh3d"
           }
          ],
          "parcoords": [
           {
            "line": {
             "colorbar": {
              "outlinewidth": 0,
              "ticks": ""
             }
            },
            "type": "parcoords"
           }
          ],
          "pie": [
           {
            "automargin": true,
            "type": "pie"
           }
          ],
          "scatter": [
           {
            "fillpattern": {
             "fillmode": "overlay",
             "size": 10,
             "solidity": 0.2
            },
            "type": "scatter"
           }
          ],
          "scatter3d": [
           {
            "line": {
             "colorbar": {
              "outlinewidth": 0,
              "ticks": ""
             }
            },
            "marker": {
             "colorbar": {
              "outlinewidth": 0,
              "ticks": ""
             }
            },
            "type": "scatter3d"
           }
          ],
          "scattercarpet": [
           {
            "marker": {
             "colorbar": {
              "outlinewidth": 0,
              "ticks": ""
             }
            },
            "type": "scattercarpet"
           }
          ],
          "scattergeo": [
           {
            "marker": {
             "colorbar": {
              "outlinewidth": 0,
              "ticks": ""
             }
            },
            "type": "scattergeo"
           }
          ],
          "scattergl": [
           {
            "marker": {
             "colorbar": {
              "outlinewidth": 0,
              "ticks": ""
             }
            },
            "type": "scattergl"
           }
          ],
          "scattermapbox": [
           {
            "marker": {
             "colorbar": {
              "outlinewidth": 0,
              "ticks": ""
             }
            },
            "type": "scattermapbox"
           }
          ],
          "scatterpolar": [
           {
            "marker": {
             "colorbar": {
              "outlinewidth": 0,
              "ticks": ""
             }
            },
            "type": "scatterpolar"
           }
          ],
          "scatterpolargl": [
           {
            "marker": {
             "colorbar": {
              "outlinewidth": 0,
              "ticks": ""
             }
            },
            "type": "scatterpolargl"
           }
          ],
          "scatterternary": [
           {
            "marker": {
             "colorbar": {
              "outlinewidth": 0,
              "ticks": ""
             }
            },
            "type": "scatterternary"
           }
          ],
          "surface": [
           {
            "colorbar": {
             "outlinewidth": 0,
             "ticks": ""
            },
            "colorscale": [
             [
              0,
              "#0d0887"
             ],
             [
              0.1111111111111111,
              "#46039f"
             ],
             [
              0.2222222222222222,
              "#7201a8"
             ],
             [
              0.3333333333333333,
              "#9c179e"
             ],
             [
              0.4444444444444444,
              "#bd3786"
             ],
             [
              0.5555555555555556,
              "#d8576b"
             ],
             [
              0.6666666666666666,
              "#ed7953"
             ],
             [
              0.7777777777777778,
              "#fb9f3a"
             ],
             [
              0.8888888888888888,
              "#fdca26"
             ],
             [
              1,
              "#f0f921"
             ]
            ],
            "type": "surface"
           }
          ],
          "table": [
           {
            "cells": {
             "fill": {
              "color": "#EBF0F8"
             },
             "line": {
              "color": "white"
             }
            },
            "header": {
             "fill": {
              "color": "#C8D4E3"
             },
             "line": {
              "color": "white"
             }
            },
            "type": "table"
           }
          ]
         },
         "layout": {
          "annotationdefaults": {
           "arrowcolor": "#2a3f5f",
           "arrowhead": 0,
           "arrowwidth": 1
          },
          "autotypenumbers": "strict",
          "coloraxis": {
           "colorbar": {
            "outlinewidth": 0,
            "ticks": ""
           }
          },
          "colorscale": {
           "diverging": [
            [
             0,
             "#8e0152"
            ],
            [
             0.1,
             "#c51b7d"
            ],
            [
             0.2,
             "#de77ae"
            ],
            [
             0.3,
             "#f1b6da"
            ],
            [
             0.4,
             "#fde0ef"
            ],
            [
             0.5,
             "#f7f7f7"
            ],
            [
             0.6,
             "#e6f5d0"
            ],
            [
             0.7,
             "#b8e186"
            ],
            [
             0.8,
             "#7fbc41"
            ],
            [
             0.9,
             "#4d9221"
            ],
            [
             1,
             "#276419"
            ]
           ],
           "sequential": [
            [
             0,
             "#0d0887"
            ],
            [
             0.1111111111111111,
             "#46039f"
            ],
            [
             0.2222222222222222,
             "#7201a8"
            ],
            [
             0.3333333333333333,
             "#9c179e"
            ],
            [
             0.4444444444444444,
             "#bd3786"
            ],
            [
             0.5555555555555556,
             "#d8576b"
            ],
            [
             0.6666666666666666,
             "#ed7953"
            ],
            [
             0.7777777777777778,
             "#fb9f3a"
            ],
            [
             0.8888888888888888,
             "#fdca26"
            ],
            [
             1,
             "#f0f921"
            ]
           ],
           "sequentialminus": [
            [
             0,
             "#0d0887"
            ],
            [
             0.1111111111111111,
             "#46039f"
            ],
            [
             0.2222222222222222,
             "#7201a8"
            ],
            [
             0.3333333333333333,
             "#9c179e"
            ],
            [
             0.4444444444444444,
             "#bd3786"
            ],
            [
             0.5555555555555556,
             "#d8576b"
            ],
            [
             0.6666666666666666,
             "#ed7953"
            ],
            [
             0.7777777777777778,
             "#fb9f3a"
            ],
            [
             0.8888888888888888,
             "#fdca26"
            ],
            [
             1,
             "#f0f921"
            ]
           ]
          },
          "colorway": [
           "#636efa",
           "#EF553B",
           "#00cc96",
           "#ab63fa",
           "#FFA15A",
           "#19d3f3",
           "#FF6692",
           "#B6E880",
           "#FF97FF",
           "#FECB52"
          ],
          "font": {
           "color": "#2a3f5f"
          },
          "geo": {
           "bgcolor": "white",
           "lakecolor": "white",
           "landcolor": "#E5ECF6",
           "showlakes": true,
           "showland": true,
           "subunitcolor": "white"
          },
          "hoverlabel": {
           "align": "left"
          },
          "hovermode": "closest",
          "mapbox": {
           "style": "light"
          },
          "paper_bgcolor": "white",
          "plot_bgcolor": "#E5ECF6",
          "polar": {
           "angularaxis": {
            "gridcolor": "white",
            "linecolor": "white",
            "ticks": ""
           },
           "bgcolor": "#E5ECF6",
           "radialaxis": {
            "gridcolor": "white",
            "linecolor": "white",
            "ticks": ""
           }
          },
          "scene": {
           "xaxis": {
            "backgroundcolor": "#E5ECF6",
            "gridcolor": "white",
            "gridwidth": 2,
            "linecolor": "white",
            "showbackground": true,
            "ticks": "",
            "zerolinecolor": "white"
           },
           "yaxis": {
            "backgroundcolor": "#E5ECF6",
            "gridcolor": "white",
            "gridwidth": 2,
            "linecolor": "white",
            "showbackground": true,
            "ticks": "",
            "zerolinecolor": "white"
           },
           "zaxis": {
            "backgroundcolor": "#E5ECF6",
            "gridcolor": "white",
            "gridwidth": 2,
            "linecolor": "white",
            "showbackground": true,
            "ticks": "",
            "zerolinecolor": "white"
           }
          },
          "shapedefaults": {
           "line": {
            "color": "#2a3f5f"
           }
          },
          "ternary": {
           "aaxis": {
            "gridcolor": "white",
            "linecolor": "white",
            "ticks": ""
           },
           "baxis": {
            "gridcolor": "white",
            "linecolor": "white",
            "ticks": ""
           },
           "bgcolor": "#E5ECF6",
           "caxis": {
            "gridcolor": "white",
            "linecolor": "white",
            "ticks": ""
           }
          },
          "title": {
           "x": 0.05
          },
          "xaxis": {
           "automargin": true,
           "gridcolor": "white",
           "linecolor": "white",
           "ticks": "",
           "title": {
            "standoff": 15
           },
           "zerolinecolor": "white",
           "zerolinewidth": 2
          },
          "yaxis": {
           "automargin": true,
           "gridcolor": "white",
           "linecolor": "white",
           "ticks": "",
           "title": {
            "standoff": 15
           },
           "zerolinecolor": "white",
           "zerolinewidth": 2
          }
         }
        },
        "title": {
         "text": "Destribution of Transactions by Age (All)",
         "x": 0.075,
         "y": 0.85
        },
        "xaxis": {
         "anchor": "y",
         "domain": [
          0,
          1
         ],
         "title": {
          "text": "age"
         }
        },
        "yaxis": {
         "anchor": "x",
         "domain": [
          0,
          1
         ],
         "title": {
          "text": "sum of trans_num"
         }
        }
       }
      }
     },
     "metadata": {},
     "output_type": "display_data"
    }
   ],
   "source": [
    "# NOTE: The destribution by age bar chart should include a filter of is_fraud and a condition that if you select a fruad the color will be red, if you select a non-fraud color is green\n",
    "# NOTE: The dataframe to plot should have a query before the groupby, to specify weather the tansaction is/isn't fraudulent\n",
    "# NOTE: All the headers in the dashboard should add fraudulent/non-fraudulent/All to the chart title name\n",
    "(\n",
    "    px\n",
    "    .histogram(\n",
    "    fraud_df.groupby(\"age\", as_index=False)['trans_num'].count(),\n",
    "    x=\"age\",\n",
    "    y=\"trans_num\",\n",
    "    title=\"Destribution of Transactions by Age (All)\"\n",
    "    )\n",
    "    .update_traces(marker_color='rgba(49, 252, 3, 0.6)', marker_line_color='#2ad104',\n",
    "                  marker_line_width=1.5,\n",
    "                    opacity=0.6, \n",
    "                    )\n",
    "    .update_layout(\n",
    "        title = {\n",
    "            \"x\": 0.075,\n",
    "            \"y\": .85\n",
    "        }\n",
    "    )\n",
    ")\n"
   ]
  },
  {
   "attachments": {},
   "cell_type": "markdown",
   "metadata": {},
   "source": [
    "### Creating and Formatting the Pie Chart"
   ]
  },
  {
   "cell_type": "code",
   "execution_count": 18,
   "metadata": {},
   "outputs": [
    {
     "data": {
      "application/vnd.plotly.v1+json": {
       "config": {
        "plotlyServerURL": "https://plot.ly"
       },
       "data": [
        {
         "domain": {
          "x": [
           0,
           1
          ],
          "y": [
           0,
           1
          ]
         },
         "hole": 0.46,
         "hovertemplate": "gender=%{label}<br>trans_num=%{value}<extra></extra>",
         "labels": [
          "Female",
          "Male"
         ],
         "legendgroup": "",
         "name": "",
         "showlegend": true,
         "type": "pie",
         "values": [
          304886,
          250833
         ]
        }
       ],
       "layout": {
        "annotations": [
         {
          "font": {
           "size": 20
          },
          "showarrow": false,
          "text": "Gender %",
          "x": 0.5,
          "y": 0.5
         }
        ],
        "legend": {
         "tracegroupgap": 0
        },
        "margin": {
         "t": 60
        },
        "piecolorway": [
         "rgba(252, 3, 3, 0.7)",
         "rgba(49, 252, 3, 0.6)"
        ],
        "template": {
         "data": {
          "bar": [
           {
            "error_x": {
             "color": "#2a3f5f"
            },
            "error_y": {
             "color": "#2a3f5f"
            },
            "marker": {
             "line": {
              "color": "#E5ECF6",
              "width": 0.5
             },
             "pattern": {
              "fillmode": "overlay",
              "size": 10,
              "solidity": 0.2
             }
            },
            "type": "bar"
           }
          ],
          "barpolar": [
           {
            "marker": {
             "line": {
              "color": "#E5ECF6",
              "width": 0.5
             },
             "pattern": {
              "fillmode": "overlay",
              "size": 10,
              "solidity": 0.2
             }
            },
            "type": "barpolar"
           }
          ],
          "carpet": [
           {
            "aaxis": {
             "endlinecolor": "#2a3f5f",
             "gridcolor": "white",
             "linecolor": "white",
             "minorgridcolor": "white",
             "startlinecolor": "#2a3f5f"
            },
            "baxis": {
             "endlinecolor": "#2a3f5f",
             "gridcolor": "white",
             "linecolor": "white",
             "minorgridcolor": "white",
             "startlinecolor": "#2a3f5f"
            },
            "type": "carpet"
           }
          ],
          "choropleth": [
           {
            "colorbar": {
             "outlinewidth": 0,
             "ticks": ""
            },
            "type": "choropleth"
           }
          ],
          "contour": [
           {
            "colorbar": {
             "outlinewidth": 0,
             "ticks": ""
            },
            "colorscale": [
             [
              0,
              "#0d0887"
             ],
             [
              0.1111111111111111,
              "#46039f"
             ],
             [
              0.2222222222222222,
              "#7201a8"
             ],
             [
              0.3333333333333333,
              "#9c179e"
             ],
             [
              0.4444444444444444,
              "#bd3786"
             ],
             [
              0.5555555555555556,
              "#d8576b"
             ],
             [
              0.6666666666666666,
              "#ed7953"
             ],
             [
              0.7777777777777778,
              "#fb9f3a"
             ],
             [
              0.8888888888888888,
              "#fdca26"
             ],
             [
              1,
              "#f0f921"
             ]
            ],
            "type": "contour"
           }
          ],
          "contourcarpet": [
           {
            "colorbar": {
             "outlinewidth": 0,
             "ticks": ""
            },
            "type": "contourcarpet"
           }
          ],
          "heatmap": [
           {
            "colorbar": {
             "outlinewidth": 0,
             "ticks": ""
            },
            "colorscale": [
             [
              0,
              "#0d0887"
             ],
             [
              0.1111111111111111,
              "#46039f"
             ],
             [
              0.2222222222222222,
              "#7201a8"
             ],
             [
              0.3333333333333333,
              "#9c179e"
             ],
             [
              0.4444444444444444,
              "#bd3786"
             ],
             [
              0.5555555555555556,
              "#d8576b"
             ],
             [
              0.6666666666666666,
              "#ed7953"
             ],
             [
              0.7777777777777778,
              "#fb9f3a"
             ],
             [
              0.8888888888888888,
              "#fdca26"
             ],
             [
              1,
              "#f0f921"
             ]
            ],
            "type": "heatmap"
           }
          ],
          "heatmapgl": [
           {
            "colorbar": {
             "outlinewidth": 0,
             "ticks": ""
            },
            "colorscale": [
             [
              0,
              "#0d0887"
             ],
             [
              0.1111111111111111,
              "#46039f"
             ],
             [
              0.2222222222222222,
              "#7201a8"
             ],
             [
              0.3333333333333333,
              "#9c179e"
             ],
             [
              0.4444444444444444,
              "#bd3786"
             ],
             [
              0.5555555555555556,
              "#d8576b"
             ],
             [
              0.6666666666666666,
              "#ed7953"
             ],
             [
              0.7777777777777778,
              "#fb9f3a"
             ],
             [
              0.8888888888888888,
              "#fdca26"
             ],
             [
              1,
              "#f0f921"
             ]
            ],
            "type": "heatmapgl"
           }
          ],
          "histogram": [
           {
            "marker": {
             "pattern": {
              "fillmode": "overlay",
              "size": 10,
              "solidity": 0.2
             }
            },
            "type": "histogram"
           }
          ],
          "histogram2d": [
           {
            "colorbar": {
             "outlinewidth": 0,
             "ticks": ""
            },
            "colorscale": [
             [
              0,
              "#0d0887"
             ],
             [
              0.1111111111111111,
              "#46039f"
             ],
             [
              0.2222222222222222,
              "#7201a8"
             ],
             [
              0.3333333333333333,
              "#9c179e"
             ],
             [
              0.4444444444444444,
              "#bd3786"
             ],
             [
              0.5555555555555556,
              "#d8576b"
             ],
             [
              0.6666666666666666,
              "#ed7953"
             ],
             [
              0.7777777777777778,
              "#fb9f3a"
             ],
             [
              0.8888888888888888,
              "#fdca26"
             ],
             [
              1,
              "#f0f921"
             ]
            ],
            "type": "histogram2d"
           }
          ],
          "histogram2dcontour": [
           {
            "colorbar": {
             "outlinewidth": 0,
             "ticks": ""
            },
            "colorscale": [
             [
              0,
              "#0d0887"
             ],
             [
              0.1111111111111111,
              "#46039f"
             ],
             [
              0.2222222222222222,
              "#7201a8"
             ],
             [
              0.3333333333333333,
              "#9c179e"
             ],
             [
              0.4444444444444444,
              "#bd3786"
             ],
             [
              0.5555555555555556,
              "#d8576b"
             ],
             [
              0.6666666666666666,
              "#ed7953"
             ],
             [
              0.7777777777777778,
              "#fb9f3a"
             ],
             [
              0.8888888888888888,
              "#fdca26"
             ],
             [
              1,
              "#f0f921"
             ]
            ],
            "type": "histogram2dcontour"
           }
          ],
          "mesh3d": [
           {
            "colorbar": {
             "outlinewidth": 0,
             "ticks": ""
            },
            "type": "mesh3d"
           }
          ],
          "parcoords": [
           {
            "line": {
             "colorbar": {
              "outlinewidth": 0,
              "ticks": ""
             }
            },
            "type": "parcoords"
           }
          ],
          "pie": [
           {
            "automargin": true,
            "type": "pie"
           }
          ],
          "scatter": [
           {
            "fillpattern": {
             "fillmode": "overlay",
             "size": 10,
             "solidity": 0.2
            },
            "type": "scatter"
           }
          ],
          "scatter3d": [
           {
            "line": {
             "colorbar": {
              "outlinewidth": 0,
              "ticks": ""
             }
            },
            "marker": {
             "colorbar": {
              "outlinewidth": 0,
              "ticks": ""
             }
            },
            "type": "scatter3d"
           }
          ],
          "scattercarpet": [
           {
            "marker": {
             "colorbar": {
              "outlinewidth": 0,
              "ticks": ""
             }
            },
            "type": "scattercarpet"
           }
          ],
          "scattergeo": [
           {
            "marker": {
             "colorbar": {
              "outlinewidth": 0,
              "ticks": ""
             }
            },
            "type": "scattergeo"
           }
          ],
          "scattergl": [
           {
            "marker": {
             "colorbar": {
              "outlinewidth": 0,
              "ticks": ""
             }
            },
            "type": "scattergl"
           }
          ],
          "scattermapbox": [
           {
            "marker": {
             "colorbar": {
              "outlinewidth": 0,
              "ticks": ""
             }
            },
            "type": "scattermapbox"
           }
          ],
          "scatterpolar": [
           {
            "marker": {
             "colorbar": {
              "outlinewidth": 0,
              "ticks": ""
             }
            },
            "type": "scatterpolar"
           }
          ],
          "scatterpolargl": [
           {
            "marker": {
             "colorbar": {
              "outlinewidth": 0,
              "ticks": ""
             }
            },
            "type": "scatterpolargl"
           }
          ],
          "scatterternary": [
           {
            "marker": {
             "colorbar": {
              "outlinewidth": 0,
              "ticks": ""
             }
            },
            "type": "scatterternary"
           }
          ],
          "surface": [
           {
            "colorbar": {
             "outlinewidth": 0,
             "ticks": ""
            },
            "colorscale": [
             [
              0,
              "#0d0887"
             ],
             [
              0.1111111111111111,
              "#46039f"
             ],
             [
              0.2222222222222222,
              "#7201a8"
             ],
             [
              0.3333333333333333,
              "#9c179e"
             ],
             [
              0.4444444444444444,
              "#bd3786"
             ],
             [
              0.5555555555555556,
              "#d8576b"
             ],
             [
              0.6666666666666666,
              "#ed7953"
             ],
             [
              0.7777777777777778,
              "#fb9f3a"
             ],
             [
              0.8888888888888888,
              "#fdca26"
             ],
             [
              1,
              "#f0f921"
             ]
            ],
            "type": "surface"
           }
          ],
          "table": [
           {
            "cells": {
             "fill": {
              "color": "#EBF0F8"
             },
             "line": {
              "color": "white"
             }
            },
            "header": {
             "fill": {
              "color": "#C8D4E3"
             },
             "line": {
              "color": "white"
             }
            },
            "type": "table"
           }
          ]
         },
         "layout": {
          "annotationdefaults": {
           "arrowcolor": "#2a3f5f",
           "arrowhead": 0,
           "arrowwidth": 1
          },
          "autotypenumbers": "strict",
          "coloraxis": {
           "colorbar": {
            "outlinewidth": 0,
            "ticks": ""
           }
          },
          "colorscale": {
           "diverging": [
            [
             0,
             "#8e0152"
            ],
            [
             0.1,
             "#c51b7d"
            ],
            [
             0.2,
             "#de77ae"
            ],
            [
             0.3,
             "#f1b6da"
            ],
            [
             0.4,
             "#fde0ef"
            ],
            [
             0.5,
             "#f7f7f7"
            ],
            [
             0.6,
             "#e6f5d0"
            ],
            [
             0.7,
             "#b8e186"
            ],
            [
             0.8,
             "#7fbc41"
            ],
            [
             0.9,
             "#4d9221"
            ],
            [
             1,
             "#276419"
            ]
           ],
           "sequential": [
            [
             0,
             "#0d0887"
            ],
            [
             0.1111111111111111,
             "#46039f"
            ],
            [
             0.2222222222222222,
             "#7201a8"
            ],
            [
             0.3333333333333333,
             "#9c179e"
            ],
            [
             0.4444444444444444,
             "#bd3786"
            ],
            [
             0.5555555555555556,
             "#d8576b"
            ],
            [
             0.6666666666666666,
             "#ed7953"
            ],
            [
             0.7777777777777778,
             "#fb9f3a"
            ],
            [
             0.8888888888888888,
             "#fdca26"
            ],
            [
             1,
             "#f0f921"
            ]
           ],
           "sequentialminus": [
            [
             0,
             "#0d0887"
            ],
            [
             0.1111111111111111,
             "#46039f"
            ],
            [
             0.2222222222222222,
             "#7201a8"
            ],
            [
             0.3333333333333333,
             "#9c179e"
            ],
            [
             0.4444444444444444,
             "#bd3786"
            ],
            [
             0.5555555555555556,
             "#d8576b"
            ],
            [
             0.6666666666666666,
             "#ed7953"
            ],
            [
             0.7777777777777778,
             "#fb9f3a"
            ],
            [
             0.8888888888888888,
             "#fdca26"
            ],
            [
             1,
             "#f0f921"
            ]
           ]
          },
          "colorway": [
           "#636efa",
           "#EF553B",
           "#00cc96",
           "#ab63fa",
           "#FFA15A",
           "#19d3f3",
           "#FF6692",
           "#B6E880",
           "#FF97FF",
           "#FECB52"
          ],
          "font": {
           "color": "#2a3f5f"
          },
          "geo": {
           "bgcolor": "white",
           "lakecolor": "white",
           "landcolor": "#E5ECF6",
           "showlakes": true,
           "showland": true,
           "subunitcolor": "white"
          },
          "hoverlabel": {
           "align": "left"
          },
          "hovermode": "closest",
          "mapbox": {
           "style": "light"
          },
          "paper_bgcolor": "white",
          "plot_bgcolor": "#E5ECF6",
          "polar": {
           "angularaxis": {
            "gridcolor": "white",
            "linecolor": "white",
            "ticks": ""
           },
           "bgcolor": "#E5ECF6",
           "radialaxis": {
            "gridcolor": "white",
            "linecolor": "white",
            "ticks": ""
           }
          },
          "scene": {
           "xaxis": {
            "backgroundcolor": "#E5ECF6",
            "gridcolor": "white",
            "gridwidth": 2,
            "linecolor": "white",
            "showbackground": true,
            "ticks": "",
            "zerolinecolor": "white"
           },
           "yaxis": {
            "backgroundcolor": "#E5ECF6",
            "gridcolor": "white",
            "gridwidth": 2,
            "linecolor": "white",
            "showbackground": true,
            "ticks": "",
            "zerolinecolor": "white"
           },
           "zaxis": {
            "backgroundcolor": "#E5ECF6",
            "gridcolor": "white",
            "gridwidth": 2,
            "linecolor": "white",
            "showbackground": true,
            "ticks": "",
            "zerolinecolor": "white"
           }
          },
          "shapedefaults": {
           "line": {
            "color": "#2a3f5f"
           }
          },
          "ternary": {
           "aaxis": {
            "gridcolor": "white",
            "linecolor": "white",
            "ticks": ""
           },
           "baxis": {
            "gridcolor": "white",
            "linecolor": "white",
            "ticks": ""
           },
           "bgcolor": "#E5ECF6",
           "caxis": {
            "gridcolor": "white",
            "linecolor": "white",
            "ticks": ""
           }
          },
          "title": {
           "x": 0.05
          },
          "xaxis": {
           "automargin": true,
           "gridcolor": "white",
           "linecolor": "white",
           "ticks": "",
           "title": {
            "standoff": 15
           },
           "zerolinecolor": "white",
           "zerolinewidth": 2
          },
          "yaxis": {
           "automargin": true,
           "gridcolor": "white",
           "linecolor": "white",
           "ticks": "",
           "title": {
            "standoff": 15
           },
           "zerolinecolor": "white",
           "zerolinewidth": 2
          }
         }
        },
        "title": {
         "text": "Transactions Breakdown",
         "x": 0.48
        }
       }
      }
     },
     "metadata": {},
     "output_type": "display_data"
    }
   ],
   "source": [
    "fig = px.pie(\n",
    "    fraud_df.groupby(\"gender\", as_index=False)[\"trans_num\"].count(),\n",
    "    values=\"trans_num\",\n",
    "    names=\"gender\",\n",
    "    hole=0.46,\n",
    "    color_discrete_sequence=['rgba(252, 3, 3, 0.7)', 'rgba(49, 252, 3, 0.6)']  # Assign specific colors for genders (blue and orange)\n",
    ")\n",
    "\n",
    "fig.update_layout(\n",
    "    title_text=\"Transactions Breakdown\",\n",
    "    annotations=[dict(text='Gender %',\n",
    "                     x=0.5,\n",
    "                     y=0.5,\n",
    "                     font_size=20,\n",
    "                     showarrow=False)],\n",
    "    title = {\n",
    "        \"x\": 0.48\n",
    "    }\n",
    ")\n",
    "\n",
    "fig.show()"
   ]
  },
  {
   "attachments": {},
   "cell_type": "markdown",
   "metadata": {},
   "source": [
    "### Formatting and preparing the density map"
   ]
  },
  {
   "cell_type": "code",
   "execution_count": 19,
   "metadata": {},
   "outputs": [
    {
     "data": {
      "application/vnd.plotly.v1+json": {
       "config": {
        "plotlyServerURL": "https://plot.ly"
       },
       "data": [
        {
         "customdata": [
          [
           "Achille"
          ],
          [
           "Acworth"
          ],
          [
           "Adams"
          ],
          [
           "Afton"
          ],
          [
           "Afton"
          ],
          [
           "Akron"
          ],
          [
           "Albany"
          ],
          [
           "Albuquerque"
          ],
          [
           "Albuquerque"
          ],
          [
           "Alder"
          ],
          [
           "Aledo"
          ],
          [
           "Alexandria"
          ],
          [
           "Allenhurst"
          ],
          [
           "Allentown"
          ],
          [
           "Allentown"
          ],
          [
           "Allentown"
          ],
          [
           "Alpharetta"
          ],
          [
           "Altair"
          ],
          [
           "Alton"
          ],
          [
           "Altona"
          ],
          [
           "Altonah"
          ],
          [
           "Alva"
          ],
          [
           "Amanda"
          ],
          [
           "American Fork"
          ],
          [
           "Amorita"
          ],
          [
           "Amsterdam"
          ],
          [
           "Andrews"
          ],
          [
           "Andrews"
          ],
          [
           "Annapolis"
          ],
          [
           "Apison"
          ],
          [
           "Arcadia"
          ],
          [
           "Arcadia"
          ],
          [
           "Arcadia"
          ],
          [
           "Arlington"
          ],
          [
           "Arlington"
          ],
          [
           "Armagh"
          ],
          [
           "Armonk"
          ],
          [
           "Arnold"
          ],
          [
           "Arvada"
          ],
          [
           "Ash Flat"
          ],
          [
           "Ashfield"
          ],
          [
           "Ashford"
          ],
          [
           "Atglen"
          ],
          [
           "Athena"
          ],
          [
           "Atlantic"
          ],
          [
           "Auburn"
          ],
          [
           "Aurora"
          ],
          [
           "Avera"
          ],
          [
           "Avoca"
          ],
          [
           "Azusa"
          ],
          [
           "Bagley"
          ],
          [
           "Bailey"
          ],
          [
           "Ballwin"
          ],
          [
           "Barnard"
          ],
          [
           "Barneveld"
          ],
          [
           "Barnstable"
          ],
          [
           "Baroda"
          ],
          [
           "Basye"
          ],
          [
           "Baton Rouge"
          ],
          [
           "Battle Creek"
          ],
          [
           "Bauxite"
          ],
          [
           "Bay City"
          ],
          [
           "Bay City"
          ],
          [
           "Bay Minette"
          ],
          [
           "Beasley"
          ],
          [
           "Beaver Falls"
          ],
          [
           "Beaverdam"
          ],
          [
           "Belfast"
          ],
          [
           "Belgrade"
          ],
          [
           "Belle Fourche"
          ],
          [
           "Bellmore"
          ],
          [
           "Belmond"
          ],
          [
           "Belmont"
          ],
          [
           "Benton"
          ],
          [
           "Bessemer"
          ],
          [
           "Bethel"
          ],
          [
           "Bethel Springs"
          ],
          [
           "Big Creek"
          ],
          [
           "Big Indian"
          ],
          [
           "Bigelow"
          ],
          [
           "Birmingham"
          ],
          [
           "Birmingham"
          ],
          [
           "Birmingham"
          ],
          [
           "Blackville"
          ],
          [
           "Blairsden-Graeagle"
          ],
          [
           "Blairstown"
          ],
          [
           "Blooming Grove"
          ],
          [
           "Bolivar"
          ],
          [
           "Bolton"
          ],
          [
           "Bonfield"
          ],
          [
           "Bonita Springs"
          ],
          [
           "Boonton"
          ],
          [
           "Boulder"
          ],
          [
           "Bowdoin"
          ],
          [
           "Bowersville"
          ],
          [
           "Boyd"
          ],
          [
           "Bradley"
          ],
          [
           "Brainard"
          ],
          [
           "Brandon"
          ],
          [
           "Brandon"
          ],
          [
           "Brantley"
          ],
          [
           "Brashear"
          ],
          [
           "Breesport"
          ],
          [
           "Bridgeport"
          ],
          [
           "Bridger"
          ],
          [
           "Brinson"
          ],
          [
           "Bristol"
          ],
          [
           "Bristow"
          ],
          [
           "Bronx"
          ],
          [
           "Brooklin"
          ],
          [
           "Brooklyn"
          ],
          [
           "Broomfield"
          ],
          [
           "Browning"
          ],
          [
           "Brownville"
          ],
          [
           "Brunson"
          ],
          [
           "Bryant"
          ],
          [
           "Burbank"
          ],
          [
           "Burbank"
          ],
          [
           "Burke"
          ],
          [
           "Burlington"
          ],
          [
           "Burns Flat"
          ],
          [
           "Burrton"
          ],
          [
           "Bynum"
          ],
          [
           "Cadiz"
          ],
          [
           "Camden"
          ],
          [
           "Camden"
          ],
          [
           "Camden"
          ],
          [
           "Campbell"
          ],
          [
           "Canton"
          ],
          [
           "Cape Coral"
          ],
          [
           "Cardwell"
          ],
          [
           "Carlisle"
          ],
          [
           "Carlotta"
          ],
          [
           "Carroll"
          ],
          [
           "Cascade Locks"
          ],
          [
           "Cass"
          ],
          [
           "Cassatt"
          ],
          [
           "Catawba"
          ],
          [
           "Cazenovia"
          ],
          [
           "Cecilton"
          ],
          [
           "Cedar"
          ],
          [
           "Center Point"
          ],
          [
           "Center Tuftonboro"
          ],
          [
           "Centerview"
          ],
          [
           "Central"
          ],
          [
           "Chatham"
          ],
          [
           "Cherokee Village"
          ],
          [
           "Chester"
          ],
          [
           "Chester Heights"
          ],
          [
           "Christine"
          ],
          [
           "Churubusco"
          ],
          [
           "Cisco"
          ],
          [
           "Claremont"
          ],
          [
           "Clarinda"
          ],
          [
           "Clarks Mills"
          ],
          [
           "Clarksville"
          ],
          [
           "Clarksville"
          ],
          [
           "Clay Center"
          ],
          [
           "Clayton"
          ],
          [
           "Clearwater"
          ],
          [
           "Cleveland"
          ],
          [
           "Cleveland"
          ],
          [
           "Clifton"
          ],
          [
           "Clune"
          ],
          [
           "Clutier"
          ],
          [
           "Cochranton"
          ],
          [
           "Coffeeville"
          ],
          [
           "Cokeburg"
          ],
          [
           "Coleharbor"
          ],
          [
           "Coleman"
          ],
          [
           "Collegeville"
          ],
          [
           "Collettsville"
          ],
          [
           "Colorado Springs"
          ],
          [
           "Colton"
          ],
          [
           "Columbia"
          ],
          [
           "Comfort"
          ],
          [
           "Comfrey"
          ],
          [
           "Conway"
          ],
          [
           "Conway"
          ],
          [
           "Cord"
          ],
          [
           "Corona"
          ],
          [
           "Corriganville"
          ],
          [
           "Corsica"
          ],
          [
           "Cottekill"
          ],
          [
           "Cowlesville"
          ],
          [
           "Coyle"
          ],
          [
           "Craig"
          ],
          [
           "Cranks"
          ],
          [
           "Creedmoor"
          ],
          [
           "Creola"
          ],
          [
           "Cressona"
          ],
          [
           "Cromona"
          ],
          [
           "Cross"
          ],
          [
           "Cross Plains"
          ],
          [
           "Crownpoint"
          ],
          [
           "Curlew"
          ],
          [
           "Cuthbert"
          ],
          [
           "Cuyahoga Falls"
          ],
          [
           "Dadeville"
          ],
          [
           "Dallas"
          ],
          [
           "Dallas"
          ],
          [
           "Dallas"
          ],
          [
           "Dallas"
          ],
          [
           "Dalton"
          ],
          [
           "Daly City"
          ],
          [
           "Damascus"
          ],
          [
           "Daniels"
          ],
          [
           "Darien"
          ],
          [
           "Dayton"
          ],
          [
           "De Lancey"
          ],
          [
           "De Queen"
          ],
          [
           "De Soto"
          ],
          [
           "De Witt"
          ],
          [
           "Deadwood"
          ],
          [
           "Deane"
          ],
          [
           "Delhi"
          ],
          [
           "Dell City"
          ],
          [
           "Deltona"
          ],
          [
           "Denham Springs"
          ],
          [
           "Des Moines"
          ],
          [
           "Des Moines"
          ],
          [
           "Desdemona"
          ],
          [
           "Detroit"
          ],
          [
           "Detroit"
          ],
          [
           "Detroit"
          ],
          [
           "Detroit"
          ],
          [
           "Dexter"
          ],
          [
           "Diamond"
          ],
          [
           "Dieterich"
          ],
          [
           "Doe Hill"
          ],
          [
           "Dongola"
          ],
          [
           "Downsville"
          ],
          [
           "Drakes Branch"
          ],
          [
           "Dresden"
          ],
          [
           "Du Pont"
          ],
          [
           "Dublin"
          ],
          [
           "Dubre"
          ],
          [
           "Dumont"
          ],
          [
           "Duncan"
          ],
          [
           "Dunlevy"
          ],
          [
           "Eagarville"
          ],
          [
           "Early"
          ],
          [
           "East Andover"
          ],
          [
           "East Canaan"
          ],
          [
           "East Rochester"
          ],
          [
           "East Troy"
          ],
          [
           "Easton"
          ],
          [
           "Edinburg"
          ],
          [
           "Edisto Island"
          ],
          [
           "Edmond"
          ],
          [
           "Egan"
          ],
          [
           "Ehrhardt"
          ],
          [
           "El Paso"
          ],
          [
           "Elberta"
          ],
          [
           "Eldridge"
          ],
          [
           "Elizabeth"
          ],
          [
           "Elizabethtown"
          ],
          [
           "Elk Rapids"
          ],
          [
           "Elkhart"
          ],
          [
           "Emmons"
          ],
          [
           "Emporium"
          ],
          [
           "Enola"
          ],
          [
           "Esbon"
          ],
          [
           "Espanola"
          ],
          [
           "Etlan"
          ],
          [
           "Eugene"
          ],
          [
           "Eureka"
          ],
          [
           "Fairhope"
          ],
          [
           "Fairview"
          ],
          [
           "Falconer"
          ],
          [
           "Falls Church"
          ],
          [
           "Falls City"
          ],
          [
           "Falmouth"
          ],
          [
           "Farmington"
          ],
          [
           "Fayetteville"
          ],
          [
           "Fenelton"
          ],
          [
           "Ferney"
          ],
          [
           "Fiddletown"
          ],
          [
           "Fields Landing"
          ],
          [
           "Florence"
          ],
          [
           "Ford"
          ],
          [
           "Fordoche"
          ],
          [
           "Fort Myers"
          ],
          [
           "Fort Washakie"
          ],
          [
           "Freedom"
          ],
          [
           "Fullerton"
          ],
          [
           "Fulton"
          ],
          [
           "Fulton"
          ],
          [
           "Gadsden"
          ],
          [
           "Gadsden"
          ],
          [
           "Gainesville"
          ],
          [
           "Gaithersburg"
          ],
          [
           "Galatia"
          ],
          [
           "Gardiner"
          ],
          [
           "Garfield"
          ],
          [
           "Garrattsville"
          ],
          [
           "Georgetown"
          ],
          [
           "Gibsonville"
          ],
          [
           "Girard"
          ],
          [
           "Glade Spring"
          ],
          [
           "Glen Rock"
          ],
          [
           "Glendale"
          ],
          [
           "Goodrich"
          ],
          [
           "Goreville"
          ],
          [
           "Grand Bay"
          ],
          [
           "Grand Junction"
          ],
          [
           "Grand Ridge"
          ],
          [
           "Grandview"
          ],
          [
           "Graniteville"
          ],
          [
           "Grant"
          ],
          [
           "Grantham"
          ],
          [
           "Grassflat"
          ],
          [
           "Great Mills"
          ],
          [
           "Greenbush"
          ],
          [
           "Greendale"
          ],
          [
           "Greenview"
          ],
          [
           "Greenville"
          ],
          [
           "Greenwich"
          ],
          [
           "Greenwood"
          ],
          [
           "Gregory"
          ],
          [
           "Grenada"
          ],
          [
           "Gretna"
          ],
          [
           "Grifton"
          ],
          [
           "Grimesland"
          ],
          [
           "Grover"
          ],
          [
           "Guthrie"
          ],
          [
           "Hahira"
          ],
          [
           "Haines City"
          ],
          [
           "Halma"
          ],
          [
           "Halstad"
          ],
          [
           "Hampton"
          ],
          [
           "Hampton"
          ],
          [
           "Hancock"
          ],
          [
           "Hannawa Falls"
          ],
          [
           "Harborcreek"
          ],
          [
           "Harmony"
          ],
          [
           "Harper"
          ],
          [
           "Harrington Park"
          ],
          [
           "Harrodsburg"
          ],
          [
           "Hartford"
          ],
          [
           "Harwood"
          ],
          [
           "Hatch"
          ],
          [
           "Haw River"
          ],
          [
           "Hawley"
          ],
          [
           "Hawthorne"
          ],
          [
           "Haynes"
          ],
          [
           "Hazel"
          ],
          [
           "Heart Butte"
          ],
          [
           "Hedley"
          ],
          [
           "Hedrick"
          ],
          [
           "Heidelberg"
          ],
          [
           "Heiskell"
          ],
          [
           "Heislerville"
          ],
          [
           "Helm"
          ],
          [
           "Henderson"
          ],
          [
           "Hewitt"
          ],
          [
           "Higganum"
          ],
          [
           "High Rolls Mountain Park"
          ],
          [
           "Highland"
          ],
          [
           "Hills"
          ],
          [
           "Hinckley"
          ],
          [
           "Hinesburg"
          ],
          [
           "Holcomb"
          ],
          [
           "Holliday"
          ],
          [
           "Holloway"
          ],
          [
           "Holstein"
          ],
          [
           "Honokaa"
          ],
          [
           "Hooper"
          ],
          [
           "Hopewell"
          ],
          [
           "Hopkins"
          ],
          [
           "Houston"
          ],
          [
           "Houston"
          ],
          [
           "Hovland"
          ],
          [
           "Howells"
          ],
          [
           "Howes Cave"
          ],
          [
           "Hudson"
          ],
          [
           "Hudson"
          ],
          [
           "Humble"
          ],
          [
           "Humboldt"
          ],
          [
           "Huntington Beach"
          ],
          [
           "Huntsville"
          ],
          [
           "Huntsville"
          ],
          [
           "Hurley"
          ],
          [
           "Hurricane"
          ],
          [
           "Huslia"
          ],
          [
           "Iliff"
          ],
          [
           "Independence"
          ],
          [
           "Indian Wells"
          ],
          [
           "Indianapolis"
          ],
          [
           "Indianapolis"
          ],
          [
           "Ironton"
          ],
          [
           "Irvine"
          ],
          [
           "Irvine"
          ],
          [
           "Irwinton"
          ],
          [
           "Iselin"
          ],
          [
           "Issaquah"
          ],
          [
           "Jackson"
          ],
          [
           "Jaffrey"
          ],
          [
           "Jay"
          ],
          [
           "Jefferson"
          ],
          [
           "Jelm"
          ],
          [
           "Jermyn"
          ],
          [
           "Johns Island"
          ],
          [
           "Joliet"
          ],
          [
           "Jones"
          ],
          [
           "Jordan Valley"
          ],
          [
           "Jordanville"
          ],
          [
           "Juliette"
          ],
          [
           "June Lake"
          ],
          [
           "Kansas City"
          ],
          [
           "Karnack"
          ],
          [
           "Keisterville"
          ],
          [
           "Keller"
          ],
          [
           "Kenner"
          ],
          [
           "Kensington"
          ],
          [
           "Kent"
          ],
          [
           "Key West"
          ],
          [
           "Kilgore"
          ],
          [
           "Kings Bay"
          ],
          [
           "Kingsford Heights"
          ],
          [
           "Kingsport"
          ],
          [
           "Kingsville"
          ],
          [
           "Kirby"
          ],
          [
           "Kirk"
          ],
          [
           "Kirkwood"
          ],
          [
           "Kirtland"
          ],
          [
           "Kirtland Afb"
          ],
          [
           "Kissee Mills"
          ],
          [
           "Kittery Point"
          ],
          [
           "Knowlesville"
          ],
          [
           "Knoxville"
          ],
          [
           "Lagrange"
          ],
          [
           "Laguna Hills"
          ],
          [
           "Lahoma"
          ],
          [
           "Lake Jackson"
          ],
          [
           "Lake Oswego"
          ],
          [
           "Lakeland"
          ],
          [
           "Lakeland"
          ],
          [
           "Lakeland"
          ],
          [
           "Lakeport"
          ],
          [
           "Lakeview"
          ],
          [
           "Lamberton"
          ],
          [
           "Lamy"
          ],
          [
           "Lanark Village"
          ],
          [
           "Lane"
          ],
          [
           "Laramie"
          ],
          [
           "Laredo"
          ],
          [
           "Lawn"
          ],
          [
           "Lawrence"
          ],
          [
           "Lebanon"
          ],
          [
           "Leetsdale"
          ],
          [
           "Leo"
          ],
          [
           "Leonard"
          ],
          [
           "Lepanto"
          ],
          [
           "Lexington"
          ],
          [
           "Liberty Mills"
          ],
          [
           "Lima"
          ],
          [
           "Linthicum Heights"
          ],
          [
           "Lithopolis"
          ],
          [
           "Littleton"
          ],
          [
           "Livonia"
          ],
          [
           "Llano"
          ],
          [
           "Loami"
          ],
          [
           "Logan"
          ],
          [
           "Lohrville"
          ],
          [
           "Lolita"
          ],
          [
           "Lomax"
          ],
          [
           "Lonetree"
          ],
          [
           "Lonsdale"
          ],
          [
           "Lorenzo"
          ],
          [
           "Los Angeles"
          ],
          [
           "Louisiana"
          ],
          [
           "Louisville"
          ],
          [
           "Louisville"
          ],
          [
           "Loving"
          ],
          [
           "Lowell"
          ],
          [
           "Lowville"
          ],
          [
           "Loxahatchee"
          ],
          [
           "Lubbock"
          ],
          [
           "Luray"
          ],
          [
           "Luzerne"
          ],
          [
           "Malad City"
          ],
          [
           "Mallie"
          ],
          [
           "Manchester"
          ],
          [
           "Manderson"
          ],
          [
           "Manistique"
          ],
          [
           "Manley"
          ],
          [
           "Manor"
          ],
          [
           "Manquin"
          ],
          [
           "Mansfield"
          ],
          [
           "Manville"
          ],
          [
           "Marathon"
          ],
          [
           "Margaretville"
          ],
          [
           "Maria Stein"
          ],
          [
           "Marienville"
          ],
          [
           "Marietta"
          ],
          [
           "Marion"
          ],
          [
           "Matawan"
          ],
          [
           "Matthews"
          ],
          [
           "May"
          ],
          [
           "Mayersville"
          ],
          [
           "Maysville"
          ],
          [
           "Mc Clellandtown"
          ],
          [
           "Mc Cracken"
          ],
          [
           "Mc Intosh"
          ],
          [
           "Mc Nabb"
          ],
          [
           "Mc Veytown"
          ],
          [
           "Meadville"
          ],
          [
           "Meadville"
          ],
          [
           "Melbourne"
          ],
          [
           "Mendon"
          ],
          [
           "Meredith"
          ],
          [
           "Meridian"
          ],
          [
           "Meridian"
          ],
          [
           "Mesa"
          ],
          [
           "Metairie"
          ],
          [
           "Methuen"
          ],
          [
           "Miamisburg"
          ],
          [
           "Michigan"
          ],
          [
           "Mifflin"
          ],
          [
           "Milford"
          ],
          [
           "Mill Creek"
          ],
          [
           "Milner"
          ],
          [
           "Milwaukee"
          ],
          [
           "Minneapolis"
          ],
          [
           "Minneapolis"
          ],
          [
           "Minnesota Lake"
          ],
          [
           "Moab"
          ],
          [
           "Mobile"
          ],
          [
           "Monetta"
          ],
          [
           "Monitor"
          ],
          [
           "Monmouth Beach"
          ],
          [
           "Montandon"
          ],
          [
           "Montgomery"
          ],
          [
           "Montrose"
          ],
          [
           "Moores Hill"
          ],
          [
           "Mooresville"
          ],
          [
           "Moorhead"
          ],
          [
           "Moravian Falls"
          ],
          [
           "Moriarty"
          ],
          [
           "Moriches"
          ],
          [
           "Moro"
          ],
          [
           "Morrisdale"
          ],
          [
           "Morrowville"
          ],
          [
           "Moscow"
          ],
          [
           "Moulton"
          ],
          [
           "Mound City"
          ],
          [
           "Mounds"
          ],
          [
           "Moundsville"
          ],
          [
           "Mount Clemens"
          ],
          [
           "Mount Hope"
          ],
          [
           "Mount Morris"
          ],
          [
           "Mount Perry"
          ],
          [
           "Mount Saint Joseph"
          ],
          [
           "Mountain Center"
          ],
          [
           "Mountain Park"
          ],
          [
           "Mulberry Grove"
          ],
          [
           "Munith"
          ],
          [
           "Murfreesboro"
          ],
          [
           "Murrayville"
          ],
          [
           "Muskegon"
          ],
          [
           "Napa"
          ],
          [
           "Naples"
          ],
          [
           "Naples"
          ],
          [
           "Nazareth"
          ],
          [
           "Nelson"
          ],
          [
           "New Boston"
          ],
          [
           "New Ellenton"
          ],
          [
           "New Franken"
          ],
          [
           "New Goshen"
          ],
          [
           "New Holstein"
          ],
          [
           "New Memphis"
          ],
          [
           "New Waverly"
          ],
          [
           "New York City"
          ],
          [
           "New York City"
          ],
          [
           "New York City"
          ],
          [
           "Newark Valley"
          ],
          [
           "Newberg"
          ],
          [
           "Newhall"
          ],
          [
           "Newport"
          ],
          [
           "Newton"
          ],
          [
           "Nobleboro"
          ],
          [
           "Nokomis"
          ],
          [
           "Noonan"
          ],
          [
           "Norman"
          ],
          [
           "Norman Park"
          ],
          [
           "North Augusta"
          ],
          [
           "North Brookfield"
          ],
          [
           "North Haverhill"
          ],
          [
           "North Judson"
          ],
          [
           "North Las Vegas"
          ],
          [
           "North Loup"
          ],
          [
           "North Prairie"
          ],
          [
           "North Tonawanda"
          ],
          [
           "North Washington"
          ],
          [
           "North Wilkesboro"
          ],
          [
           "Northport"
          ],
          [
           "Norwalk"
          ],
          [
           "Norwalk"
          ],
          [
           "Norwich"
          ],
          [
           "Notrees"
          ],
          [
           "O Brien"
          ],
          [
           "Oak Hill"
          ],
          [
           "Oakdale"
          ],
          [
           "Oakford"
          ],
          [
           "Oakland"
          ],
          [
           "Oakland"
          ],
          [
           "Oaks"
          ],
          [
           "Oconto Falls"
          ],
          [
           "Odessa"
          ],
          [
           "Ogdensburg"
          ],
          [
           "Oklahoma City"
          ],
          [
           "Old Hickory"
          ],
          [
           "Ollie"
          ],
          [
           "Olmsted"
          ],
          [
           "Omaha"
          ],
          [
           "Oolitic"
          ],
          [
           "Oran"
          ],
          [
           "Orangeburg"
          ],
          [
           "Orient"
          ],
          [
           "Orient"
          ],
          [
           "Oriskany Falls"
          ],
          [
           "Orr"
          ],
          [
           "Owensville"
          ],
          [
           "Oxford"
          ],
          [
           "Ozawkie"
          ],
          [
           "Paauilo"
          ],
          [
           "Paint Rock"
          ],
          [
           "Palermo"
          ],
          [
           "Palmdale"
          ],
          [
           "Palmyra"
          ],
          [
           "Paradise Valley"
          ],
          [
           "Paris"
          ],
          [
           "Parker"
          ],
          [
           "Parker Dam"
          ],
          [
           "Parkers Lake"
          ],
          [
           "Parks"
          ],
          [
           "Parsonsfield"
          ],
          [
           "Paulding"
          ],
          [
           "Paxton"
          ],
          [
           "Payson"
          ],
          [
           "Pea Ridge"
          ],
          [
           "Pearlington"
          ],
          [
           "Pecos"
          ],
          [
           "Pelham"
          ],
          [
           "Pembroke"
          ],
          [
           "Pembroke Township"
          ],
          [
           "Pewee Valley"
          ],
          [
           "Phenix City"
          ],
          [
           "Phil Campbell"
          ],
          [
           "Philadelphia"
          ],
          [
           "Philadelphia"
          ],
          [
           "Phoenix"
          ],
          [
           "Phoenix"
          ],
          [
           "Pikesville"
          ],
          [
           "Pittsburgh"
          ],
          [
           "Plainfield"
          ],
          [
           "Plantersville"
          ],
          [
           "Plymouth"
          ],
          [
           "Pointe Aux Pins"
          ],
          [
           "Pomona"
          ],
          [
           "Port Charlotte"
          ],
          [
           "Port Costa"
          ],
          [
           "Port Ewen"
          ],
          [
           "Port Gibson"
          ],
          [
           "Port Richey"
          ],
          [
           "Port Saint Lucie"
          ],
          [
           "Portland"
          ],
          [
           "Powell"
          ],
          [
           "Powell Butte"
          ],
          [
           "Prairie Creek"
          ],
          [
           "Prairie Hill"
          ],
          [
           "Premier"
          ],
          [
           "Preston"
          ],
          [
           "Princeton"
          ],
          [
           "Prosperity"
          ],
          [
           "Providence"
          ],
          [
           "Pueblo"
          ],
          [
           "Purmela"
          ],
          [
           "Putnam"
          ],
          [
           "Quanah"
          ],
          [
           "Queenstown"
          ],
          [
           "Ragland"
          ],
          [
           "Randolph"
          ],
          [
           "Randolph"
          ],
          [
           "Ranier"
          ],
          [
           "Ratcliff"
          ],
          [
           "Ravenna"
          ],
          [
           "Red Cliff"
          ],
          [
           "Red River"
          ],
          [
           "Redford"
          ],
          [
           "Remer"
          ],
          [
           "Reno"
          ],
          [
           "Republic"
          ],
          [
           "Reynolds"
          ],
          [
           "Rhame"
          ],
          [
           "Rice"
          ],
          [
           "Richland"
          ],
          [
           "Ridgeland"
          ],
          [
           "Ringwood"
          ],
          [
           "River"
          ],
          [
           "Riverton"
          ],
          [
           "Riverview"
          ],
          [
           "Rochester"
          ],
          [
           "Rock Glen"
          ],
          [
           "Rock Springs"
          ],
          [
           "Rock Tavern"
          ],
          [
           "Rockwell"
          ],
          [
           "Rockwood"
          ],
          [
           "Rocky Mount"
          ],
          [
           "Roma"
          ],
          [
           "Romulus"
          ],
          [
           "Ronceverte"
          ],
          [
           "Roosevelt"
          ],
          [
           "Roseland"
          ],
          [
           "Rosewood"
          ],
          [
           "Rossville"
          ],
          [
           "Ruckersville"
          ],
          [
           "Ruidoso"
          ],
          [
           "Rule"
          ],
          [
           "Rumely"
          ],
          [
           "Ruth"
          ],
          [
           "Sachse"
          ],
          [
           "Sacramento"
          ],
          [
           "Sacramento"
          ],
          [
           "Saint Amant"
          ],
          [
           "Saint Bonaventure"
          ],
          [
           "Saint Francis"
          ],
          [
           "Saint James City"
          ],
          [
           "Saint Louis"
          ],
          [
           "Saint Paul"
          ],
          [
           "Saint Petersburg"
          ],
          [
           "San Angelo"
          ],
          [
           "San Antonio"
          ],
          [
           "San Antonio"
          ],
          [
           "San Diego"
          ],
          [
           "San Diego"
          ],
          [
           "San Jose"
          ],
          [
           "Santa Monica"
          ],
          [
           "Sardis"
          ],
          [
           "Sauk Rapids"
          ],
          [
           "Saxon"
          ],
          [
           "Scarborough"
          ],
          [
           "Schaefferstown"
          ],
          [
           "Schaumburg"
          ],
          [
           "Scotia"
          ],
          [
           "Scotland"
          ],
          [
           "Scotts Mills"
          ],
          [
           "Sea Island"
          ],
          [
           "Seattle"
          ],
          [
           "Sebring"
          ],
          [
           "Seligman"
          ],
          [
           "Senatobia"
          ],
          [
           "Seneca"
          ],
          [
           "Shedd"
          ],
          [
           "Sheffield"
          ],
          [
           "Shelter Island"
          ],
          [
           "Shenandoah Junction"
          ],
          [
           "Sherman"
          ],
          [
           "Shields"
          ],
          [
           "Shippingport"
          ],
          [
           "Shrewsbury"
          ],
          [
           "Sixes"
          ],
          [
           "Skytop"
          ],
          [
           "Slayden"
          ],
          [
           "Smackover"
          ],
          [
           "Smith River"
          ],
          [
           "Smithfield"
          ],
          [
           "Smiths Grove"
          ],
          [
           "Smock"
          ],
          [
           "Sontag"
          ],
          [
           "South Hero"
          ],
          [
           "South Londonderry"
          ],
          [
           "South Richmond Hill"
          ],
          [
           "Southfield"
          ],
          [
           "Spearsville"
          ],
          [
           "Spencer"
          ],
          [
           "Spirit Lake"
          ],
          [
           "Sprague"
          ],
          [
           "Spring"
          ],
          [
           "Spring Church"
          ],
          [
           "Springfield"
          ],
          [
           "Springfield"
          ],
          [
           "Springfield Gardens"
          ],
          [
           "Springville"
          ],
          [
           "Stanchfield"
          ],
          [
           "Stayton"
          ],
          [
           "Stephensport"
          ],
          [
           "Sterling City"
          ],
          [
           "Steuben"
          ],
          [
           "Stillwater"
          ],
          [
           "Stirling"
          ],
          [
           "Stittville"
          ],
          [
           "Stoneham"
          ],
          [
           "Sturgis"
          ],
          [
           "Sula"
          ],
          [
           "Summerfield"
          ],
          [
           "Summerfield"
          ],
          [
           "Sun City"
          ],
          [
           "Sunflower"
          ],
          [
           "Superior"
          ],
          [
           "Surrency"
          ],
          [
           "Sutherland"
          ],
          [
           "Syracuse"
          ],
          [
           "Tallmansville"
          ],
          [
           "Tamaroa"
          ],
          [
           "Tampa"
          ],
          [
           "Tekoa"
          ],
          [
           "Texarkana"
          ],
          [
           "Thida"
          ],
          [
           "Thomas"
          ],
          [
           "Thomas"
          ],
          [
           "Thompson"
          ],
          [
           "Thornville"
          ],
          [
           "Thrall"
          ],
          [
           "Tickfaw"
          ],
          [
           "Timberville"
          ],
          [
           "Tiptonville"
          ],
          [
           "Titusville"
          ],
          [
           "Tomahawk"
          ],
          [
           "Tomales"
          ],
          [
           "Topeka"
          ],
          [
           "Topeka"
          ],
          [
           "Tower Hill"
          ],
          [
           "Trenton"
          ],
          [
           "Tryon"
          ],
          [
           "Tulsa"
          ],
          [
           "Tulsa"
          ],
          [
           "Tupper Lake"
          ],
          [
           "Turner"
          ],
          [
           "Tuscarora"
          ],
          [
           "Tyaskin"
          ],
          [
           "Tyler"
          ],
          [
           "Uledi"
          ],
          [
           "Umatilla"
          ],
          [
           "Union"
          ],
          [
           "Unionville"
          ],
          [
           "University"
          ],
          [
           "Utica"
          ],
          [
           "Utica"
          ],
          [
           "Utica"
          ],
          [
           "Valdosta"
          ],
          [
           "Valentine"
          ],
          [
           "Vancouver"
          ],
          [
           "Vanderbilt"
          ],
          [
           "Varnell"
          ],
          [
           "Veedersburg"
          ],
          [
           "Vero Beach"
          ],
          [
           "Vienna"
          ],
          [
           "Vinton"
          ],
          [
           "Viola"
          ],
          [
           "Wales"
          ],
          [
           "Walnut Ridge"
          ],
          [
           "Warren"
          ],
          [
           "Warren"
          ],
          [
           "Washington"
          ],
          [
           "Washington"
          ],
          [
           "Washington"
          ],
          [
           "Washington Court House"
          ],
          [
           "Washoe Valley"
          ],
          [
           "Watertown"
          ],
          [
           "Wauchula"
          ],
          [
           "Waukesha"
          ],
          [
           "Waupaca"
          ],
          [
           "Waynesfield"
          ],
          [
           "Webster City"
          ],
          [
           "Weeping Water"
          ],
          [
           "Wendel"
          ],
          [
           "West Bethel"
          ],
          [
           "West Chazy"
          ],
          [
           "West Columbia"
          ],
          [
           "West Decatur"
          ],
          [
           "West Eaton"
          ],
          [
           "West Finley"
          ],
          [
           "West Green"
          ],
          [
           "West Harrison"
          ],
          [
           "West Hartford"
          ],
          [
           "West Henrietta"
          ],
          [
           "West Long Branch"
          ],
          [
           "West Monroe"
          ],
          [
           "West Palm Beach"
          ],
          [
           "West Palm Beach"
          ],
          [
           "West Sayville"
          ],
          [
           "Westerville"
          ],
          [
           "Westfir"
          ],
          [
           "Westhampton Beach"
          ],
          [
           "Westport"
          ],
          [
           "Wetmore"
          ],
          [
           "Wever"
          ],
          [
           "Whaleyville"
          ],
          [
           "Wheaton"
          ],
          [
           "Whigham"
          ],
          [
           "White Sulphur Springs"
          ],
          [
           "Whittemore"
          ],
          [
           "Wichita"
          ],
          [
           "Wichita"
          ],
          [
           "Williams"
          ],
          [
           "Williamsburg"
          ],
          [
           "Wilmette"
          ],
          [
           "Wilmington"
          ],
          [
           "Wilton"
          ],
          [
           "Winfield"
          ],
          [
           "Winger"
          ],
          [
           "Winslow"
          ],
          [
           "Winter"
          ],
          [
           "Winthrop"
          ],
          [
           "Wittenberg"
          ],
          [
           "Woods Cross"
          ],
          [
           "Woodville"
          ],
          [
           "Yellowstone National Park"
          ],
          [
           "Zaleski"
          ],
          [
           "Zavalla"
          ]
         ],
         "hovertemplate": "trans_num=%{marker.color}<br>lat=%{lat}<br>long=%{lon}<br>city=%{customdata[0]}<extra></extra>",
         "lat": [
          33.8396,
          43.196000000000005,
          43.8967,
          44.8696,
          45.3637,
          41.0695,
          42.6853,
          35.0561,
          35.1506,
          45.1939,
          32.7004,
          38.832,
          40.2367,
          32.6064,
          40.5891,
          42.0737,
          34.077,
          29.6047,
          42.9782,
          44.8816,
          40.3207,
          44.6873,
          39.6251,
          40.3928,
          36.9412,
          40.4731,
          35.1959,
          40.8618,
          39.0305,
          35.0149,
          34.9572,
          41.1116,
          44.5232,
          38.859,
          38.8954,
          40.4603,
          41.136,
          38.4305,
          39.8422,
          36.2201,
          42.5232,
          46.7531,
          39.9458,
          45.8289,
          37.9073,
          44.0948,
          39.6662,
          33.141,
          41.4768,
          34.1248,
          42.9207,
          35.8072,
          38.577,
          45.7205,
          43.2237,
          41.6983,
          41.9488,
          38.8089,
          30.4066,
          42.3327,
          34.5091,
          43.6088,
          45.5197,
          30.8635,
          29.479,
          40.7687,
          40.8314,
          42.32,
          45.7801,
          44.6723,
          40.6729,
          42.8511,
          43.4512,
          42.5545,
          33.3224,
          38.9424,
          35.2289,
          37.1046,
          42.074,
          43.5336,
          33.4629,
          33.4816,
          40.8626,
          33.3645,
          39.8127,
          38.5319,
          32.0758,
          40.3673,
          34.3091,
          41.1573,
          26.3771,
          40.9115,
          46.2306,
          44.0575,
          39.5756,
          44.9437,
          34.0326,
          41.1832,
          27.9551,
          43.8065,
          31.571,
          40.1959,
          42.1939,
          39.8016,
          45.2857,
          30.9788,
          40.1159,
          38.1981,
          40.8798,
          44.2541,
          40.6816,
          39.8854,
          40.029,
          44.0577,
          32.9413,
          45.203,
          36.6966,
          46.1966,
          38.7894,
          48.4786,
          35.3492,
          38.0261,
          31.9907,
          36.802,
          30.9,
          39.2048,
          43.3392,
          40.2967,
          40.8027,
          26.6939,
          36.0434,
          38.9763,
          40.507,
          42.277,
          45.67100000000001,
          38.388000000000005,
          34.3424,
          37.3696,
          43.4987,
          39.4015,
          44.8605,
          39.4125,
          43.6849,
          38.7897,
          38.097,
          42.3496,
          36.3011,
          38.9583,
          39.8839,
          46.5522,
          41.229,
          39.9972,
          34.1092,
          40.7491,
          41.3851,
          36.522,
          39.3465,
          41.5686,
          34.5906,
          27.9004,
          30.33,
          33.9778,
          34.9906,
          40.5503,
          42.0789,
          41.5205,
          33.9215,
          40.1008,
          47.5196,
          31.8287,
          45.5783,
          35.9946,
          38.8881,
          46.5901,
          33.9659,
          38.1372,
          44.1111,
          43.9742,
          48.34,
          35.8184,
          33.8419,
          39.6967,
          41.1762,
          41.8467,
          42.8112,
          35.8985,
          55.4732,
          36.7558,
          36.1124,
          39.3543,
          40.6284,
          37.1788,
          33.3364,
          32.1482,
          35.7206,
          42.9633,
          31.7706,
          41.1464,
          32.8224,
          32.69,
          32.7699,
          32.8463,
          32.876999999999995,
          43.6718,
          37.6787,
          36.6403,
          37.7256,
          31.3826,
          39.8355,
          42.18899999999999,
          34.0442,
          38.9462,
          34.2853,
          44.3566,
          37.2409,
          32.3929,
          31.924,
          28.8989,
          30.459,
          41.5855,
          41.603,
          32.2819,
          42.3669,
          42.3749,
          42.377,
          42.426,
          37.1641,
          41.0935,
          39.0319,
          38.4207,
          37.3712,
          42.0716,
          36.9688,
          39.6094,
          31,
          40.375,
          36.8421,
          39.7532,
          34.047,
          40.1151,
          39.1118,
          42.4483,
          44.6084,
          42.0158,
          43.1128,
          42.8035,
          39.3391,
          38.8432,
          32.5486,
          35.6665,
          30.251,
          33.1044,
          31.8092,
          44.5995,
          33.9315,
          40.6747,
          37.6848,
          44.8955,
          41.8114,
          43.5089,
          41.5177,
          35.2087,
          39.7562,
          35.9866,
          38.5095,
          44.0385,
          40.7152,
          30.5012,
          40.817,
          42.1239,
          38.8856,
          28.9814,
          44.2529,
          42.958,
          35.0583,
          40.8555,
          45.32899999999999,
          38.5234,
          40.7268,
          32.153,
          37.1349,
          30.6576,
          26.4722,
          43.0048,
          43.0172,
          41.36600000000001,
          40.4971,
          43.7588,
          33.9845,
          34.048,
          33.6547,
          39.2335,
          37.8274,
          43.7857,
          38.0649,
          42.6315,
          47.0999,
          36.1183,
          33.0437,
          36.7779,
          39.7813,
          34.1556,
          42.9147,
          37.575,
          30.4983,
          35.0659,
          30.7148,
          32.2779,
          44.1554,
          34.4959,
          43.5103,
          41.0036,
          38.2674,
          37.7681,
          42.9373,
          41.5403,
          40.0987,
          39.4055,
          39.596,
          35.1791,
          41.6125,
          29.8872,
          35.3757,
          35.558,
          35.1836,
          35.833,
          30.9416,
          28.0758,
          48.6669,
          47.3551,
          29.8575,
          37.0462,
          39.6991,
          44.6087,
          42.1767,
          40.8496,
          30.2816,
          40.9918,
          39.013000000000005,
          31.086,
          38.8582,
          37.7175,
          36.0424,
          46.9777,
          33.9143,
          34.8838,
          36.5422,
          48.2777,
          34.8698,
          41.1826,
          31.882,
          36.115,
          39.224,
          36.4992,
          38.8265,
          44.6437,
          41.4682,
          32.9396,
          41.55,
          43.5335,
          41.2419,
          44.3346,
          37.9931,
          33.6751,
          40.0113,
          40.4542,
          20.0827,
          41.6414,
          37.2876,
          33.9349,
          29.7736,
          29.7972,
          47.8342,
          41.6964,
          42.7045,
          38.1485,
          42.247,
          30.0041,
          34.5189,
          33.6773,
          34.6205,
          34.7789,
          43.2893,
          38.4257,
          65.6899,
          40.7692,
          39.1412,
          33.7163,
          39.849,
          39.9347,
          38.5294,
          37.6858,
          41.8117,
          32.8088,
          40.5716,
          47.4974,
          32.3739,
          42.8178,
          30.8985,
          42.4999,
          41.0539,
          41.5744,
          32.8357,
          41.5378,
          32.5104,
          42.8801,
          42.8948,
          33.1194,
          37.7773,
          38.9621,
          32.6205,
          39.9636,
          32.9276,
          29.9912,
          39.0298,
          45.0838,
          24.6557,
          32.3836,
          30.7906,
          41.4802,
          36.4715,
          39.4558,
          40.813,
          39.6171,
          42.0695,
          36.741,
          35.0203,
          36.6704,
          43.0976,
          43.2363,
          35.9335,
          41.6423,
          33.615,
          36.385,
          29.0393,
          45.4093,
          27.9611,
          27.9865,
          28.1762,
          39.047,
          43.4269,
          44.2378,
          35.4311,
          29.8826,
          34.2691,
          41.4247,
          27.5155,
          40.2236,
          42.6911,
          36.8809,
          40.5662,
          41.2249,
          33.4044,
          35.6069,
          38.0174,
          41.0356,
          40.7641,
          39.2092,
          39.8013,
          39.5994,
          42.3958,
          36.1486,
          39.6704,
          37.9943,
          42.2619,
          28.7724,
          40.6761,
          41.0552,
          44.4477,
          33.6666,
          34.0443,
          39.4336,
          38.1901,
          38.2507,
          32.274,
          43.92100000000001,
          43.7893,
          26.7383,
          33.5466,
          40.4931,
          44.6001,
          42.1808,
          37.2692,
          39.6747,
          43.3526,
          46.0062,
          40.9207,
          40.3359,
          37.7184,
          40.7559,
          42.73,
          30.1886,
          42.1852,
          40.4062,
          41.4622,
          35.0296,
          41.7918,
          40.4109,
          36.7154,
          31.9571,
          32.9013,
          38.6207,
          39.8882,
          38.5957,
          45.7084,
          41.173,
          40.5046,
          31.4285,
          39.7795,
          28.1384,
          41.71,
          39.3199,
          31.929,
          43.6498,
          44.6255,
          29.9975,
          42.728,
          39.6321,
          48.0204,
          40.5553,
          39.1657,
          40.4679,
          33.141,
          42.9676,
          44.9673,
          45.0632,
          43.8295,
          38.5677,
          30.7145,
          33.8084,
          47.4852,
          40.333,
          40.9661,
          32.3374,
          41.2496,
          39.0945,
          35.584,
          33.4783,
          36.0788,
          34.9889,
          40.8095,
          38.9318,
          41.0001,
          39.8616,
          41.5646,
          40.6866,
          40.1362,
          35.8896,
          39.9148,
          42.5978,
          34.4793,
          42.6835,
          39.8788,
          39.0965,
          33.6401,
          34.7032,
          38.9311,
          42.3703,
          35.8596,
          39.5723,
          43.2326,
          38.4549,
          26.1184,
          26.3304,
          34.5444,
          40.201,
          41.2153,
          33.413000000000004,
          44.5592,
          39.5803,
          43.9446,
          38.4857,
          30.5354,
          40.7105,
          40.7699,
          40.8265,
          42.2281,
          45.3099,
          34.3795,
          44.8393,
          42.8678,
          44.0943,
          39.3036,
          48.8856,
          34.4596,
          31.2462,
          33.6028,
          42.2665,
          44.0978,
          41.2244,
          36.2815,
          41.4972,
          42.9385,
          43.0498,
          41.0472,
          36.2017,
          40.9051,
          33.9056,
          41.2403,
          39.9934,
          31.8599,
          33.3749,
          42.4069,
          40.7382,
          40.0994,
          35.2229,
          37.7878,
          40.1334,
          44.8755,
          38.9829,
          41.0767,
          35.6174,
          36.2416,
          41.2001,
          37.1935,
          41.2064,
          38.8938,
          42.7012,
          41.0442,
          41.1437,
          48.8878,
          42.9576,
          48.1439,
          38.3511,
          42.8223,
          39.2136,
          20.0271,
          34.7031,
          48.3396,
          34.5715,
          43.0622,
          33.5494,
          34.1992,
          39.5102,
          34.298,
          36.8347,
          35.2563,
          43.745,
          41.141000000000005,
          42.3066,
          39.8153,
          36.4539,
          30.2508,
          31.4467,
          36.4899,
          34.6902,
          41.0646,
          38.3039,
          32.4204,
          34.347,
          40.0369,
          40.0897,
          33.5623,
          33.8155,
          39.3764,
          40.4308,
          40.6152,
          32.6176,
          41.6611,
          45.7549,
          41.1901,
          26.9379,
          38.046,
          41.8948,
          43.033,
          28.3011,
          27.2625,
          45.5303,
          36.0435,
          44.2415,
          39.4336,
          31.6591,
          37.3752,
          41.5224,
          41.6858,
          34.1832,
          41.8383,
          38.2352,
          31.4841,
          41.1949,
          34.2956,
          39.0026,
          33.7367,
          41.0109,
          44.5274,
          48.6031,
          31.3833,
          41.0233,
          39.4584,
          36.6659,
          37.3272,
          47.0874,
          39.5483,
          46.368,
          47.7068,
          46.1664,
          45.7364,
          39.485,
          32.4122,
          42.4048,
          37.8795,
          43.0351,
          42.1782,
          37.2048,
          40.954,
          41.606,
          41.4575,
          43.0032,
          39.9373,
          38.2911,
          26.4215,
          42.2203,
          37.7418,
          34.847,
          40.4591,
          40.2158,
          40.3625,
          38.2586,
          33.3305,
          33.0771,
          46.3481,
          39.3426,
          32.9643,
          38.5662,
          38.6865,
          30.2385,
          42.2701,
          37.6047,
          26.529,
          38.6171,
          44.9913,
          27.7898,
          31.4647,
          29.3641,
          29.5894,
          32.7185,
          33.0067,
          37.3304,
          34.0287,
          32.2844,
          45.604,
          46.4959,
          43.5835,
          40.3087,
          42.0144,
          32.6786,
          38.0828,
          44.9897,
          31.1989,
          47.5412,
          27.4703,
          36.5276,
          34.6323,
          43.2064,
          44.453,
          42.1001,
          41.06399999999999,
          39.3716,
          33.6372,
          46.1838,
          40.6025,
          42.2848,
          42.825,
          41.2336,
          36.2835,
          33.3398,
          41.9404,
          40.4855,
          37.0581,
          39.9961,
          31.6453,
          44.64,
          43.1699,
          40.6868,
          42.4969,
          32.955,
          43.7557,
          47.9657,
          40.6267,
          30.0377,
          40.6153,
          32.3697,
          38.8029,
          40.6645,
          42.52,
          45.6675,
          44.8021,
          37.9048,
          31.8351,
          44.4971,
          36.1043,
          40.6774,
          43.2229,
          42.4828,
          33.357,
          45.8433,
          34.7437,
          36.2245,
          33.7467,
          33.5567,
          33.2887,
          31.6489,
          41.1558,
          38.6547,
          38.8564,
          38.138000000000005,
          28.06,
          47.2271,
          33.431,
          35.5762,
          35.7382,
          39.1505,
          38.9999,
          39.8974,
          30.592,
          30.5668,
          38.6476,
          36.3846,
          28.5697,
          45.4963,
          38.2427,
          39.0645,
          39.1329,
          39.39,
          33.4235,
          35.8759,
          36.0557,
          36.2395,
          44.232,
          48.8328,
          39.2667,
          38.2833,
          32.2768,
          39.8936,
          28.9254,
          37.5802,
          40.4815,
          34.3396,
          38.6411,
          39.7417,
          41.4798,
          30.946,
          42.8062,
          45.6892,
          40.0246,
          34.9298,
          40.1186,
          27.633000000000003,
          32.0913,
          40.0235,
          36.3924,
          64.7556,
          36.0244,
          41.2639,
          42.5164,
          38.9087,
          38.9367,
          38.9757,
          39.537,
          39.2669,
          44.9595,
          27.5517,
          42.9993,
          44.3481,
          40.6072,
          42.4657,
          40.8731,
          40.3406,
          44.402,
          44.797,
          33.9568,
          40.9493,
          42.8546,
          39.9914,
          31.6143,
          41.0592,
          43.7185,
          43.0397,
          40.2878,
          32.5317,
          26.7197,
          26.7832,
          40.732,
          41.4193,
          43.7575,
          40.8295,
          38.4921,
          46.3535,
          40.7067,
          38.4121,
          36.7651,
          30.8836,
          37.7827,
          43.0261,
          37.6223,
          37.6395,
          38.7735,
          38.8874,
          42.0765,
          34.2651,
          47.1709,
          38.5072,
          47.5375,
          35.8312,
          45.8327,
          44.3229,
          44.8232,
          40.8874,
          34.6689,
          44.7957,
          39.283,
          31.1569
         ],
         "legendgroup": "",
         "lon": [
          -96.3648,
          -72.3001,
          -89.8219,
          -92.8234,
          -84.4695,
          -81.5488,
          -73.8253,
          -106.5506,
          -106.569,
          -112.0568,
          -97.6039,
          -77.12,
          -74.0067,
          -83.2095,
          -75.4645,
          -78.0594,
          -84.3033,
          -96.5249,
          -96.0173,
          -73.6408,
          -110.436,
          -104.4414,
          -82.7552,
          -111.7941,
          -98.2458,
          -80.9596,
          -83.8228,
          -85.6067,
          -76.5515,
          -85.0164,
          -81.9916,
          -83.50200000000001,
          -86.2061,
          -77.0997,
          -77.1633,
          -79.0097,
          -73.7009,
          -90.387,
          -105.1097,
          -91.6421,
          -72.811,
          -121.9898,
          -75.9703,
          -118.4971,
          -75.5089,
          -70.23899999999999,
          -104.835,
          -82.515,
          -95.3509,
          -117.9031,
          -91.0685,
          -78.0892,
          -90.5255,
          -98.5534,
          -75.1612,
          -70.3001,
          -86.4913,
          -78.7776,
          -91.1468,
          -95.6045,
          -92.4828,
          -83.95299999999999,
          -123.8761,
          -87.7644,
          -95.9681,
          -80.3592,
          -83.9758,
          -78.0943,
          -111.1439,
          -103.8396,
          -73.5365,
          -93.62,
          -71.48899999999999,
          -90.3508,
          -86.9657,
          -84.09200000000001,
          -88.64399999999999,
          -83.5706,
          -74.453,
          -95.6515,
          -86.7904,
          -86.859,
          -91.9534,
          -81.2718,
          -120.6405,
          -93.9221,
          -96.701,
          -79.1605,
          -78.3372,
          -88.0619,
          -81.7334,
          -74.414,
          -112.1138,
          -69.9656,
          -83.7153,
          -91.0294,
          -82.2027,
          -96.9882,
          -82.2966,
          -73.0882,
          -86.2743,
          -92.4333,
          -76.7361,
          -75.3478,
          -108.9082,
          -84.7373,
          -74.8536,
          -86.6821,
          -73.9067,
          -68.5565,
          -73.9798,
          -105.1139,
          -93.1607,
          -76.0196,
          -81.1807,
          -88.9983,
          -96.7869,
          -118.9017,
          -77.2818,
          -122.3345,
          -99.188,
          -97.6666,
          -96.9837,
          -87.8286,
          -94.7547,
          -94.0259,
          -75.7543,
          -98.737,
          -81.3739,
          -81.9452,
          -90.2907,
          -87.3667,
          -123.9743,
          -97.1926,
          -121.8686,
          -79.9906,
          -80.5,
          -80.1284,
          -90.2796,
          -75.8654,
          -85.8138,
          -80.6352,
          -71.2551,
          -93.8702,
          -86.1723,
          -73.5873,
          -91.5281,
          -76.2842,
          -75.4669,
          -96.7909,
          -85.3244,
          -88.6962,
          -117.7183,
          -95.038,
          -80.1752,
          -87.34899999999999,
          -90.9362,
          -83.3632,
          -95.38,
          -82.7152,
          -95.0202,
          -86.5598,
          -81.8327,
          -79.3237,
          -92.3763,
          -80.0573,
          -89.6782,
          -80.0652,
          -101.2332,
          -99.427,
          -94.4199,
          -81.7266,
          -104.6556,
          -117.1692,
          -80.9355,
          -81.5962,
          -94.9134,
          -71.1503,
          -122.3456,
          -91.3375,
          -117.6043,
          -78.8031,
          -79.1976,
          -74.1038,
          -78.4481,
          -97.2607,
          -133.1171,
          -83.1838,
          -78.6476,
          -82.50299999999999,
          -76.195,
          -82.695,
          -80.1859,
          -99.1872,
          -108.0271,
          -94.7975,
          -84.7936,
          -81.5107,
          -85.7704,
          -96.9177,
          -96.743,
          -96.6972,
          -96.708,
          -89.1918,
          -122.478,
          -81.7776,
          -81.1087,
          -81.4312,
          -84.2613,
          -74.9229,
          -94.3386,
          -94.9714,
          -91.3336,
          -103.6999,
          -82.7696,
          -91.4714,
          -105.2099,
          -81.2473,
          -90.9027,
          -93.6719,
          -93.633,
          -98.5673,
          -82.9938,
          -83.1087,
          -83.0796,
          -83.15,
          -96.6917,
          -81.0425,
          -88.4074,
          -79.4629,
          -89.1349,
          -75.0152,
          -78.5615,
          -100.4112,
          -82.8555,
          -75.2045,
          -85.5396,
          -105.6356,
          -90.7652,
          -79.8627,
          -89.7855,
          -95.1726,
          -70.6993,
          -73.2913,
          -77.4906,
          -88.4092,
          -95.0999,
          -78.6003,
          -80.307,
          -97.4798,
          -92.5002,
          -81.0221,
          -106.4247,
          -86.2141,
          -87.6194,
          -74.2239,
          -85.8784,
          -85.4082,
          -93.4855,
          -93.4824,
          -78.2536,
          -92.2123,
          -98.4462,
          -106.0654,
          -78.2638,
          -123.0614,
          -89.2706,
          -87.8835,
          -74,
          -79.1895,
          -77.1802,
          -98.0156,
          -85.01700000000001,
          -77.3083,
          -79.008,
          -79.7372,
          -98.0837,
          -120.6763,
          -124.2174,
          -90.1217,
          -77.7364,
          -91.6264,
          -81.8122,
          -108.8964,
          -111.0292,
          -98.0054,
          -82.8342,
          -97.8712,
          -85.9077,
          -85.9246,
          -97.1583,
          -77.1458,
          -88.6235,
          -124.1437,
          -99.2374,
          -75.1866,
          -96.727,
          -79.5685,
          -81.7106,
          -81.7676,
          -76.7477,
          -118.2322,
          -83.4845,
          -88.9655,
          -88.3282,
          -89.1534,
          -85.021,
          -97.2351,
          -72.4847,
          -86.259,
          -72.1334,
          -78.1104,
          -76.4954,
          -75.6664,
          -87.9943,
          -122.9366,
          -84.6342,
          -75.3209,
          -86.1309,
          -91.2594,
          -122.5258,
          -90.0331,
          -77.4193,
          -77.2566,
          -81.4552,
          -97.436,
          -83.3574,
          -81.5929,
          -96.5969,
          -96.798,
          -82.1483,
          -76.4096,
          -78.1762,
          -74.9732,
          -79.9416,
          -80.1381,
          -99.241,
          -73.98,
          -86.5457,
          -85.7192,
          -76.6145,
          -112.4777,
          -79.3242,
          -96.4092,
          -118.3493,
          -90.7666,
          -88.3319,
          -112.8456,
          -100.6806,
          -92.3097,
          -88.9981,
          -84.0438,
          -74.9942,
          -120.0936,
          -82.1364,
          -90.1031,
          -72.5751,
          -105.8189,
          -87.4569,
          -96.3645,
          -81.7453,
          -73.098,
          -100.9893,
          -98.6576,
          -80.9701,
          -98.6538,
          -155.488,
          -96.5232,
          -77.295,
          -80.8449,
          -95.4034,
          -95.3288,
          -90.0476,
          -96.9858,
          -74.3648,
          -98.6408,
          -73.7552,
          -95.2825,
          -112.2523,
          -118.0051,
          -86.551,
          -86.5438,
          -97.1904,
          -81.9943,
          -156.292,
          -103.0968,
          -94.3515,
          -116.3381,
          -86.272,
          -86.1633,
          -82.6654,
          -83.9862,
          -79.2643,
          -83.17399999999999,
          -74.3167,
          -122.0107,
          -90.1293,
          -72.0275,
          -87.1332,
          -74.6117,
          -106.0763,
          -75.5881,
          -79.8217,
          -88.0572,
          -86.8138,
          -117.281,
          -74.8209,
          -83.8235,
          -119.0825,
          -94.5959,
          -94.2,
          -79.7853,
          -97.2489,
          -90.2479,
          -77.0793,
          -120.6649,
          -81.3824,
          -94.8653,
          -81.5607,
          -86.6919,
          -82.4834,
          -76.4147,
          -83.4196,
          -102.4776,
          -75.7967,
          -108.351,
          -106.5503,
          -93.0377,
          -70.7121,
          -78.3138,
          -84.1481,
          -104.1974,
          -117.7114,
          -98.0727,
          -95.4401,
          -122.6847,
          -81.9398,
          -82.0139,
          -81.9591,
          -122.9328,
          -85.2924,
          -95.2739,
          -105.9409,
          -84.5964,
          -95.9685,
          -105.4781,
          -99.4986,
          -76.538,
          -71.1605,
          -82.0956,
          -80.2099,
          -85.0301,
          -96.2238,
          -90.3359,
          -84.4854,
          -85.7358,
          -84.0973,
          -76.6681,
          -82.8125,
          -105.0044,
          -83.3772,
          -105.6648,
          -89.8588,
          -88.9417,
          -94.5566,
          -96.4793,
          -91.0391,
          -110.1603,
          -93.4252,
          -101.5277,
          -118.2509,
          -91.0664,
          -85.7519,
          -85.7476,
          -104.0914,
          -122.7806,
          -75.4156,
          -80.27600000000001,
          -101.8871,
          -91.8912,
          -84.2931,
          -112.262,
          -82.9161,
          -76.8941,
          -102.5411,
          -86.2555,
          -96.168,
          -79.6607,
          -77.186,
          -82.5123,
          -104.7024,
          -103.2214,
          -74.6178,
          -84.5076,
          -79.1306,
          -82.5136,
          -72.7188,
          -74.238,
          -89.6287,
          -98.9656,
          -91.0286,
          -83.8067,
          -79.8694,
          -99.554,
          -101.1546,
          -89.2187,
          -77.7186,
          -90.8578,
          -93.3014,
          -80.6524,
          -111.9817,
          -106.6596,
          -97.6443,
          -116.4306,
          -116.4493,
          -90.2146,
          -71.181,
          -84.2675,
          -98.1186,
          -77.4001,
          -84.23299999999999,
          -77.8967,
          -84.1759,
          -88.0434,
          -93.2828,
          -93.3811,
          -93.8282,
          -109.5271,
          -88.0918,
          -81.5956,
          -120.4158,
          -73.9809,
          -76.8575,
          -86.2715,
          -73.9446,
          -85.0638,
          -80.8685,
          -90.5142,
          -81.1781,
          -106.0609,
          -72.8229,
          -89.9618,
          -78.2357,
          -97.1825,
          -91.0859,
          -92.6833,
          -95.2138,
          -96.0887,
          -80.73100000000001,
          -82.8823,
          -87.4769,
          -77.8664,
          -82.18799999999999,
          -84.6431,
          -116.5567,
          -98.9591,
          -89.2463,
          -84.2485,
          -86.421,
          -90.2379,
          -86.2492,
          -122.2564,
          -81.7361,
          -81.5871,
          -102.1069,
          -98.0684,
          -90.9879,
          -81.69,
          -87.8235,
          -87.4616,
          -88.0911,
          -89.6816,
          -95.4532,
          -74.0163,
          -73.9511,
          -73.9383,
          -76.1625,
          -122.9685,
          -118.523,
          -69.2675,
          -71.042,
          -69.4828,
          -89.2853,
          -103.0098,
          -93.6743,
          -83.6549,
          -81.9748,
          -72.0821,
          -72.0191,
          -86.6966,
          -115.1482,
          -98.7858,
          -88.395,
          -78.851,
          -79.8089,
          -81.1286,
          -73.3309,
          -118.0818,
          -82.6078,
          -81.8024,
          -102.7413,
          -99.8473,
          -74.1528,
          -73.1297,
          -89.9601,
          -89.5518,
          -122.1884,
          -75.4536,
          -88.1555,
          -93.9757,
          -74.5982,
          -97.5583,
          -86.6117,
          -92.1354,
          -89.0933,
          -95.9953,
          -86.5246,
          -92.0762,
          -73.9609,
          -72.2879,
          -118.2105,
          -75.4838,
          -92.8561,
          -91.4867,
          -83.2829,
          -95.4404,
          -155.3697,
          -86.3068,
          -102.24,
          -118.0231,
          -77.2218,
          -111.9565,
          -89.382,
          -104.7216,
          -114.156,
          -84.4436,
          -111.95,
          -70.9092,
          -84.5722,
          -71.9202,
          -91.2627,
          -94.118,
          -89.6011,
          -103.5791,
          -79.4736,
          -79.1834,
          -87.5917,
          -85.4834,
          -85.0796,
          -87.7154,
          -75.0664,
          -74.9781,
          -112.0559,
          -112.1202,
          -76.729,
          -79.9205,
          -74.415,
          -86.9475,
          -73.0449,
          -84.447,
          -74.0436,
          -82.2388,
          -122.1866,
          -73.9767,
          -77.1575,
          -82.6927,
          -80.3793,
          -122.7033,
          -84.04,
          -121.0113,
          -87.4101,
          -96.8094,
          -81.6539,
          -71.9934,
          -90.3706,
          -81.5324,
          -71.4377,
          -104.66,
          -97.9903,
          -89.4409,
          -99.7494,
          -76.1424,
          -86.1619,
          -81.2977,
          -93.0196,
          -93.2977,
          -95.0619,
          -98.9041,
          -106.3851,
          -105.4694,
          -91.0243,
          -93.9196,
          -119.7957,
          -87.9938,
          -97.2092,
          -103.7079,
          -94.1658,
          -74.8776,
          -90.1207,
          -88.3054,
          -82.7251,
          -108.2024,
          -83.2461,
          -86.8592,
          -76.1747,
          -109.23,
          -74.1659,
          -93.2167,
          -79.1865,
          -92.7059,
          -99.0025,
          -83.3583,
          -80.4626,
          -98.9836,
          -98.5551,
          -83.9579,
          -87.6692,
          -78.4074,
          -105.6933,
          -99.959,
          -87.0436,
          -114.8859,
          -96.6012,
          -121.3286,
          -121.3494,
          -90.8435,
          -78.6847,
          -85.4251,
          -82.0916,
          -90.4504,
          -92.9487,
          -82.7243,
          -100.39,
          -98.4924,
          -98.5201,
          -117.1593,
          -117.069,
          -121.7913,
          -118.4924,
          -86.992,
          -94.1591,
          -90.4383,
          -70.3457,
          -76.2963,
          -88.0935,
          -81.2455,
          -76.3477,
          -122.6187,
          -81.3322,
          -122.275,
          -81.4872,
          -93.9359,
          -89.8855,
          -90.9405,
          -123.1065,
          -73.3611,
          -72.3366,
          -77.8229,
          -96.6184,
          -101.2589,
          -80.3863,
          -71.7205,
          -124.4409,
          -75.2389,
          -87.4581,
          -92.7442,
          -124.1587,
          -90.2856,
          -86.1938,
          -79.7678,
          -90.1801,
          -73.3113,
          -72.8515,
          -73.82300000000001,
          -83.2911,
          -92.587,
          -97.5936,
          -116.868,
          -96.7456,
          -95.5326,
          -79.4545,
          -81.3618,
          -77.2116,
          -73.7559,
          -78.6847,
          -93.2433,
          -122.7624,
          -86.524,
          -101.0017,
          -67.9503,
          -97.0609,
          -74.4968,
          -75.2899,
          -71.0978,
          -89.0473,
          -113.8748,
          -102.5064,
          -79.8901,
          -117.1721,
          -90.5451,
          -111.0985,
          -82.1982,
          -101.136,
          -92.8929,
          -80.158,
          -89.2231,
          -82.4079,
          -117.0819,
          -93.8765,
          -91.4539,
          -98.7388,
          -79.503,
          -109.615,
          -82.4071,
          -97.2893,
          -90.482,
          -78.7717,
          -89.4649,
          -80.8191,
          -89.7273,
          -122.9145,
          -95.6413,
          -95.7023,
          -88.9597,
          -96.3398,
          -96.9623,
          -96.0602,
          -95.9596,
          -74.4905,
          -108.3961,
          -77.5101,
          -75.8465,
          -95.3031,
          -79.7856,
          -81.6801,
          -80.5248,
          -92.9951,
          -89.5736,
          -100.138,
          -93.6289,
          -79.9403,
          -83.2474,
          -100.6215,
          -122.6616,
          -79.6955,
          -84.9885,
          -87.2602,
          -80.4031,
          -83.7922,
          -120.7986,
          -91.9932,
          -165.6723,
          -90.9288,
          -80.8164,
          -82.9832,
          -77.0414,
          -76.994,
          -77.0282,
          -83.455,
          -119.8174,
          -93.8482,
          -81.8074,
          -88.2196,
          -89.1101,
          -83.9585,
          -93.8262,
          -96.1528,
          -120.2824,
          -70.8601,
          -73.5112,
          -81.1405,
          -78.3129,
          -75.6605,
          -80.4408,
          -82.7243,
          -73.7395,
          -72.4439,
          -77.6871,
          -74.0162,
          -92.176,
          -80.1248,
          -80.0638,
          -73.1,
          -99.3844,
          -122.481,
          -72.6473,
          -85.4524,
          -86.6345,
          -91.2268,
          -75.2811,
          -94.0492,
          -84.3246,
          -80.3129,
          -94.4064,
          -97.3136,
          -97.1714,
          -86.6285,
          -91.7689,
          -87.7246,
          -77.867,
          -100.7944,
          -81.89,
          -95.9941,
          -94.1187,
          -91.0144,
          -69.9576,
          -89.1665,
          -111.9027,
          -86.2296,
          -110.6137,
          -82.3977,
          -94.3871
         ],
         "marker": {
          "color": [
           208,
           828,
           223,
           461,
           436,
           222,
           423,
           221,
           233,
           441,
           435,
           417,
           450,
           233,
           809,
           438,
           1084,
           865,
           466,
           891,
           837,
           414,
           667,
           417,
           228,
           420,
           638,
           870,
           217,
           219,
           875,
           232,
           647,
           12,
           654,
           1109,
           453,
           905,
           222,
           685,
           435,
           426,
           454,
           644,
           858,
           419,
           238,
           437,
           900,
           238,
           1070,
           684,
           643,
           440,
           821,
           834,
           652,
           828,
           1308,
           944,
           1291,
           224,
           233,
           634,
           419,
           633,
           442,
           684,
           877,
           431,
           1073,
           654,
           470,
           220,
           1097,
           222,
           433,
           681,
           640,
           219,
           1088,
           11,
           1324,
           611,
           441,
           682,
           1094,
           446,
           877,
           666,
           214,
           421,
           250,
           1267,
           656,
           218,
           1263,
           204,
           683,
           1117,
           449,
           225,
           873,
           679,
           842,
           419,
           688,
           418,
           857,
           453,
           896,
           228,
           649,
           859,
           1151,
           234,
           593,
           1079,
           715,
           878,
           215,
           503,
           230,
           666,
           239,
           467,
           437,
           691,
           452,
           440,
           218,
           419,
           886,
           429,
           870,
           637,
           217,
           853,
           653,
           672,
           657,
           664,
           440,
           1293,
           441,
           242,
           637,
           452,
           664,
           397,
           453,
           852,
           205,
           901,
           1474,
           425,
           206,
           648,
           887,
           200,
           1067,
           901,
           426,
           446,
           210,
           1101,
           834,
           848,
           874,
           635,
           232,
           681,
           646,
           416,
           640,
           656,
           841,
           668,
           1293,
           906,
           441,
           856,
           679,
           1289,
           681,
           674,
           14,
           677,
           848,
           691,
           442,
           887,
           218,
           440,
           458,
           195,
           440,
           641,
           210,
           427,
           224,
           639,
           222,
           213,
           662,
           215,
           209,
           660,
           219,
           255,
           218,
           1275,
           1279,
           630,
           733,
           598,
           253,
           434,
           1098,
           422,
           231,
           230,
           232,
           436,
           445,
           427,
           218,
           1118,
           641,
           905,
           445,
           427,
           1095,
           232,
           220,
           184,
           413,
           685,
           423,
           856,
           436,
           247,
           641,
           1292,
           201,
           429,
           431,
           420,
           1466,
           1090,
           874,
           213,
           201,
           1251,
           662,
           1091,
           634,
           215,
           692,
           221,
           450,
           886,
           1075,
           1042,
           226,
           631,
           676,
           212,
           629,
           846,
           454,
           471,
           891,
           694,
           1129,
           1112,
           222,
           876,
           648,
           1325,
           682,
           879,
           1126,
           1589,
           873,
           637,
           963,
           901,
           673,
           654,
           200,
           227,
           214,
           672,
           237,
           923,
           878,
           419,
           229,
           454,
           438,
           1045,
           1325,
           440,
           442,
           654,
           442,
           1336,
           882,
           861,
           428,
           828,
           624,
           217,
           646,
           635,
           402,
           899,
           452,
           456,
           634,
           666,
           10,
           471,
           1053,
           9,
           670,
           455,
           422,
           436,
           211,
           198,
           1134,
           1088,
           635,
           221,
           900,
           679,
           820,
           229,
           457,
           683,
           1097,
           666,
           649,
           455,
           209,
           1291,
           446,
           467,
           446,
           851,
           420,
           920,
           653,
           899,
           432,
           852,
           666,
           224,
           1270,
           1271,
           876,
           859,
           665,
           842,
           431,
           872,
           233,
           667,
           1086,
           611,
           488,
           642,
           239,
           441,
           1135,
           461,
           258,
           228,
           438,
           1105,
           423,
           866,
           194,
           420,
           637,
           640,
           1339,
           426,
           222,
           231,
           425,
           645,
           227,
           1049,
           239,
           202,
           242,
           663,
           669,
           647,
           1057,
           666,
           1297,
           216,
           436,
           632,
           666,
           879,
           666,
           854,
           667,
           675,
           1092,
           427,
           1071,
           655,
           241,
           1462,
           462,
           224,
           909,
           426,
           12,
           10,
           449,
           621,
           215,
           217,
           1066,
           464,
           652,
           1470,
           1105,
           620,
           435,
           644,
           406,
           929,
           438,
           662,
           231,
           1074,
           237,
           888,
           659,
           852,
           1055,
           460,
           466,
           886,
           1094,
           228,
           11,
           226,
           647,
           199,
           257,
           1285,
           213,
           442,
           241,
           871,
           852,
           680,
           1386,
           418,
           895,
           234,
           216,
           231,
           220,
           650,
           247,
           644,
           663,
           636,
           432,
           628,
           472,
           232,
           909,
           648,
           892,
           1350,
           651,
           461,
           230,
           657,
           921,
           871,
           657,
           206,
           671,
           227,
           431,
           867,
           682,
           894,
           885,
           408,
           232,
           642,
           204,
           863,
           874,
           236,
           870,
           436,
           463,
           878,
           1086,
           1143,
           883,
           440,
           861,
           463,
           243,
           897,
           1129,
           677,
           434,
           619,
           446,
           236,
           441,
           696,
           1116,
           231,
           216,
           889,
           639,
           451,
           434,
           234,
           671,
           1251,
           899,
           1096,
           239,
           658,
           1273,
           12,
           229,
           636,
           888,
           673,
           1074,
           429,
           832,
           621,
           661,
           846,
           452,
           893,
           1112,
           667,
           1076,
           1187,
           1093,
           825,
           1495,
           199,
           881,
           444,
           857,
           638,
           247,
           218,
           1079,
           211,
           648,
           211,
           248,
           658,
           651,
           453,
           1340,
           224,
           209,
           881,
           232,
           843,
           1338,
           671,
           669,
           219,
           204,
           635,
           213,
           900,
           846,
           407,
           882,
           1072,
           241,
           1082,
           230,
           459,
           866,
           878,
           650,
           225,
           208,
           413,
           627,
           626,
           858,
           209,
           888,
           435,
           205,
           673,
           434,
           221,
           1112,
           412,
           682,
           216,
           1332,
           448,
           429,
           240,
           643,
           650,
           659,
           666,
           659,
           233,
           240,
           434,
           212,
           227,
           228,
           457,
           414,
           894,
           641,
           219,
           693,
           242,
           215,
           195,
           409,
           425,
           1458,
           419,
           918,
           441,
           1354,
           242,
           1343,
           879,
           428,
           862,
           1302,
           876,
           902,
           843,
           416,
           440,
           906,
           671,
           651,
           433,
           224,
           447,
           669,
           209,
           207,
           897,
           229,
           220,
           651,
           464,
           195,
           416,
           672,
           223,
           642,
           428,
           234,
           454,
           213,
           1403,
           886,
           220,
           215,
           1079,
           1124,
           218,
           1375,
           220,
           472,
           702,
           8,
           220,
           413,
           446,
           673,
           920,
           237,
           243,
           237,
           1081,
           875,
           222,
           461,
           1334,
           1324,
           1099,
           1046,
           892,
           446,
           224,
           238,
           1036,
           660,
           644,
           435,
           641,
           1060,
           693,
           183,
           1119,
           868,
           217,
           653,
           435,
           866,
           892,
           224,
           1092,
           1090,
           204,
           865,
           903,
           653,
           222,
           428,
           838,
           669,
           887,
           452,
           869,
           1074,
           436,
           246,
           9,
           1358,
           10,
           10,
           638,
           236,
           900,
           639,
           905,
           1054,
           1325,
           877,
           444,
           424,
           212,
           428,
           636,
           434,
           202,
           1083,
           417,
           840,
           445,
           457,
           241,
           876,
           425,
           1107,
           232,
           203,
           211,
           699,
           447,
           663,
           220,
           12,
           1088,
           426,
           657,
           449,
           842,
           433,
           649,
           259,
           219,
           618,
           684,
           638,
           217,
           1352,
           226,
           1264,
           907,
           1317,
           225,
           867,
           451,
           437,
           1188,
           412,
           1426,
           660,
           1277,
           1346,
           247,
           1298,
           458,
           681,
           458,
           663,
           646,
           882,
           236,
           1137,
           666,
           223,
           468,
           645,
           669,
           1319,
           667,
           207,
           912,
           827,
           1261,
           424,
           441,
           438,
           660,
           880,
           666,
           658,
           669,
           233,
           230,
           459,
           688,
           454,
           640,
           203,
           439,
           648,
           635,
           1314,
           467,
           1518,
           636,
           223,
           658,
           640,
           222,
           440,
           461,
           470,
           690,
           220,
           245,
           431,
           223,
           223,
           219,
           639,
           439,
           444,
           268,
           431,
           671,
           872,
           723,
           218,
           448,
           435,
           201,
           1072,
           874,
           223,
           434,
           1428,
           1300,
           6,
           1301,
           878,
           671,
           215,
           240,
           216,
           882,
           221,
           218,
           835,
           1268,
           882,
           1099,
           858,
           427,
           410,
           200,
           224,
           216,
           813,
           217,
           638,
           661
          ],
          "coloraxis": "coloraxis",
          "size": [
           208,
           828,
           223,
           461,
           436,
           222,
           423,
           221,
           233,
           441,
           435,
           417,
           450,
           233,
           809,
           438,
           1084,
           865,
           466,
           891,
           837,
           414,
           667,
           417,
           228,
           420,
           638,
           870,
           217,
           219,
           875,
           232,
           647,
           12,
           654,
           1109,
           453,
           905,
           222,
           685,
           435,
           426,
           454,
           644,
           858,
           419,
           238,
           437,
           900,
           238,
           1070,
           684,
           643,
           440,
           821,
           834,
           652,
           828,
           1308,
           944,
           1291,
           224,
           233,
           634,
           419,
           633,
           442,
           684,
           877,
           431,
           1073,
           654,
           470,
           220,
           1097,
           222,
           433,
           681,
           640,
           219,
           1088,
           11,
           1324,
           611,
           441,
           682,
           1094,
           446,
           877,
           666,
           214,
           421,
           250,
           1267,
           656,
           218,
           1263,
           204,
           683,
           1117,
           449,
           225,
           873,
           679,
           842,
           419,
           688,
           418,
           857,
           453,
           896,
           228,
           649,
           859,
           1151,
           234,
           593,
           1079,
           715,
           878,
           215,
           503,
           230,
           666,
           239,
           467,
           437,
           691,
           452,
           440,
           218,
           419,
           886,
           429,
           870,
           637,
           217,
           853,
           653,
           672,
           657,
           664,
           440,
           1293,
           441,
           242,
           637,
           452,
           664,
           397,
           453,
           852,
           205,
           901,
           1474,
           425,
           206,
           648,
           887,
           200,
           1067,
           901,
           426,
           446,
           210,
           1101,
           834,
           848,
           874,
           635,
           232,
           681,
           646,
           416,
           640,
           656,
           841,
           668,
           1293,
           906,
           441,
           856,
           679,
           1289,
           681,
           674,
           14,
           677,
           848,
           691,
           442,
           887,
           218,
           440,
           458,
           195,
           440,
           641,
           210,
           427,
           224,
           639,
           222,
           213,
           662,
           215,
           209,
           660,
           219,
           255,
           218,
           1275,
           1279,
           630,
           733,
           598,
           253,
           434,
           1098,
           422,
           231,
           230,
           232,
           436,
           445,
           427,
           218,
           1118,
           641,
           905,
           445,
           427,
           1095,
           232,
           220,
           184,
           413,
           685,
           423,
           856,
           436,
           247,
           641,
           1292,
           201,
           429,
           431,
           420,
           1466,
           1090,
           874,
           213,
           201,
           1251,
           662,
           1091,
           634,
           215,
           692,
           221,
           450,
           886,
           1075,
           1042,
           226,
           631,
           676,
           212,
           629,
           846,
           454,
           471,
           891,
           694,
           1129,
           1112,
           222,
           876,
           648,
           1325,
           682,
           879,
           1126,
           1589,
           873,
           637,
           963,
           901,
           673,
           654,
           200,
           227,
           214,
           672,
           237,
           923,
           878,
           419,
           229,
           454,
           438,
           1045,
           1325,
           440,
           442,
           654,
           442,
           1336,
           882,
           861,
           428,
           828,
           624,
           217,
           646,
           635,
           402,
           899,
           452,
           456,
           634,
           666,
           10,
           471,
           1053,
           9,
           670,
           455,
           422,
           436,
           211,
           198,
           1134,
           1088,
           635,
           221,
           900,
           679,
           820,
           229,
           457,
           683,
           1097,
           666,
           649,
           455,
           209,
           1291,
           446,
           467,
           446,
           851,
           420,
           920,
           653,
           899,
           432,
           852,
           666,
           224,
           1270,
           1271,
           876,
           859,
           665,
           842,
           431,
           872,
           233,
           667,
           1086,
           611,
           488,
           642,
           239,
           441,
           1135,
           461,
           258,
           228,
           438,
           1105,
           423,
           866,
           194,
           420,
           637,
           640,
           1339,
           426,
           222,
           231,
           425,
           645,
           227,
           1049,
           239,
           202,
           242,
           663,
           669,
           647,
           1057,
           666,
           1297,
           216,
           436,
           632,
           666,
           879,
           666,
           854,
           667,
           675,
           1092,
           427,
           1071,
           655,
           241,
           1462,
           462,
           224,
           909,
           426,
           12,
           10,
           449,
           621,
           215,
           217,
           1066,
           464,
           652,
           1470,
           1105,
           620,
           435,
           644,
           406,
           929,
           438,
           662,
           231,
           1074,
           237,
           888,
           659,
           852,
           1055,
           460,
           466,
           886,
           1094,
           228,
           11,
           226,
           647,
           199,
           257,
           1285,
           213,
           442,
           241,
           871,
           852,
           680,
           1386,
           418,
           895,
           234,
           216,
           231,
           220,
           650,
           247,
           644,
           663,
           636,
           432,
           628,
           472,
           232,
           909,
           648,
           892,
           1350,
           651,
           461,
           230,
           657,
           921,
           871,
           657,
           206,
           671,
           227,
           431,
           867,
           682,
           894,
           885,
           408,
           232,
           642,
           204,
           863,
           874,
           236,
           870,
           436,
           463,
           878,
           1086,
           1143,
           883,
           440,
           861,
           463,
           243,
           897,
           1129,
           677,
           434,
           619,
           446,
           236,
           441,
           696,
           1116,
           231,
           216,
           889,
           639,
           451,
           434,
           234,
           671,
           1251,
           899,
           1096,
           239,
           658,
           1273,
           12,
           229,
           636,
           888,
           673,
           1074,
           429,
           832,
           621,
           661,
           846,
           452,
           893,
           1112,
           667,
           1076,
           1187,
           1093,
           825,
           1495,
           199,
           881,
           444,
           857,
           638,
           247,
           218,
           1079,
           211,
           648,
           211,
           248,
           658,
           651,
           453,
           1340,
           224,
           209,
           881,
           232,
           843,
           1338,
           671,
           669,
           219,
           204,
           635,
           213,
           900,
           846,
           407,
           882,
           1072,
           241,
           1082,
           230,
           459,
           866,
           878,
           650,
           225,
           208,
           413,
           627,
           626,
           858,
           209,
           888,
           435,
           205,
           673,
           434,
           221,
           1112,
           412,
           682,
           216,
           1332,
           448,
           429,
           240,
           643,
           650,
           659,
           666,
           659,
           233,
           240,
           434,
           212,
           227,
           228,
           457,
           414,
           894,
           641,
           219,
           693,
           242,
           215,
           195,
           409,
           425,
           1458,
           419,
           918,
           441,
           1354,
           242,
           1343,
           879,
           428,
           862,
           1302,
           876,
           902,
           843,
           416,
           440,
           906,
           671,
           651,
           433,
           224,
           447,
           669,
           209,
           207,
           897,
           229,
           220,
           651,
           464,
           195,
           416,
           672,
           223,
           642,
           428,
           234,
           454,
           213,
           1403,
           886,
           220,
           215,
           1079,
           1124,
           218,
           1375,
           220,
           472,
           702,
           8,
           220,
           413,
           446,
           673,
           920,
           237,
           243,
           237,
           1081,
           875,
           222,
           461,
           1334,
           1324,
           1099,
           1046,
           892,
           446,
           224,
           238,
           1036,
           660,
           644,
           435,
           641,
           1060,
           693,
           183,
           1119,
           868,
           217,
           653,
           435,
           866,
           892,
           224,
           1092,
           1090,
           204,
           865,
           903,
           653,
           222,
           428,
           838,
           669,
           887,
           452,
           869,
           1074,
           436,
           246,
           9,
           1358,
           10,
           10,
           638,
           236,
           900,
           639,
           905,
           1054,
           1325,
           877,
           444,
           424,
           212,
           428,
           636,
           434,
           202,
           1083,
           417,
           840,
           445,
           457,
           241,
           876,
           425,
           1107,
           232,
           203,
           211,
           699,
           447,
           663,
           220,
           12,
           1088,
           426,
           657,
           449,
           842,
           433,
           649,
           259,
           219,
           618,
           684,
           638,
           217,
           1352,
           226,
           1264,
           907,
           1317,
           225,
           867,
           451,
           437,
           1188,
           412,
           1426,
           660,
           1277,
           1346,
           247,
           1298,
           458,
           681,
           458,
           663,
           646,
           882,
           236,
           1137,
           666,
           223,
           468,
           645,
           669,
           1319,
           667,
           207,
           912,
           827,
           1261,
           424,
           441,
           438,
           660,
           880,
           666,
           658,
           669,
           233,
           230,
           459,
           688,
           454,
           640,
           203,
           439,
           648,
           635,
           1314,
           467,
           1518,
           636,
           223,
           658,
           640,
           222,
           440,
           461,
           470,
           690,
           220,
           245,
           431,
           223,
           223,
           219,
           639,
           439,
           444,
           268,
           431,
           671,
           872,
           723,
           218,
           448,
           435,
           201,
           1072,
           874,
           223,
           434,
           1428,
           1300,
           6,
           1301,
           878,
           671,
           215,
           240,
           216,
           882,
           221,
           218,
           835,
           1268,
           882,
           1099,
           858,
           427,
           410,
           200,
           224,
           216,
           813,
           217,
           638,
           661
          ],
          "sizemode": "area",
          "sizeref": 3.9725
         },
         "mode": "markers",
         "name": "",
         "showlegend": false,
         "subplot": "mapbox",
         "type": "scattermapbox"
        }
       ],
       "layout": {
        "coloraxis": {
         "colorbar": {
          "dtick": 300,
          "thickness": 15,
          "thicknessmode": "pixels",
          "title": {
           "text": "Transactions #"
          }
         },
         "colorscale": [
          [
           0,
           "rgb(0,0,131)"
          ],
          [
           0.2,
           "rgb(0,60,170)"
          ],
          [
           0.4,
           "rgb(5,255,255)"
          ],
          [
           0.6,
           "rgb(255,255,0)"
          ],
          [
           0.8,
           "rgb(250,0,0)"
          ],
          [
           1,
           "rgb(128,0,0)"
          ]
         ]
        },
        "legend": {
         "itemsizing": "constant",
         "tracegroupgap": 0
        },
        "mapbox": {
         "center": {
          "lat": 38.64405460526316,
          "lon": -90.2100908991228
         },
         "domain": {
          "x": [
           0,
           1
          ],
          "y": [
           0,
           1
          ]
         },
         "style": "carto-darkmatter",
         "zoom": 3
        },
        "template": {
         "data": {
          "bar": [
           {
            "error_x": {
             "color": "#2a3f5f"
            },
            "error_y": {
             "color": "#2a3f5f"
            },
            "marker": {
             "line": {
              "color": "#E5ECF6",
              "width": 0.5
             },
             "pattern": {
              "fillmode": "overlay",
              "size": 10,
              "solidity": 0.2
             }
            },
            "type": "bar"
           }
          ],
          "barpolar": [
           {
            "marker": {
             "line": {
              "color": "#E5ECF6",
              "width": 0.5
             },
             "pattern": {
              "fillmode": "overlay",
              "size": 10,
              "solidity": 0.2
             }
            },
            "type": "barpolar"
           }
          ],
          "carpet": [
           {
            "aaxis": {
             "endlinecolor": "#2a3f5f",
             "gridcolor": "white",
             "linecolor": "white",
             "minorgridcolor": "white",
             "startlinecolor": "#2a3f5f"
            },
            "baxis": {
             "endlinecolor": "#2a3f5f",
             "gridcolor": "white",
             "linecolor": "white",
             "minorgridcolor": "white",
             "startlinecolor": "#2a3f5f"
            },
            "type": "carpet"
           }
          ],
          "choropleth": [
           {
            "colorbar": {
             "outlinewidth": 0,
             "ticks": ""
            },
            "type": "choropleth"
           }
          ],
          "contour": [
           {
            "colorbar": {
             "outlinewidth": 0,
             "ticks": ""
            },
            "colorscale": [
             [
              0,
              "#0d0887"
             ],
             [
              0.1111111111111111,
              "#46039f"
             ],
             [
              0.2222222222222222,
              "#7201a8"
             ],
             [
              0.3333333333333333,
              "#9c179e"
             ],
             [
              0.4444444444444444,
              "#bd3786"
             ],
             [
              0.5555555555555556,
              "#d8576b"
             ],
             [
              0.6666666666666666,
              "#ed7953"
             ],
             [
              0.7777777777777778,
              "#fb9f3a"
             ],
             [
              0.8888888888888888,
              "#fdca26"
             ],
             [
              1,
              "#f0f921"
             ]
            ],
            "type": "contour"
           }
          ],
          "contourcarpet": [
           {
            "colorbar": {
             "outlinewidth": 0,
             "ticks": ""
            },
            "type": "contourcarpet"
           }
          ],
          "heatmap": [
           {
            "colorbar": {
             "outlinewidth": 0,
             "ticks": ""
            },
            "colorscale": [
             [
              0,
              "#0d0887"
             ],
             [
              0.1111111111111111,
              "#46039f"
             ],
             [
              0.2222222222222222,
              "#7201a8"
             ],
             [
              0.3333333333333333,
              "#9c179e"
             ],
             [
              0.4444444444444444,
              "#bd3786"
             ],
             [
              0.5555555555555556,
              "#d8576b"
             ],
             [
              0.6666666666666666,
              "#ed7953"
             ],
             [
              0.7777777777777778,
              "#fb9f3a"
             ],
             [
              0.8888888888888888,
              "#fdca26"
             ],
             [
              1,
              "#f0f921"
             ]
            ],
            "type": "heatmap"
           }
          ],
          "heatmapgl": [
           {
            "colorbar": {
             "outlinewidth": 0,
             "ticks": ""
            },
            "colorscale": [
             [
              0,
              "#0d0887"
             ],
             [
              0.1111111111111111,
              "#46039f"
             ],
             [
              0.2222222222222222,
              "#7201a8"
             ],
             [
              0.3333333333333333,
              "#9c179e"
             ],
             [
              0.4444444444444444,
              "#bd3786"
             ],
             [
              0.5555555555555556,
              "#d8576b"
             ],
             [
              0.6666666666666666,
              "#ed7953"
             ],
             [
              0.7777777777777778,
              "#fb9f3a"
             ],
             [
              0.8888888888888888,
              "#fdca26"
             ],
             [
              1,
              "#f0f921"
             ]
            ],
            "type": "heatmapgl"
           }
          ],
          "histogram": [
           {
            "marker": {
             "pattern": {
              "fillmode": "overlay",
              "size": 10,
              "solidity": 0.2
             }
            },
            "type": "histogram"
           }
          ],
          "histogram2d": [
           {
            "colorbar": {
             "outlinewidth": 0,
             "ticks": ""
            },
            "colorscale": [
             [
              0,
              "#0d0887"
             ],
             [
              0.1111111111111111,
              "#46039f"
             ],
             [
              0.2222222222222222,
              "#7201a8"
             ],
             [
              0.3333333333333333,
              "#9c179e"
             ],
             [
              0.4444444444444444,
              "#bd3786"
             ],
             [
              0.5555555555555556,
              "#d8576b"
             ],
             [
              0.6666666666666666,
              "#ed7953"
             ],
             [
              0.7777777777777778,
              "#fb9f3a"
             ],
             [
              0.8888888888888888,
              "#fdca26"
             ],
             [
              1,
              "#f0f921"
             ]
            ],
            "type": "histogram2d"
           }
          ],
          "histogram2dcontour": [
           {
            "colorbar": {
             "outlinewidth": 0,
             "ticks": ""
            },
            "colorscale": [
             [
              0,
              "#0d0887"
             ],
             [
              0.1111111111111111,
              "#46039f"
             ],
             [
              0.2222222222222222,
              "#7201a8"
             ],
             [
              0.3333333333333333,
              "#9c179e"
             ],
             [
              0.4444444444444444,
              "#bd3786"
             ],
             [
              0.5555555555555556,
              "#d8576b"
             ],
             [
              0.6666666666666666,
              "#ed7953"
             ],
             [
              0.7777777777777778,
              "#fb9f3a"
             ],
             [
              0.8888888888888888,
              "#fdca26"
             ],
             [
              1,
              "#f0f921"
             ]
            ],
            "type": "histogram2dcontour"
           }
          ],
          "mesh3d": [
           {
            "colorbar": {
             "outlinewidth": 0,
             "ticks": ""
            },
            "type": "mesh3d"
           }
          ],
          "parcoords": [
           {
            "line": {
             "colorbar": {
              "outlinewidth": 0,
              "ticks": ""
             }
            },
            "type": "parcoords"
           }
          ],
          "pie": [
           {
            "automargin": true,
            "type": "pie"
           }
          ],
          "scatter": [
           {
            "fillpattern": {
             "fillmode": "overlay",
             "size": 10,
             "solidity": 0.2
            },
            "type": "scatter"
           }
          ],
          "scatter3d": [
           {
            "line": {
             "colorbar": {
              "outlinewidth": 0,
              "ticks": ""
             }
            },
            "marker": {
             "colorbar": {
              "outlinewidth": 0,
              "ticks": ""
             }
            },
            "type": "scatter3d"
           }
          ],
          "scattercarpet": [
           {
            "marker": {
             "colorbar": {
              "outlinewidth": 0,
              "ticks": ""
             }
            },
            "type": "scattercarpet"
           }
          ],
          "scattergeo": [
           {
            "marker": {
             "colorbar": {
              "outlinewidth": 0,
              "ticks": ""
             }
            },
            "type": "scattergeo"
           }
          ],
          "scattergl": [
           {
            "marker": {
             "colorbar": {
              "outlinewidth": 0,
              "ticks": ""
             }
            },
            "type": "scattergl"
           }
          ],
          "scattermapbox": [
           {
            "marker": {
             "colorbar": {
              "outlinewidth": 0,
              "ticks": ""
             }
            },
            "type": "scattermapbox"
           }
          ],
          "scatterpolar": [
           {
            "marker": {
             "colorbar": {
              "outlinewidth": 0,
              "ticks": ""
             }
            },
            "type": "scatterpolar"
           }
          ],
          "scatterpolargl": [
           {
            "marker": {
             "colorbar": {
              "outlinewidth": 0,
              "ticks": ""
             }
            },
            "type": "scatterpolargl"
           }
          ],
          "scatterternary": [
           {
            "marker": {
             "colorbar": {
              "outlinewidth": 0,
              "ticks": ""
             }
            },
            "type": "scatterternary"
           }
          ],
          "surface": [
           {
            "colorbar": {
             "outlinewidth": 0,
             "ticks": ""
            },
            "colorscale": [
             [
              0,
              "#0d0887"
             ],
             [
              0.1111111111111111,
              "#46039f"
             ],
             [
              0.2222222222222222,
              "#7201a8"
             ],
             [
              0.3333333333333333,
              "#9c179e"
             ],
             [
              0.4444444444444444,
              "#bd3786"
             ],
             [
              0.5555555555555556,
              "#d8576b"
             ],
             [
              0.6666666666666666,
              "#ed7953"
             ],
             [
              0.7777777777777778,
              "#fb9f3a"
             ],
             [
              0.8888888888888888,
              "#fdca26"
             ],
             [
              1,
              "#f0f921"
             ]
            ],
            "type": "surface"
           }
          ],
          "table": [
           {
            "cells": {
             "fill": {
              "color": "#EBF0F8"
             },
             "line": {
              "color": "white"
             }
            },
            "header": {
             "fill": {
              "color": "#C8D4E3"
             },
             "line": {
              "color": "white"
             }
            },
            "type": "table"
           }
          ]
         },
         "layout": {
          "annotationdefaults": {
           "arrowcolor": "#2a3f5f",
           "arrowhead": 0,
           "arrowwidth": 1
          },
          "autotypenumbers": "strict",
          "coloraxis": {
           "colorbar": {
            "outlinewidth": 0,
            "ticks": ""
           }
          },
          "colorscale": {
           "diverging": [
            [
             0,
             "#8e0152"
            ],
            [
             0.1,
             "#c51b7d"
            ],
            [
             0.2,
             "#de77ae"
            ],
            [
             0.3,
             "#f1b6da"
            ],
            [
             0.4,
             "#fde0ef"
            ],
            [
             0.5,
             "#f7f7f7"
            ],
            [
             0.6,
             "#e6f5d0"
            ],
            [
             0.7,
             "#b8e186"
            ],
            [
             0.8,
             "#7fbc41"
            ],
            [
             0.9,
             "#4d9221"
            ],
            [
             1,
             "#276419"
            ]
           ],
           "sequential": [
            [
             0,
             "#0d0887"
            ],
            [
             0.1111111111111111,
             "#46039f"
            ],
            [
             0.2222222222222222,
             "#7201a8"
            ],
            [
             0.3333333333333333,
             "#9c179e"
            ],
            [
             0.4444444444444444,
             "#bd3786"
            ],
            [
             0.5555555555555556,
             "#d8576b"
            ],
            [
             0.6666666666666666,
             "#ed7953"
            ],
            [
             0.7777777777777778,
             "#fb9f3a"
            ],
            [
             0.8888888888888888,
             "#fdca26"
            ],
            [
             1,
             "#f0f921"
            ]
           ],
           "sequentialminus": [
            [
             0,
             "#0d0887"
            ],
            [
             0.1111111111111111,
             "#46039f"
            ],
            [
             0.2222222222222222,
             "#7201a8"
            ],
            [
             0.3333333333333333,
             "#9c179e"
            ],
            [
             0.4444444444444444,
             "#bd3786"
            ],
            [
             0.5555555555555556,
             "#d8576b"
            ],
            [
             0.6666666666666666,
             "#ed7953"
            ],
            [
             0.7777777777777778,
             "#fb9f3a"
            ],
            [
             0.8888888888888888,
             "#fdca26"
            ],
            [
             1,
             "#f0f921"
            ]
           ]
          },
          "colorway": [
           "#636efa",
           "#EF553B",
           "#00cc96",
           "#ab63fa",
           "#FFA15A",
           "#19d3f3",
           "#FF6692",
           "#B6E880",
           "#FF97FF",
           "#FECB52"
          ],
          "font": {
           "color": "#2a3f5f"
          },
          "geo": {
           "bgcolor": "white",
           "lakecolor": "white",
           "landcolor": "#E5ECF6",
           "showlakes": true,
           "showland": true,
           "subunitcolor": "white"
          },
          "hoverlabel": {
           "align": "left"
          },
          "hovermode": "closest",
          "mapbox": {
           "style": "light"
          },
          "paper_bgcolor": "white",
          "plot_bgcolor": "#E5ECF6",
          "polar": {
           "angularaxis": {
            "gridcolor": "white",
            "linecolor": "white",
            "ticks": ""
           },
           "bgcolor": "#E5ECF6",
           "radialaxis": {
            "gridcolor": "white",
            "linecolor": "white",
            "ticks": ""
           }
          },
          "scene": {
           "xaxis": {
            "backgroundcolor": "#E5ECF6",
            "gridcolor": "white",
            "gridwidth": 2,
            "linecolor": "white",
            "showbackground": true,
            "ticks": "",
            "zerolinecolor": "white"
           },
           "yaxis": {
            "backgroundcolor": "#E5ECF6",
            "gridcolor": "white",
            "gridwidth": 2,
            "linecolor": "white",
            "showbackground": true,
            "ticks": "",
            "zerolinecolor": "white"
           },
           "zaxis": {
            "backgroundcolor": "#E5ECF6",
            "gridcolor": "white",
            "gridwidth": 2,
            "linecolor": "white",
            "showbackground": true,
            "ticks": "",
            "zerolinecolor": "white"
           }
          },
          "shapedefaults": {
           "line": {
            "color": "#2a3f5f"
           }
          },
          "ternary": {
           "aaxis": {
            "gridcolor": "white",
            "linecolor": "white",
            "ticks": ""
           },
           "baxis": {
            "gridcolor": "white",
            "linecolor": "white",
            "ticks": ""
           },
           "bgcolor": "#E5ECF6",
           "caxis": {
            "gridcolor": "white",
            "linecolor": "white",
            "ticks": ""
           }
          },
          "title": {
           "x": 0.05
          },
          "xaxis": {
           "automargin": true,
           "gridcolor": "white",
           "linecolor": "white",
           "ticks": "",
           "title": {
            "standoff": 15
           },
           "zerolinecolor": "white",
           "zerolinewidth": 2
          },
          "yaxis": {
           "automargin": true,
           "gridcolor": "white",
           "linecolor": "white",
           "ticks": "",
           "title": {
            "standoff": 15
           },
           "zerolinecolor": "white",
           "zerolinewidth": 2
          }
         }
        },
        "title": {
         "text": "Destribution of Transactions (All)",
         "x": 0.076,
         "y": 0.85
        }
       }
      }
     },
     "metadata": {},
     "output_type": "display_data"
    }
   ],
   "source": [
    "px.scatter_mapbox(\n",
    "    fraud_df.groupby([\"city\", \"lat\", \"long\"])[\"trans_num\"].count().reset_index(),\n",
    "    lat=\"lat\",\n",
    "    lon=\"long\",\n",
    "    size=\"trans_num\",\n",
    "    color=\"trans_num\",\n",
    "    color_continuous_scale=px.colors.sequential.Jet,\n",
    "    zoom=3,\n",
    "    mapbox_style=\"carto-darkmatter\",\n",
    "    title=\"Destribution of Transactions (All)\",\n",
    "    hover_data=[\"city\"]\n",
    "    ).update_layout(\n",
    "        title={\n",
    "            \"x\":0.076,\n",
    "            \"y\":.85\n",
    "        },\n",
    "    coloraxis_colorbar = dict(\n",
    "        thicknessmode=\"pixels\",\n",
    "        thickness=15,\n",
    "        dtick=300,\n",
    "        title=\"Transactions #\"\n",
    "    )\n",
    "    )\n"
   ]
  },
  {
   "cell_type": "code",
   "execution_count": 20,
   "metadata": {},
   "outputs": [
    {
     "data": {
      "text/html": [
       "<div>\n",
       "<style scoped>\n",
       "    .dataframe tbody tr th:only-of-type {\n",
       "        vertical-align: middle;\n",
       "    }\n",
       "\n",
       "    .dataframe tbody tr th {\n",
       "        vertical-align: top;\n",
       "    }\n",
       "\n",
       "    .dataframe thead th {\n",
       "        text-align: right;\n",
       "    }\n",
       "</style>\n",
       "<table border=\"1\" class=\"dataframe\">\n",
       "  <thead>\n",
       "    <tr style=\"text-align: right;\">\n",
       "      <th></th>\n",
       "      <th>city</th>\n",
       "      <th>lat</th>\n",
       "      <th>long</th>\n",
       "      <th>trans_num</th>\n",
       "    </tr>\n",
       "  </thead>\n",
       "  <tbody>\n",
       "    <tr>\n",
       "      <th>0</th>\n",
       "      <td>Achille</td>\n",
       "      <td>33.8396</td>\n",
       "      <td>-96.3648</td>\n",
       "      <td>208</td>\n",
       "    </tr>\n",
       "    <tr>\n",
       "      <th>1</th>\n",
       "      <td>Acworth</td>\n",
       "      <td>43.1960</td>\n",
       "      <td>-72.3001</td>\n",
       "      <td>828</td>\n",
       "    </tr>\n",
       "    <tr>\n",
       "      <th>2</th>\n",
       "      <td>Adams</td>\n",
       "      <td>43.8967</td>\n",
       "      <td>-89.8219</td>\n",
       "      <td>223</td>\n",
       "    </tr>\n",
       "    <tr>\n",
       "      <th>3</th>\n",
       "      <td>Afton</td>\n",
       "      <td>44.8696</td>\n",
       "      <td>-92.8234</td>\n",
       "      <td>461</td>\n",
       "    </tr>\n",
       "    <tr>\n",
       "      <th>4</th>\n",
       "      <td>Afton</td>\n",
       "      <td>45.3637</td>\n",
       "      <td>-84.4695</td>\n",
       "      <td>436</td>\n",
       "    </tr>\n",
       "    <tr>\n",
       "      <th>...</th>\n",
       "      <td>...</td>\n",
       "      <td>...</td>\n",
       "      <td>...</td>\n",
       "      <td>...</td>\n",
       "    </tr>\n",
       "    <tr>\n",
       "      <th>907</th>\n",
       "      <td>Woods Cross</td>\n",
       "      <td>40.8874</td>\n",
       "      <td>-111.9027</td>\n",
       "      <td>216</td>\n",
       "    </tr>\n",
       "    <tr>\n",
       "      <th>908</th>\n",
       "      <td>Woodville</td>\n",
       "      <td>34.6689</td>\n",
       "      <td>-86.2296</td>\n",
       "      <td>813</td>\n",
       "    </tr>\n",
       "    <tr>\n",
       "      <th>909</th>\n",
       "      <td>Yellowstone National Park</td>\n",
       "      <td>44.7957</td>\n",
       "      <td>-110.6137</td>\n",
       "      <td>217</td>\n",
       "    </tr>\n",
       "    <tr>\n",
       "      <th>910</th>\n",
       "      <td>Zaleski</td>\n",
       "      <td>39.2830</td>\n",
       "      <td>-82.3977</td>\n",
       "      <td>638</td>\n",
       "    </tr>\n",
       "    <tr>\n",
       "      <th>911</th>\n",
       "      <td>Zavalla</td>\n",
       "      <td>31.1569</td>\n",
       "      <td>-94.3871</td>\n",
       "      <td>661</td>\n",
       "    </tr>\n",
       "  </tbody>\n",
       "</table>\n",
       "<p>912 rows × 4 columns</p>\n",
       "</div>"
      ],
      "text/plain": [
       "                          city      lat      long  trans_num\n",
       "0                      Achille  33.8396  -96.3648        208\n",
       "1                      Acworth  43.1960  -72.3001        828\n",
       "2                        Adams  43.8967  -89.8219        223\n",
       "3                        Afton  44.8696  -92.8234        461\n",
       "4                        Afton  45.3637  -84.4695        436\n",
       "..                         ...      ...       ...        ...\n",
       "907                Woods Cross  40.8874 -111.9027        216\n",
       "908                  Woodville  34.6689  -86.2296        813\n",
       "909  Yellowstone National Park  44.7957 -110.6137        217\n",
       "910                    Zaleski  39.2830  -82.3977        638\n",
       "911                    Zavalla  31.1569  -94.3871        661\n",
       "\n",
       "[912 rows x 4 columns]"
      ]
     },
     "execution_count": 20,
     "metadata": {},
     "output_type": "execute_result"
    }
   ],
   "source": [
    "fraud_df.groupby([\"city\", \"lat\", \"long\"])[\"trans_num\"].count().reset_index()"
   ]
  },
  {
   "attachments": {},
   "cell_type": "markdown",
   "metadata": {},
   "source": [
    "# Building the dashboard"
   ]
  },
  {
   "cell_type": "code",
   "execution_count": 23,
   "metadata": {},
   "outputs": [
    {
     "data": {
      "text/html": [
       "\n",
       "        <iframe\n",
       "            width=\"100%\"\n",
       "            height=\"650\"\n",
       "            src=\"http://127.0.0.1:1991/\"\n",
       "            frameborder=\"0\"\n",
       "            allowfullscreen\n",
       "            \n",
       "        ></iframe>\n",
       "        "
      ],
      "text/plain": [
       "<IPython.lib.display.IFrame at 0x7fa97af8c640>"
      ]
     },
     "metadata": {},
     "output_type": "display_data"
    }
   ],
   "source": [
    "# Importing external stylesheets\n",
    "dbc_css = \"https://cdn.jsdelivr.net/gh/AnnMarieW/dash-bootstrap-templates/dbc.min.css\"\n",
    "\n",
    "# Nameing the app and using the SLATE style theme\n",
    "app = Dash(__name__, external_stylesheets=[dbc.themes.SLATE, dbc_css])\n",
    "\n",
    "# Configuring the SLATE style theme on the figures\n",
    "load_figure_template(\"SLATE\")\n",
    "\n",
    "# Define filter labels\n",
    "FILTER_LABELS = {\n",
    "    1: 'Fraudulent',\n",
    "    0: 'Non-Fraudulent',\n",
    "    -1: 'All'\n",
    "}\n",
    "\n",
    "# Define chart colors\n",
    "color_list = [\"#FC0303\", \"#31FC03\"]\n",
    "\n",
    "# Determining the app_layout\n",
    "app.layout = html.Div(\n",
    "    style={\"width\": \"80%\", \"height\": \"80%\", \"margin-left\": \"10%\", \"margin-right\": \"10%\", \"margin-top\": \"20%\"},\n",
    "    children=[\n",
    "    dbc.Row(html.H1(id=\"header\"), style={\"color\":\"white\", \"margin-top\":\"5px\", \"margin-left\":\"5px\", \"fontSize\": \"35px\"}),\n",
    "    dbc.Row(dbc.Card(dbc.RadioItems(\n",
    "        id=\"dataFilter\",\n",
    "        options= [\n",
    "            {'label': 'Fraudulent', 'value': 1},\n",
    "            {'label': 'Non-Fraudulent', 'value': 0},\n",
    "            {'label': 'All', 'value': -1}],\n",
    "            value=0,\n",
    "            inline=True\n",
    "    ), style={\"textAlign\":\"center\"})),\n",
    "    html.Br(),\n",
    "    dbc.Row([\n",
    "        dbc.Col(dbc.Card(f\"Total Transactions: {total_transactios_formatted}\"), style={\"textAlign\":\"center\",\n",
    "                                                                                      \"fontSize\": \"20px\"},),\n",
    "        dbc.Col(dbc.Card(f\"Fraudulent: {percentage_fraudulent_formatted}\"), style={\"textAlign\":\"center\",\n",
    "                                                                                    \"fontSize\": \"20px\"}),\n",
    "        ]),\n",
    "    html.Br(),\n",
    "    dbc.Row([\n",
    "        dbc.Col(dbc.Card([\n",
    "            dcc.Dropdown(\n",
    "                id=\"features\",\n",
    "                options=fraud_df.select_dtypes(include='object').columns[:-1],\n",
    "                value= \"category\",\n",
    "                className='dbc'\n",
    "            ),\n",
    "            dbc.RadioItems(\n",
    "                id=\"asc-desc\",\n",
    "                options= [\n",
    "                    {'label': 'Ascending', 'value': True},\n",
    "                    {'label': 'Descending', 'value': False}],\n",
    "                value=False,\n",
    "                inline=True),\n",
    "            dcc.Graph(id=\"hBarChart\"),\n",
    "            ]), width=4),\n",
    "        dbc.Col(dbc.Card(dcc.Graph(id=\"histogram\")), width=4),\n",
    "        dbc.Col(dbc.Card(dcc.Graph(id=\"pieChart\")), width=4)\n",
    "        ]),\n",
    "    html.Br(),\n",
    "    dbc.Row(dbc.Card(dcc.Graph(id=\"scatterMapBox\", style={\"width\": \"100%\"})))\n",
    "])\n",
    "@app.callback(\n",
    "    Output(\"header\", \"children\"),\n",
    "    Output(\"hBarChart\", \"figure\"),\n",
    "    Output(\"histogram\", \"figure\"),\n",
    "    Output(\"pieChart\", \"figure\"),\n",
    "    Output(\"scatterMapBox\", \"figure\"),\n",
    "    Input(\"dataFilter\", \"value\"),\n",
    "    Input(\"features\", \"value\"),\n",
    "    Input(\"asc-desc\", \"value\")\n",
    ")\n",
    "def dashboard(filter_item, feature, sort_order):\n",
    "    # * Prevent None values\n",
    "    if filter_item is None:\n",
    "        raise PreventUpdate()\n",
    "    \n",
    "    # * Match the filted label to the selected filter item\n",
    "    filter_label = FILTER_LABELS.get(filter_item, 'Unknown Filter')\n",
    "    \n",
    "    # * Create a dynamic header\n",
    "    header = f\"{filter_label} Dashboard\"\n",
    "\n",
    "    # * Filter the datset based on the selected filter item\n",
    "    if filter_item == 1:\n",
    "        df = fraud_df.query(\"is_fraud == 1\")\n",
    "    elif filter_item == 0:\n",
    "        df = fraud_df.query(\"is_fraud == 0\")\n",
    "    else:\n",
    "        df = fraud_df\n",
    "\n",
    "    # * Plot the bar chart \n",
    "    bar = (\n",
    "        px.bar(\n",
    "        df.groupby(feature, as_index=False)[\"trans_num\"].count().sort_values(by=\"trans_num\", ascending=sort_order),\n",
    "        x=\"trans_num\",\n",
    "        y=feature,\n",
    "        color=\"trans_num\",\n",
    "        color_continuous_scale=\"Tealgrn\",\n",
    "        text_auto='.2s',\n",
    "        title=f\"Total Transactions by {feature} ({filter_label})\"\n",
    "        )\n",
    "        .update_xaxes(\n",
    "        title =f\"Total Transactions\")\n",
    "        .update_layout(\n",
    "        title = {\n",
    "            'x': 0.12,\n",
    "            'y': .85\n",
    "        },\n",
    "        coloraxis_showscale=False,\n",
    "        plot_bgcolor='rgba(15, 15, 15, 0)',\n",
    "        paper_bgcolor='rgba(15, 15, 15, 0.5)'\n",
    "        )\n",
    "    )\n",
    "\n",
    "    # * Plot the histogram\n",
    "    histogram = (\n",
    "    px.histogram(\n",
    "        df.groupby(\"age\", as_index=False)['trans_num'].count(),\n",
    "        x=\"age\",\n",
    "        y=\"trans_num\",\n",
    "        title=f\"Destribution of Transactions by Age ({filter_label})\"\n",
    "        )\n",
    "        .update_traces(marker_color='rgba(49, 252, 3, 0.6)', marker_line_color='#2ad104',\n",
    "                       marker_line_width=1.5,\n",
    "                       opacity=0.6)\n",
    "        .update_layout(\n",
    "        title = {\n",
    "            \"x\": 0.075,\n",
    "            \"y\": .85\n",
    "        },\n",
    "        plot_bgcolor='rgba(15, 15, 15, 0)',\n",
    "        paper_bgcolor='rgba(15, 15, 15, 0.5)')\n",
    "    )\n",
    "\n",
    "    # * Plot the pie chart\n",
    "    pie = (\n",
    "        px.pie(\n",
    "        df.groupby(\"gender\", as_index=False)[\"trans_num\"].count(),\n",
    "        values=\"trans_num\",\n",
    "        names=\"gender\",\n",
    "        hole=0.46,\n",
    "        color_discrete_sequence=['rgba(252, 3, 3, 0.7)', 'rgba(49, 252, 3, 0.6)'])\n",
    "        .update_layout(\n",
    "        title_text=f\"Transactions Breakdown ({filter_label})\",\n",
    "        annotations=[dict(text='Gender %',\n",
    "                     x=0.5,\n",
    "                     y=0.5,\n",
    "                     font_size=20,\n",
    "                     showarrow=False)],\n",
    "        title = {\n",
    "            \"x\": 0.48\n",
    "        },\n",
    "        plot_bgcolor='rgba(15, 15, 15, 0)',\n",
    "        paper_bgcolor='rgba(15, 15, 15, 0.5)')\n",
    "    )\n",
    "\n",
    "    # * Plot the scatter_mapbox\n",
    "    map_scatter = (\n",
    "        px.scatter_mapbox(\n",
    "        df.groupby([\"city\", \"lat\", \"long\"])[\"trans_num\"].count().reset_index(),\n",
    "        lat=\"lat\",\n",
    "        lon=\"long\",\n",
    "        size=\"trans_num\",\n",
    "        color=\"trans_num\",\n",
    "        color_continuous_scale=px.colors.sequential.Jet,\n",
    "        zoom=4.5,\n",
    "        center=dict(\n",
    "        lat=37.9931,\n",
    "        lon=-100.9893\n",
    "        ),\n",
    "        mapbox_style=\"carto-darkmatter\",\n",
    "        title=f\"Destribution of Transactions ({filter_label})\",\n",
    "        hover_data=[\"city\"],\n",
    "        hover_name=\"city\",\n",
    "        )\n",
    "        .update_layout(\n",
    "        title={\n",
    "            \"x\":0.038,\n",
    "            \"y\":.85\n",
    "        },\n",
    "        coloraxis_colorbar = dict(\n",
    "        thicknessmode=\"pixels\",\n",
    "        thickness=15,\n",
    "        title=\"Count\"\n",
    "        ),\n",
    "        plot_bgcolor='rgba(15, 15, 15, 0)',\n",
    "        paper_bgcolor='rgba(15, 15, 15, 0.5)')\n",
    "    )\n",
    "\n",
    "\n",
    "    return header, bar, histogram, pie, map_scatter\n",
    "\n",
    "if __name__ == \"__main__\":\n",
    "    app.run_server(debug=True, port=1991, mode=\"inline\")"
   ]
  },
  {
   "cell_type": "code",
   "execution_count": null,
   "metadata": {},
   "outputs": [],
   "source": [
    "# fraud_df.groupby(\"category\", as_index=False)[\"trans_num\"].sum().sort_values(by=\"trans_num\", ascending=True)"
   ]
  },
  {
   "cell_type": "code",
   "execution_count": null,
   "metadata": {},
   "outputs": [],
   "source": []
  }
 ],
 "metadata": {
  "kernelspec": {
   "display_name": "dev",
   "language": "python",
   "name": "python3"
  },
  "language_info": {
   "codemirror_mode": {
    "name": "ipython",
    "version": 3
   },
   "file_extension": ".py",
   "mimetype": "text/x-python",
   "name": "python",
   "nbconvert_exporter": "python",
   "pygments_lexer": "ipython3",
   "version": "3.10.13"
  },
  "orig_nbformat": 4
 },
 "nbformat": 4,
 "nbformat_minor": 2
}
